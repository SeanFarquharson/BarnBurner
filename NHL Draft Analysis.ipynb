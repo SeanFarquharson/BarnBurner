{
 "cells": [
  {
   "cell_type": "markdown",
   "id": "4733a954",
   "metadata": {},
   "source": [
    "Analyzing National Hockey League (NHL) Draft Data\n",
    "\n",
    "The annual NHL draft if one of the most impotant times of the year for each and every team in the NHL. There are 7 rounds with 32 players selected in each round, for a total of 224 players. Each and every selection is of extreme importance and will have a great impact on the success of the teams moving forward. These players can be developed into full-time NHL players, the players or the draft pick may be traded, or the player draftd may never get the chance to play in the league. \n",
    "\n",
    "Some of the greatest players to have played in the NHL have been selected in later rounds of the NHL draft. As a result, there is much work to be done in terms of selecting players in the NHL draft. In this project, we will work toward identifying key features that describe a \"successful\" NHL draft pick. We use historical NHL draft data that was uploaded as an open source to GitHub by Oliver Schulte. "
   ]
  },
  {
   "cell_type": "code",
   "execution_count": 492,
   "id": "69ecbad5",
   "metadata": {},
   "outputs": [],
   "source": [
    "import numpy as np \n",
    "import pandas as pd \n",
    "import seaborn as sns\n",
    "%matplotlib inline\n",
    "from matplotlib import pyplot as plt\n",
    "from matplotlib import style\n",
    "from sklearn import linear_model\n",
    "from sklearn.linear_model import LogisticRegression\n",
    "from sklearn.ensemble import RandomForestClassifier\n",
    "from sklearn.linear_model import Perceptron\n",
    "from sklearn.linear_model import SGDClassifier\n",
    "from sklearn.tree import DecisionTreeClassifier\n",
    "from sklearn.neighbors import KNeighborsClassifier\n",
    "from sklearn.svm import SVC, LinearSVC\n",
    "from sklearn.naive_bayes import GaussianNB"
   ]
  },
  {
   "cell_type": "code",
   "execution_count": 493,
   "id": "c8b520ae",
   "metadata": {},
   "outputs": [],
   "source": [
    "draft_data = pd.read_csv (r'C:\\Users\\seanf\\OneDrive\\Documents\\SUMMER RESEARCH PROJECT\\data\\playerstats.csv')"
   ]
  },
  {
   "cell_type": "code",
   "execution_count": 494,
   "id": "cfe0d687",
   "metadata": {
    "scrolled": true
   },
   "outputs": [
    {
     "name": "stdout",
     "output_type": "stream",
     "text": [
      "           id       PlayerName  DraftAge     Country country_group  Height  \\\n",
      "0       14643       A.J. Jenks        18         USA           USA      74   \n",
      "1       11595      A.J. Thelen        18         USA           USA      75   \n",
      "2       11601   Aaron Boogaard        18      Canada           CAN      75   \n",
      "3     8471451     Aaron Gagnon        18         CAN           CAN      71   \n",
      "4       55441     Aaron Gionet        18      Canada           CAN      74   \n",
      "...       ...              ...       ...         ...           ...     ...   \n",
      "2219    10870      Zbynek Irgl        20  Czech Rep.          EURO      72   \n",
      "2220    57300     Zbynek Novak        18  Czech Rep.          EURO      75   \n",
      "2221     9235  Zdenek Bahensky        18  Czech Rep.          EURO      74   \n",
      "2222  8467941    Zdenek Blatny        18         CZE          EURO      73   \n",
      "2223  8468717    Zdenek Kutlak        20         CZE          EURO      75   \n",
      "\n",
      "      Weight Position  DraftYear  Overall  ...  rs_PIM  rs_PlusMinus  po_GP  \\\n",
      "0        205        C       2008      100  ...      94           -13      4   \n",
      "1        212        D       2004       12  ...      50            16      0   \n",
      "2        220        R       2004      175  ...      57             1      6   \n",
      "3        186        C       2004      240  ...      39            18      0   \n",
      "4        205        D       2000      191  ...     243             8      4   \n",
      "...      ...      ...        ...      ...  ...     ...           ...    ...   \n",
      "2219     194        R       2000      197  ...      18           -15      0   \n",
      "2220     254        L       2001      191  ...      30            -4      3   \n",
      "2221     190        R       2004       73  ...     224            14      2   \n",
      "2222     195        L       1999       68  ...      25             0     11   \n",
      "2223     210        D       2000      237  ...      30             0      3   \n",
      "\n",
      "      po_G  po_A  po_P  po_PIM  sum_7yr_GP  sum_7yr_TOI  GP_greater_than_0  \n",
      "0        1     0     1       4           0            0                 no  \n",
      "1        0     0     0       0           0            0                 no  \n",
      "2        0     0     0       8           0            0                 no  \n",
      "3        0     0     0       0          21          171                yes  \n",
      "4        0     0     0       8           0            0                 no  \n",
      "...    ...   ...   ...     ...         ...          ...                ...  \n",
      "2219     0     0     0       0           0            0                 no  \n",
      "2220     1     0     1       2           0            0                 no  \n",
      "2221     1     1     2      14           0            0                 no  \n",
      "2222     4     0     4      24          25          235                yes  \n",
      "2223     0     0     0       2          16          205                yes  \n",
      "\n",
      "[2224 rows x 25 columns]\n"
     ]
    }
   ],
   "source": [
    "print(draft_data)"
   ]
  },
  {
   "cell_type": "markdown",
   "id": "a206ff1d",
   "metadata": {},
   "source": [
    "We will remove columns that are not going to be useful for our analysis. id, PlayerName, Country, Overall, and DraftYear are removed with the code below."
   ]
  },
  {
   "cell_type": "code",
   "execution_count": 495,
   "id": "d199d1b3",
   "metadata": {},
   "outputs": [],
   "source": [
    "draft_data=draft_data.drop(['PlayerName','Country','Overall','DraftYear'], axis=1)"
   ]
  },
  {
   "cell_type": "code",
   "execution_count": 496,
   "id": "49d156e1",
   "metadata": {},
   "outputs": [
    {
     "name": "stdout",
     "output_type": "stream",
     "text": [
      "      GP_greater_than_0       id  DraftAge country_group  Height  Weight  \\\n",
      "0                     0    14643        18           USA      74     205   \n",
      "1                     0    11595        18           USA      75     212   \n",
      "2                     0    11601        18           CAN      75     220   \n",
      "3                     1  8471451        18           CAN      71     186   \n",
      "4                     0    55441        18           CAN      74     205   \n",
      "...                 ...      ...       ...           ...     ...     ...   \n",
      "2219                  0    10870        20          EURO      72     194   \n",
      "2220                  0    57300        18          EURO      75     254   \n",
      "2221                  0     9235        18          EURO      74     190   \n",
      "2222                  1  8467941        18          EURO      73     195   \n",
      "2223                  1  8468717        20          EURO      75     210   \n",
      "\n",
      "     Position  CSS_rank  rs_GP  rs_G  ...  rs_P  rs_PIM  rs_PlusMinus  po_GP  \\\n",
      "0           C        20     68    26  ...    55      94           -13      4   \n",
      "1           D        11     41    11  ...    29      50            16      0   \n",
      "2           R       232     35     3  ...     5      57             1      6   \n",
      "3           C       232     70    21  ...    39      39            18      0   \n",
      "4           D        89     68     5  ...    11     243             8      4   \n",
      "...       ...       ...    ...   ...  ...   ...     ...           ...    ...   \n",
      "2219        R        68     55     9  ...    15      18           -15      0   \n",
      "2220        L        72     51    10  ...    20      30            -4      3   \n",
      "2221        R        24     75    19  ...    43     224            14      2   \n",
      "2222        L        36     44    18  ...    33      25             0     11   \n",
      "2223        D        74     50     7  ...    10      30             0      3   \n",
      "\n",
      "      po_G  po_A  po_P  po_PIM  sum_7yr_GP  sum_7yr_TOI  \n",
      "0        1     0     1       4           0            0  \n",
      "1        0     0     0       0           0            0  \n",
      "2        0     0     0       8           0            0  \n",
      "3        0     0     0       0          21          171  \n",
      "4        0     0     0       8           0            0  \n",
      "...    ...   ...   ...     ...         ...          ...  \n",
      "2219     0     0     0       0           0            0  \n",
      "2220     1     0     1       2           0            0  \n",
      "2221     1     1     2      14           0            0  \n",
      "2222     4     0     4      24          25          235  \n",
      "2223     0     0     0       2          16          205  \n",
      "\n",
      "[2224 rows x 21 columns]\n"
     ]
    }
   ],
   "source": [
    "#convert GP_greater_than_0 to binary 0-No 1-Yes\n",
    "draft_data_1=pd.get_dummies(draft_data[\"GP_greater_than_0\"])\n",
    "draft_data_2=pd.concat((draft_data_1, draft_data), axis=1)\n",
    "draft_data_2=draft_data_2.drop([\"GP_greater_than_0\"], axis=1)\n",
    "draft_data_2=draft_data_2.drop([\"no\"], axis=1)\n",
    "draft_data_v=draft_data_2.rename(columns={\"yes\": \"GP_greater_than_0\"})\n",
    "\n",
    "print(draft_data_v)"
   ]
  },
  {
   "cell_type": "code",
   "execution_count": 497,
   "id": "9f857484",
   "metadata": {},
   "outputs": [],
   "source": [
    "from sklearn.model_selection import train_test_split\n",
    "\n",
    "train, test = train_test_split(draft_data_v, test_size=0.3, random_state=5)"
   ]
  },
  {
   "cell_type": "code",
   "execution_count": 498,
   "id": "55e89379",
   "metadata": {},
   "outputs": [
    {
     "name": "stdout",
     "output_type": "stream",
     "text": [
      "<class 'pandas.core.frame.DataFrame'>\n",
      "Int64Index: 1556 entries, 334 to 1725\n",
      "Data columns (total 21 columns):\n",
      " #   Column             Non-Null Count  Dtype \n",
      "---  ------             --------------  ----- \n",
      " 0   GP_greater_than_0  1556 non-null   uint8 \n",
      " 1   id                 1556 non-null   int64 \n",
      " 2   DraftAge           1556 non-null   int64 \n",
      " 3   country_group      1556 non-null   object\n",
      " 4   Height             1556 non-null   int64 \n",
      " 5   Weight             1556 non-null   int64 \n",
      " 6   Position           1556 non-null   object\n",
      " 7   CSS_rank           1556 non-null   int64 \n",
      " 8   rs_GP              1556 non-null   int64 \n",
      " 9   rs_G               1556 non-null   int64 \n",
      " 10  rs_A               1556 non-null   int64 \n",
      " 11  rs_P               1556 non-null   int64 \n",
      " 12  rs_PIM             1556 non-null   int64 \n",
      " 13  rs_PlusMinus       1556 non-null   int64 \n",
      " 14  po_GP              1556 non-null   int64 \n",
      " 15  po_G               1556 non-null   int64 \n",
      " 16  po_A               1556 non-null   int64 \n",
      " 17  po_P               1556 non-null   int64 \n",
      " 18  po_PIM             1556 non-null   int64 \n",
      " 19  sum_7yr_GP         1556 non-null   int64 \n",
      " 20  sum_7yr_TOI        1556 non-null   int64 \n",
      "dtypes: int64(18), object(2), uint8(1)\n",
      "memory usage: 256.8+ KB\n",
      "<class 'pandas.core.frame.DataFrame'>\n",
      "Int64Index: 668 entries, 219 to 1701\n",
      "Data columns (total 21 columns):\n",
      " #   Column             Non-Null Count  Dtype \n",
      "---  ------             --------------  ----- \n",
      " 0   GP_greater_than_0  668 non-null    uint8 \n",
      " 1   id                 668 non-null    int64 \n",
      " 2   DraftAge           668 non-null    int64 \n",
      " 3   country_group      668 non-null    object\n",
      " 4   Height             668 non-null    int64 \n",
      " 5   Weight             668 non-null    int64 \n",
      " 6   Position           668 non-null    object\n",
      " 7   CSS_rank           668 non-null    int64 \n",
      " 8   rs_GP              668 non-null    int64 \n",
      " 9   rs_G               668 non-null    int64 \n",
      " 10  rs_A               668 non-null    int64 \n",
      " 11  rs_P               668 non-null    int64 \n",
      " 12  rs_PIM             668 non-null    int64 \n",
      " 13  rs_PlusMinus       668 non-null    int64 \n",
      " 14  po_GP              668 non-null    int64 \n",
      " 15  po_G               668 non-null    int64 \n",
      " 16  po_A               668 non-null    int64 \n",
      " 17  po_P               668 non-null    int64 \n",
      " 18  po_PIM             668 non-null    int64 \n",
      " 19  sum_7yr_GP         668 non-null    int64 \n",
      " 20  sum_7yr_TOI        668 non-null    int64 \n",
      "dtypes: int64(18), object(2), uint8(1)\n",
      "memory usage: 110.2+ KB\n"
     ]
    }
   ],
   "source": [
    "train.info()\n",
    "test.info()"
   ]
  },
  {
   "cell_type": "markdown",
   "id": "319e1bd0",
   "metadata": {},
   "source": [
    "Variable Descriptions:\n",
    "\n",
    "\n",
    "DraftAge: Age at which player was drafted\n",
    "\n",
    "country_group: EURO, USA, or CAN\n",
    "\n",
    "Height: Player height\n",
    "\n",
    "Weight: Player weight\n",
    "\n",
    "Position: Players position\n",
    "\n",
    "CSS_rank: NHL central scouting rank\n",
    "\n",
    "*All stats below are player stats from draft year*\n",
    "\n",
    "rs_GP: regular season games okayed\n",
    "\n",
    "rs_G: regular season goals\n",
    "\n",
    "rs_A: regular season assists\n",
    "\n",
    "rs_P: regular season points\n",
    "\n",
    "rs_PIM: regular season penalty minutes\n",
    "\n",
    "rs_PlusMinus: regular season plus/minus\n",
    "\n",
    "po_GP: playoff games played\n",
    "\n",
    "po_G: playoff goals\n",
    "\n",
    "po_A: playoff assists\n",
    "\n",
    "po_P: playoff points\n",
    "\n",
    "po_PIM: playoff penalty minutes \n",
    "\n",
    "\n",
    "\n",
    "sum_7yr_GP: total NHL games played 7 years after being drafted\n",
    "\n",
    "sum_7yr_TOI: total NHL time on ice 7 years after being drafted\n",
    "\n",
    "GP_greater_than_0: Drafted player has played in an NHL game 7 years after being drafted? (Yes-1 or No-0)"
   ]
  },
  {
   "cell_type": "code",
   "execution_count": 499,
   "id": "06e295bc",
   "metadata": {},
   "outputs": [
    {
     "data": {
      "text/html": [
       "<div>\n",
       "<style scoped>\n",
       "    .dataframe tbody tr th:only-of-type {\n",
       "        vertical-align: middle;\n",
       "    }\n",
       "\n",
       "    .dataframe tbody tr th {\n",
       "        vertical-align: top;\n",
       "    }\n",
       "\n",
       "    .dataframe thead th {\n",
       "        text-align: right;\n",
       "    }\n",
       "</style>\n",
       "<table border=\"1\" class=\"dataframe\">\n",
       "  <thead>\n",
       "    <tr style=\"text-align: right;\">\n",
       "      <th></th>\n",
       "      <th>GP_greater_than_0</th>\n",
       "      <th>id</th>\n",
       "      <th>DraftAge</th>\n",
       "      <th>Height</th>\n",
       "      <th>Weight</th>\n",
       "      <th>CSS_rank</th>\n",
       "      <th>rs_GP</th>\n",
       "      <th>rs_G</th>\n",
       "      <th>rs_A</th>\n",
       "      <th>rs_P</th>\n",
       "      <th>rs_PIM</th>\n",
       "      <th>rs_PlusMinus</th>\n",
       "      <th>po_GP</th>\n",
       "      <th>po_G</th>\n",
       "      <th>po_A</th>\n",
       "      <th>po_P</th>\n",
       "      <th>po_PIM</th>\n",
       "      <th>sum_7yr_GP</th>\n",
       "      <th>sum_7yr_TOI</th>\n",
       "    </tr>\n",
       "  </thead>\n",
       "  <tbody>\n",
       "    <tr>\n",
       "      <th>count</th>\n",
       "      <td>1556.000000</td>\n",
       "      <td>1.556000e+03</td>\n",
       "      <td>1556.000000</td>\n",
       "      <td>1556.000000</td>\n",
       "      <td>1556.000000</td>\n",
       "      <td>1556.000000</td>\n",
       "      <td>1556.000000</td>\n",
       "      <td>1556.000000</td>\n",
       "      <td>1556.000000</td>\n",
       "      <td>1556.000000</td>\n",
       "      <td>1556.000000</td>\n",
       "      <td>1556.000000</td>\n",
       "      <td>1556.000000</td>\n",
       "      <td>1556.000000</td>\n",
       "      <td>1556.000000</td>\n",
       "      <td>1556.000000</td>\n",
       "      <td>1556.000000</td>\n",
       "      <td>1556.000000</td>\n",
       "      <td>1556.000000</td>\n",
       "    </tr>\n",
       "    <tr>\n",
       "      <th>mean</th>\n",
       "      <td>0.430591</td>\n",
       "      <td>3.751092e+06</td>\n",
       "      <td>18.858612</td>\n",
       "      <td>73.359897</td>\n",
       "      <td>202.233290</td>\n",
       "      <td>92.678663</td>\n",
       "      <td>53.005784</td>\n",
       "      <td>14.914524</td>\n",
       "      <td>21.827121</td>\n",
       "      <td>36.739075</td>\n",
       "      <td>66.865681</td>\n",
       "      <td>2.073907</td>\n",
       "      <td>5.453085</td>\n",
       "      <td>1.374036</td>\n",
       "      <td>2.052057</td>\n",
       "      <td>3.426093</td>\n",
       "      <td>6.572622</td>\n",
       "      <td>59.672879</td>\n",
       "      <td>948.912596</td>\n",
       "    </tr>\n",
       "    <tr>\n",
       "      <th>std</th>\n",
       "      <td>0.495318</td>\n",
       "      <td>4.197797e+06</td>\n",
       "      <td>1.457853</td>\n",
       "      <td>1.988465</td>\n",
       "      <td>15.363805</td>\n",
       "      <td>72.409843</td>\n",
       "      <td>16.581572</td>\n",
       "      <td>12.619426</td>\n",
       "      <td>16.171717</td>\n",
       "      <td>27.084530</td>\n",
       "      <td>53.229594</td>\n",
       "      <td>10.695087</td>\n",
       "      <td>6.269283</td>\n",
       "      <td>2.692888</td>\n",
       "      <td>3.720870</td>\n",
       "      <td>5.999062</td>\n",
       "      <td>10.353333</td>\n",
       "      <td>110.060079</td>\n",
       "      <td>1956.963298</td>\n",
       "    </tr>\n",
       "    <tr>\n",
       "      <th>min</th>\n",
       "      <td>0.000000</td>\n",
       "      <td>9.000000e+00</td>\n",
       "      <td>18.000000</td>\n",
       "      <td>64.000000</td>\n",
       "      <td>154.000000</td>\n",
       "      <td>1.000000</td>\n",
       "      <td>0.000000</td>\n",
       "      <td>0.000000</td>\n",
       "      <td>0.000000</td>\n",
       "      <td>0.000000</td>\n",
       "      <td>0.000000</td>\n",
       "      <td>-69.000000</td>\n",
       "      <td>0.000000</td>\n",
       "      <td>0.000000</td>\n",
       "      <td>0.000000</td>\n",
       "      <td>0.000000</td>\n",
       "      <td>0.000000</td>\n",
       "      <td>0.000000</td>\n",
       "      <td>0.000000</td>\n",
       "    </tr>\n",
       "    <tr>\n",
       "      <th>25%</th>\n",
       "      <td>0.000000</td>\n",
       "      <td>1.249075e+04</td>\n",
       "      <td>18.000000</td>\n",
       "      <td>72.000000</td>\n",
       "      <td>192.000000</td>\n",
       "      <td>30.750000</td>\n",
       "      <td>42.000000</td>\n",
       "      <td>5.000000</td>\n",
       "      <td>10.000000</td>\n",
       "      <td>16.000000</td>\n",
       "      <td>28.000000</td>\n",
       "      <td>0.000000</td>\n",
       "      <td>0.000000</td>\n",
       "      <td>0.000000</td>\n",
       "      <td>0.000000</td>\n",
       "      <td>0.000000</td>\n",
       "      <td>0.000000</td>\n",
       "      <td>0.000000</td>\n",
       "      <td>0.000000</td>\n",
       "    </tr>\n",
       "    <tr>\n",
       "      <th>50%</th>\n",
       "      <td>0.000000</td>\n",
       "      <td>5.842700e+04</td>\n",
       "      <td>18.000000</td>\n",
       "      <td>73.000000</td>\n",
       "      <td>201.000000</td>\n",
       "      <td>78.000000</td>\n",
       "      <td>56.000000</td>\n",
       "      <td>12.000000</td>\n",
       "      <td>18.000000</td>\n",
       "      <td>31.000000</td>\n",
       "      <td>55.000000</td>\n",
       "      <td>0.000000</td>\n",
       "      <td>4.000000</td>\n",
       "      <td>0.000000</td>\n",
       "      <td>0.000000</td>\n",
       "      <td>1.000000</td>\n",
       "      <td>2.000000</td>\n",
       "      <td>0.000000</td>\n",
       "      <td>0.000000</td>\n",
       "    </tr>\n",
       "    <tr>\n",
       "      <th>75%</th>\n",
       "      <td>1.000000</td>\n",
       "      <td>8.470042e+06</td>\n",
       "      <td>19.000000</td>\n",
       "      <td>75.000000</td>\n",
       "      <td>212.000000</td>\n",
       "      <td>136.000000</td>\n",
       "      <td>66.000000</td>\n",
       "      <td>22.000000</td>\n",
       "      <td>31.000000</td>\n",
       "      <td>52.000000</td>\n",
       "      <td>90.250000</td>\n",
       "      <td>4.000000</td>\n",
       "      <td>9.000000</td>\n",
       "      <td>2.000000</td>\n",
       "      <td>3.000000</td>\n",
       "      <td>5.000000</td>\n",
       "      <td>10.000000</td>\n",
       "      <td>66.000000</td>\n",
       "      <td>717.250000</td>\n",
       "    </tr>\n",
       "    <tr>\n",
       "      <th>max</th>\n",
       "      <td>1.000000</td>\n",
       "      <td>8.474762e+06</td>\n",
       "      <td>32.000000</td>\n",
       "      <td>81.000000</td>\n",
       "      <td>265.000000</td>\n",
       "      <td>250.000000</td>\n",
       "      <td>90.000000</td>\n",
       "      <td>78.000000</td>\n",
       "      <td>110.000000</td>\n",
       "      <td>188.000000</td>\n",
       "      <td>408.000000</td>\n",
       "      <td>70.000000</td>\n",
       "      <td>30.000000</td>\n",
       "      <td>22.000000</td>\n",
       "      <td>30.000000</td>\n",
       "      <td>46.000000</td>\n",
       "      <td>81.000000</td>\n",
       "      <td>524.000000</td>\n",
       "      <td>13488.000000</td>\n",
       "    </tr>\n",
       "  </tbody>\n",
       "</table>\n",
       "</div>"
      ],
      "text/plain": [
       "       GP_greater_than_0            id     DraftAge       Height       Weight  \\\n",
       "count        1556.000000  1.556000e+03  1556.000000  1556.000000  1556.000000   \n",
       "mean            0.430591  3.751092e+06    18.858612    73.359897   202.233290   \n",
       "std             0.495318  4.197797e+06     1.457853     1.988465    15.363805   \n",
       "min             0.000000  9.000000e+00    18.000000    64.000000   154.000000   \n",
       "25%             0.000000  1.249075e+04    18.000000    72.000000   192.000000   \n",
       "50%             0.000000  5.842700e+04    18.000000    73.000000   201.000000   \n",
       "75%             1.000000  8.470042e+06    19.000000    75.000000   212.000000   \n",
       "max             1.000000  8.474762e+06    32.000000    81.000000   265.000000   \n",
       "\n",
       "          CSS_rank        rs_GP         rs_G         rs_A         rs_P  \\\n",
       "count  1556.000000  1556.000000  1556.000000  1556.000000  1556.000000   \n",
       "mean     92.678663    53.005784    14.914524    21.827121    36.739075   \n",
       "std      72.409843    16.581572    12.619426    16.171717    27.084530   \n",
       "min       1.000000     0.000000     0.000000     0.000000     0.000000   \n",
       "25%      30.750000    42.000000     5.000000    10.000000    16.000000   \n",
       "50%      78.000000    56.000000    12.000000    18.000000    31.000000   \n",
       "75%     136.000000    66.000000    22.000000    31.000000    52.000000   \n",
       "max     250.000000    90.000000    78.000000   110.000000   188.000000   \n",
       "\n",
       "            rs_PIM  rs_PlusMinus        po_GP         po_G         po_A  \\\n",
       "count  1556.000000   1556.000000  1556.000000  1556.000000  1556.000000   \n",
       "mean     66.865681      2.073907     5.453085     1.374036     2.052057   \n",
       "std      53.229594     10.695087     6.269283     2.692888     3.720870   \n",
       "min       0.000000    -69.000000     0.000000     0.000000     0.000000   \n",
       "25%      28.000000      0.000000     0.000000     0.000000     0.000000   \n",
       "50%      55.000000      0.000000     4.000000     0.000000     0.000000   \n",
       "75%      90.250000      4.000000     9.000000     2.000000     3.000000   \n",
       "max     408.000000     70.000000    30.000000    22.000000    30.000000   \n",
       "\n",
       "              po_P       po_PIM   sum_7yr_GP   sum_7yr_TOI  \n",
       "count  1556.000000  1556.000000  1556.000000   1556.000000  \n",
       "mean      3.426093     6.572622    59.672879    948.912596  \n",
       "std       5.999062    10.353333   110.060079   1956.963298  \n",
       "min       0.000000     0.000000     0.000000      0.000000  \n",
       "25%       0.000000     0.000000     0.000000      0.000000  \n",
       "50%       1.000000     2.000000     0.000000      0.000000  \n",
       "75%       5.000000    10.000000    66.000000    717.250000  \n",
       "max      46.000000    81.000000   524.000000  13488.000000  "
      ]
     },
     "execution_count": 499,
     "metadata": {},
     "output_type": "execute_result"
    }
   ],
   "source": [
    "train.describe()"
   ]
  },
  {
   "cell_type": "code",
   "execution_count": 500,
   "id": "b6b75f92",
   "metadata": {},
   "outputs": [
    {
     "data": {
      "text/html": [
       "<div>\n",
       "<style scoped>\n",
       "    .dataframe tbody tr th:only-of-type {\n",
       "        vertical-align: middle;\n",
       "    }\n",
       "\n",
       "    .dataframe tbody tr th {\n",
       "        vertical-align: top;\n",
       "    }\n",
       "\n",
       "    .dataframe thead th {\n",
       "        text-align: right;\n",
       "    }\n",
       "</style>\n",
       "<table border=\"1\" class=\"dataframe\">\n",
       "  <thead>\n",
       "    <tr style=\"text-align: right;\">\n",
       "      <th></th>\n",
       "      <th>GP_greater_than_0</th>\n",
       "      <th>id</th>\n",
       "      <th>DraftAge</th>\n",
       "      <th>Height</th>\n",
       "      <th>Weight</th>\n",
       "      <th>CSS_rank</th>\n",
       "      <th>rs_GP</th>\n",
       "      <th>rs_G</th>\n",
       "      <th>rs_A</th>\n",
       "      <th>rs_P</th>\n",
       "      <th>rs_PIM</th>\n",
       "      <th>rs_PlusMinus</th>\n",
       "      <th>po_GP</th>\n",
       "      <th>po_G</th>\n",
       "      <th>po_A</th>\n",
       "      <th>po_P</th>\n",
       "      <th>po_PIM</th>\n",
       "      <th>sum_7yr_GP</th>\n",
       "      <th>sum_7yr_TOI</th>\n",
       "    </tr>\n",
       "  </thead>\n",
       "  <tbody>\n",
       "    <tr>\n",
       "      <th>count</th>\n",
       "      <td>668.000000</td>\n",
       "      <td>6.680000e+02</td>\n",
       "      <td>668.000000</td>\n",
       "      <td>668.000000</td>\n",
       "      <td>668.000000</td>\n",
       "      <td>668.000000</td>\n",
       "      <td>668.000000</td>\n",
       "      <td>668.000000</td>\n",
       "      <td>668.000000</td>\n",
       "      <td>668.000000</td>\n",
       "      <td>668.000000</td>\n",
       "      <td>668.000000</td>\n",
       "      <td>668.000000</td>\n",
       "      <td>668.000000</td>\n",
       "      <td>668.000000</td>\n",
       "      <td>668.000000</td>\n",
       "      <td>668.000000</td>\n",
       "      <td>668.000000</td>\n",
       "      <td>668.000000</td>\n",
       "    </tr>\n",
       "    <tr>\n",
       "      <th>mean</th>\n",
       "      <td>0.440120</td>\n",
       "      <td>3.828168e+06</td>\n",
       "      <td>18.983533</td>\n",
       "      <td>73.345808</td>\n",
       "      <td>202.356287</td>\n",
       "      <td>98.269461</td>\n",
       "      <td>52.529940</td>\n",
       "      <td>14.661677</td>\n",
       "      <td>21.118263</td>\n",
       "      <td>35.778443</td>\n",
       "      <td>68.288922</td>\n",
       "      <td>1.667665</td>\n",
       "      <td>5.547904</td>\n",
       "      <td>1.318862</td>\n",
       "      <td>2.023952</td>\n",
       "      <td>3.342814</td>\n",
       "      <td>6.652695</td>\n",
       "      <td>56.538922</td>\n",
       "      <td>887.320359</td>\n",
       "    </tr>\n",
       "    <tr>\n",
       "      <th>std</th>\n",
       "      <td>0.496773</td>\n",
       "      <td>4.207441e+06</td>\n",
       "      <td>1.673866</td>\n",
       "      <td>2.016096</td>\n",
       "      <td>15.684349</td>\n",
       "      <td>73.437114</td>\n",
       "      <td>16.437898</td>\n",
       "      <td>12.332326</td>\n",
       "      <td>15.262209</td>\n",
       "      <td>26.001707</td>\n",
       "      <td>57.207783</td>\n",
       "      <td>10.246016</td>\n",
       "      <td>6.197822</td>\n",
       "      <td>2.421506</td>\n",
       "      <td>3.415639</td>\n",
       "      <td>5.411756</td>\n",
       "      <td>10.343097</td>\n",
       "      <td>106.981804</td>\n",
       "      <td>1876.003043</td>\n",
       "    </tr>\n",
       "    <tr>\n",
       "      <th>min</th>\n",
       "      <td>0.000000</td>\n",
       "      <td>7.100000e+01</td>\n",
       "      <td>18.000000</td>\n",
       "      <td>67.000000</td>\n",
       "      <td>164.000000</td>\n",
       "      <td>1.000000</td>\n",
       "      <td>0.000000</td>\n",
       "      <td>0.000000</td>\n",
       "      <td>0.000000</td>\n",
       "      <td>0.000000</td>\n",
       "      <td>0.000000</td>\n",
       "      <td>-39.000000</td>\n",
       "      <td>0.000000</td>\n",
       "      <td>0.000000</td>\n",
       "      <td>0.000000</td>\n",
       "      <td>0.000000</td>\n",
       "      <td>0.000000</td>\n",
       "      <td>0.000000</td>\n",
       "      <td>0.000000</td>\n",
       "    </tr>\n",
       "    <tr>\n",
       "      <th>25%</th>\n",
       "      <td>0.000000</td>\n",
       "      <td>1.247200e+04</td>\n",
       "      <td>18.000000</td>\n",
       "      <td>72.000000</td>\n",
       "      <td>190.000000</td>\n",
       "      <td>32.000000</td>\n",
       "      <td>42.000000</td>\n",
       "      <td>5.000000</td>\n",
       "      <td>10.000000</td>\n",
       "      <td>16.000000</td>\n",
       "      <td>29.000000</td>\n",
       "      <td>0.000000</td>\n",
       "      <td>0.000000</td>\n",
       "      <td>0.000000</td>\n",
       "      <td>0.000000</td>\n",
       "      <td>0.000000</td>\n",
       "      <td>0.000000</td>\n",
       "      <td>0.000000</td>\n",
       "      <td>0.000000</td>\n",
       "    </tr>\n",
       "    <tr>\n",
       "      <th>50%</th>\n",
       "      <td>0.000000</td>\n",
       "      <td>5.911500e+04</td>\n",
       "      <td>18.500000</td>\n",
       "      <td>73.000000</td>\n",
       "      <td>201.000000</td>\n",
       "      <td>85.500000</td>\n",
       "      <td>55.000000</td>\n",
       "      <td>11.000000</td>\n",
       "      <td>18.000000</td>\n",
       "      <td>31.000000</td>\n",
       "      <td>53.500000</td>\n",
       "      <td>0.000000</td>\n",
       "      <td>4.000000</td>\n",
       "      <td>0.000000</td>\n",
       "      <td>0.000000</td>\n",
       "      <td>0.000000</td>\n",
       "      <td>2.000000</td>\n",
       "      <td>0.000000</td>\n",
       "      <td>0.000000</td>\n",
       "    </tr>\n",
       "    <tr>\n",
       "      <th>75%</th>\n",
       "      <td>1.000000</td>\n",
       "      <td>8.469841e+06</td>\n",
       "      <td>19.000000</td>\n",
       "      <td>75.000000</td>\n",
       "      <td>213.000000</td>\n",
       "      <td>173.500000</td>\n",
       "      <td>66.000000</td>\n",
       "      <td>21.000000</td>\n",
       "      <td>29.000000</td>\n",
       "      <td>49.000000</td>\n",
       "      <td>90.000000</td>\n",
       "      <td>3.000000</td>\n",
       "      <td>10.000000</td>\n",
       "      <td>2.000000</td>\n",
       "      <td>3.000000</td>\n",
       "      <td>5.000000</td>\n",
       "      <td>10.000000</td>\n",
       "      <td>55.500000</td>\n",
       "      <td>619.750000</td>\n",
       "    </tr>\n",
       "    <tr>\n",
       "      <th>max</th>\n",
       "      <td>1.000000</td>\n",
       "      <td>8.474744e+06</td>\n",
       "      <td>30.000000</td>\n",
       "      <td>80.000000</td>\n",
       "      <td>255.000000</td>\n",
       "      <td>250.000000</td>\n",
       "      <td>100.000000</td>\n",
       "      <td>62.000000</td>\n",
       "      <td>88.000000</td>\n",
       "      <td>139.000000</td>\n",
       "      <td>479.000000</td>\n",
       "      <td>50.000000</td>\n",
       "      <td>30.000000</td>\n",
       "      <td>17.000000</td>\n",
       "      <td>23.000000</td>\n",
       "      <td>33.000000</td>\n",
       "      <td>120.000000</td>\n",
       "      <td>471.000000</td>\n",
       "      <td>11754.000000</td>\n",
       "    </tr>\n",
       "  </tbody>\n",
       "</table>\n",
       "</div>"
      ],
      "text/plain": [
       "       GP_greater_than_0            id    DraftAge      Height      Weight  \\\n",
       "count         668.000000  6.680000e+02  668.000000  668.000000  668.000000   \n",
       "mean            0.440120  3.828168e+06   18.983533   73.345808  202.356287   \n",
       "std             0.496773  4.207441e+06    1.673866    2.016096   15.684349   \n",
       "min             0.000000  7.100000e+01   18.000000   67.000000  164.000000   \n",
       "25%             0.000000  1.247200e+04   18.000000   72.000000  190.000000   \n",
       "50%             0.000000  5.911500e+04   18.500000   73.000000  201.000000   \n",
       "75%             1.000000  8.469841e+06   19.000000   75.000000  213.000000   \n",
       "max             1.000000  8.474744e+06   30.000000   80.000000  255.000000   \n",
       "\n",
       "         CSS_rank       rs_GP        rs_G        rs_A        rs_P      rs_PIM  \\\n",
       "count  668.000000  668.000000  668.000000  668.000000  668.000000  668.000000   \n",
       "mean    98.269461   52.529940   14.661677   21.118263   35.778443   68.288922   \n",
       "std     73.437114   16.437898   12.332326   15.262209   26.001707   57.207783   \n",
       "min      1.000000    0.000000    0.000000    0.000000    0.000000    0.000000   \n",
       "25%     32.000000   42.000000    5.000000   10.000000   16.000000   29.000000   \n",
       "50%     85.500000   55.000000   11.000000   18.000000   31.000000   53.500000   \n",
       "75%    173.500000   66.000000   21.000000   29.000000   49.000000   90.000000   \n",
       "max    250.000000  100.000000   62.000000   88.000000  139.000000  479.000000   \n",
       "\n",
       "       rs_PlusMinus       po_GP        po_G        po_A        po_P  \\\n",
       "count    668.000000  668.000000  668.000000  668.000000  668.000000   \n",
       "mean       1.667665    5.547904    1.318862    2.023952    3.342814   \n",
       "std       10.246016    6.197822    2.421506    3.415639    5.411756   \n",
       "min      -39.000000    0.000000    0.000000    0.000000    0.000000   \n",
       "25%        0.000000    0.000000    0.000000    0.000000    0.000000   \n",
       "50%        0.000000    4.000000    0.000000    0.000000    0.000000   \n",
       "75%        3.000000   10.000000    2.000000    3.000000    5.000000   \n",
       "max       50.000000   30.000000   17.000000   23.000000   33.000000   \n",
       "\n",
       "           po_PIM  sum_7yr_GP   sum_7yr_TOI  \n",
       "count  668.000000  668.000000    668.000000  \n",
       "mean     6.652695   56.538922    887.320359  \n",
       "std     10.343097  106.981804   1876.003043  \n",
       "min      0.000000    0.000000      0.000000  \n",
       "25%      0.000000    0.000000      0.000000  \n",
       "50%      2.000000    0.000000      0.000000  \n",
       "75%     10.000000   55.500000    619.750000  \n",
       "max    120.000000  471.000000  11754.000000  "
      ]
     },
     "execution_count": 500,
     "metadata": {},
     "output_type": "execute_result"
    }
   ],
   "source": [
    "test.describe()"
   ]
  },
  {
   "cell_type": "markdown",
   "id": "aa27f828",
   "metadata": {},
   "source": [
    "Above we can see that 43% of players in the training-set and 44% in the test-set ended up playing in at least one NHL game. We can see that there are no missing values in our data so we don't have to worry about that. "
   ]
  },
  {
   "cell_type": "code",
   "execution_count": 501,
   "id": "f03f45d5",
   "metadata": {},
   "outputs": [
    {
     "data": {
      "text/html": [
       "<div>\n",
       "<style scoped>\n",
       "    .dataframe tbody tr th:only-of-type {\n",
       "        vertical-align: middle;\n",
       "    }\n",
       "\n",
       "    .dataframe tbody tr th {\n",
       "        vertical-align: top;\n",
       "    }\n",
       "\n",
       "    .dataframe thead th {\n",
       "        text-align: right;\n",
       "    }\n",
       "</style>\n",
       "<table border=\"1\" class=\"dataframe\">\n",
       "  <thead>\n",
       "    <tr style=\"text-align: right;\">\n",
       "      <th></th>\n",
       "      <th>GP_greater_than_0</th>\n",
       "      <th>id</th>\n",
       "      <th>DraftAge</th>\n",
       "      <th>country_group</th>\n",
       "      <th>Height</th>\n",
       "      <th>Weight</th>\n",
       "      <th>Position</th>\n",
       "      <th>CSS_rank</th>\n",
       "      <th>rs_GP</th>\n",
       "      <th>rs_G</th>\n",
       "      <th>...</th>\n",
       "      <th>rs_P</th>\n",
       "      <th>rs_PIM</th>\n",
       "      <th>rs_PlusMinus</th>\n",
       "      <th>po_GP</th>\n",
       "      <th>po_G</th>\n",
       "      <th>po_A</th>\n",
       "      <th>po_P</th>\n",
       "      <th>po_PIM</th>\n",
       "      <th>sum_7yr_GP</th>\n",
       "      <th>sum_7yr_TOI</th>\n",
       "    </tr>\n",
       "  </thead>\n",
       "  <tbody>\n",
       "    <tr>\n",
       "      <th>334</th>\n",
       "      <td>1</td>\n",
       "      <td>8469733</td>\n",
       "      <td>19</td>\n",
       "      <td>CAN</td>\n",
       "      <td>72</td>\n",
       "      <td>178</td>\n",
       "      <td>C</td>\n",
       "      <td>107</td>\n",
       "      <td>72</td>\n",
       "      <td>38</td>\n",
       "      <td>...</td>\n",
       "      <td>73</td>\n",
       "      <td>122</td>\n",
       "      <td>6</td>\n",
       "      <td>15</td>\n",
       "      <td>8</td>\n",
       "      <td>6</td>\n",
       "      <td>14</td>\n",
       "      <td>35</td>\n",
       "      <td>16</td>\n",
       "      <td>171</td>\n",
       "    </tr>\n",
       "    <tr>\n",
       "      <th>1437</th>\n",
       "      <td>0</td>\n",
       "      <td>46656</td>\n",
       "      <td>20</td>\n",
       "      <td>USA</td>\n",
       "      <td>71</td>\n",
       "      <td>196</td>\n",
       "      <td>D</td>\n",
       "      <td>103</td>\n",
       "      <td>60</td>\n",
       "      <td>7</td>\n",
       "      <td>...</td>\n",
       "      <td>37</td>\n",
       "      <td>133</td>\n",
       "      <td>0</td>\n",
       "      <td>3</td>\n",
       "      <td>0</td>\n",
       "      <td>1</td>\n",
       "      <td>1</td>\n",
       "      <td>2</td>\n",
       "      <td>0</td>\n",
       "      <td>0</td>\n",
       "    </tr>\n",
       "    <tr>\n",
       "      <th>1057</th>\n",
       "      <td>0</td>\n",
       "      <td>12653</td>\n",
       "      <td>20</td>\n",
       "      <td>EURO</td>\n",
       "      <td>74</td>\n",
       "      <td>207</td>\n",
       "      <td>C</td>\n",
       "      <td>236</td>\n",
       "      <td>45</td>\n",
       "      <td>4</td>\n",
       "      <td>...</td>\n",
       "      <td>6</td>\n",
       "      <td>47</td>\n",
       "      <td>-1</td>\n",
       "      <td>5</td>\n",
       "      <td>1</td>\n",
       "      <td>0</td>\n",
       "      <td>1</td>\n",
       "      <td>6</td>\n",
       "      <td>0</td>\n",
       "      <td>0</td>\n",
       "    </tr>\n",
       "    <tr>\n",
       "      <th>1655</th>\n",
       "      <td>0</td>\n",
       "      <td>15343</td>\n",
       "      <td>19</td>\n",
       "      <td>CAN</td>\n",
       "      <td>75</td>\n",
       "      <td>209</td>\n",
       "      <td>D</td>\n",
       "      <td>61</td>\n",
       "      <td>61</td>\n",
       "      <td>3</td>\n",
       "      <td>...</td>\n",
       "      <td>13</td>\n",
       "      <td>125</td>\n",
       "      <td>-4</td>\n",
       "      <td>7</td>\n",
       "      <td>0</td>\n",
       "      <td>2</td>\n",
       "      <td>2</td>\n",
       "      <td>4</td>\n",
       "      <td>0</td>\n",
       "      <td>0</td>\n",
       "    </tr>\n",
       "    <tr>\n",
       "      <th>1541</th>\n",
       "      <td>0</td>\n",
       "      <td>9420</td>\n",
       "      <td>19</td>\n",
       "      <td>USA</td>\n",
       "      <td>71</td>\n",
       "      <td>190</td>\n",
       "      <td>D</td>\n",
       "      <td>58</td>\n",
       "      <td>37</td>\n",
       "      <td>2</td>\n",
       "      <td>...</td>\n",
       "      <td>10</td>\n",
       "      <td>42</td>\n",
       "      <td>-3</td>\n",
       "      <td>0</td>\n",
       "      <td>0</td>\n",
       "      <td>0</td>\n",
       "      <td>0</td>\n",
       "      <td>0</td>\n",
       "      <td>0</td>\n",
       "      <td>0</td>\n",
       "    </tr>\n",
       "    <tr>\n",
       "      <th>275</th>\n",
       "      <td>1</td>\n",
       "      <td>8471321</td>\n",
       "      <td>19</td>\n",
       "      <td>CAN</td>\n",
       "      <td>76</td>\n",
       "      <td>210</td>\n",
       "      <td>D</td>\n",
       "      <td>31</td>\n",
       "      <td>71</td>\n",
       "      <td>5</td>\n",
       "      <td>...</td>\n",
       "      <td>32</td>\n",
       "      <td>49</td>\n",
       "      <td>14</td>\n",
       "      <td>7</td>\n",
       "      <td>0</td>\n",
       "      <td>0</td>\n",
       "      <td>0</td>\n",
       "      <td>6</td>\n",
       "      <td>78</td>\n",
       "      <td>1234</td>\n",
       "    </tr>\n",
       "    <tr>\n",
       "      <th>2117</th>\n",
       "      <td>0</td>\n",
       "      <td>3245</td>\n",
       "      <td>18</td>\n",
       "      <td>EURO</td>\n",
       "      <td>72</td>\n",
       "      <td>194</td>\n",
       "      <td>C</td>\n",
       "      <td>120</td>\n",
       "      <td>52</td>\n",
       "      <td>13</td>\n",
       "      <td>...</td>\n",
       "      <td>29</td>\n",
       "      <td>16</td>\n",
       "      <td>5</td>\n",
       "      <td>0</td>\n",
       "      <td>0</td>\n",
       "      <td>0</td>\n",
       "      <td>0</td>\n",
       "      <td>0</td>\n",
       "      <td>0</td>\n",
       "      <td>0</td>\n",
       "    </tr>\n",
       "    <tr>\n",
       "      <th>1130</th>\n",
       "      <td>0</td>\n",
       "      <td>12264</td>\n",
       "      <td>18</td>\n",
       "      <td>CAN</td>\n",
       "      <td>75</td>\n",
       "      <td>205</td>\n",
       "      <td>D</td>\n",
       "      <td>236</td>\n",
       "      <td>46</td>\n",
       "      <td>15</td>\n",
       "      <td>...</td>\n",
       "      <td>40</td>\n",
       "      <td>73</td>\n",
       "      <td>0</td>\n",
       "      <td>15</td>\n",
       "      <td>7</td>\n",
       "      <td>6</td>\n",
       "      <td>13</td>\n",
       "      <td>10</td>\n",
       "      <td>0</td>\n",
       "      <td>0</td>\n",
       "    </tr>\n",
       "    <tr>\n",
       "      <th>1566</th>\n",
       "      <td>0</td>\n",
       "      <td>18030</td>\n",
       "      <td>19</td>\n",
       "      <td>CAN</td>\n",
       "      <td>74</td>\n",
       "      <td>229</td>\n",
       "      <td>L</td>\n",
       "      <td>118</td>\n",
       "      <td>54</td>\n",
       "      <td>10</td>\n",
       "      <td>...</td>\n",
       "      <td>23</td>\n",
       "      <td>121</td>\n",
       "      <td>5</td>\n",
       "      <td>15</td>\n",
       "      <td>3</td>\n",
       "      <td>4</td>\n",
       "      <td>7</td>\n",
       "      <td>11</td>\n",
       "      <td>0</td>\n",
       "      <td>0</td>\n",
       "    </tr>\n",
       "    <tr>\n",
       "      <th>548</th>\n",
       "      <td>1</td>\n",
       "      <td>8469619</td>\n",
       "      <td>20</td>\n",
       "      <td>EURO</td>\n",
       "      <td>72</td>\n",
       "      <td>198</td>\n",
       "      <td>D</td>\n",
       "      <td>176</td>\n",
       "      <td>76</td>\n",
       "      <td>6</td>\n",
       "      <td>...</td>\n",
       "      <td>23</td>\n",
       "      <td>30</td>\n",
       "      <td>0</td>\n",
       "      <td>12</td>\n",
       "      <td>0</td>\n",
       "      <td>1</td>\n",
       "      <td>1</td>\n",
       "      <td>10</td>\n",
       "      <td>225</td>\n",
       "      <td>3859</td>\n",
       "    </tr>\n",
       "  </tbody>\n",
       "</table>\n",
       "<p>10 rows × 21 columns</p>\n",
       "</div>"
      ],
      "text/plain": [
       "      GP_greater_than_0       id  DraftAge country_group  Height  Weight  \\\n",
       "334                   1  8469733        19           CAN      72     178   \n",
       "1437                  0    46656        20           USA      71     196   \n",
       "1057                  0    12653        20          EURO      74     207   \n",
       "1655                  0    15343        19           CAN      75     209   \n",
       "1541                  0     9420        19           USA      71     190   \n",
       "275                   1  8471321        19           CAN      76     210   \n",
       "2117                  0     3245        18          EURO      72     194   \n",
       "1130                  0    12264        18           CAN      75     205   \n",
       "1566                  0    18030        19           CAN      74     229   \n",
       "548                   1  8469619        20          EURO      72     198   \n",
       "\n",
       "     Position  CSS_rank  rs_GP  rs_G  ...  rs_P  rs_PIM  rs_PlusMinus  po_GP  \\\n",
       "334         C       107     72    38  ...    73     122             6     15   \n",
       "1437        D       103     60     7  ...    37     133             0      3   \n",
       "1057        C       236     45     4  ...     6      47            -1      5   \n",
       "1655        D        61     61     3  ...    13     125            -4      7   \n",
       "1541        D        58     37     2  ...    10      42            -3      0   \n",
       "275         D        31     71     5  ...    32      49            14      7   \n",
       "2117        C       120     52    13  ...    29      16             5      0   \n",
       "1130        D       236     46    15  ...    40      73             0     15   \n",
       "1566        L       118     54    10  ...    23     121             5     15   \n",
       "548         D       176     76     6  ...    23      30             0     12   \n",
       "\n",
       "      po_G  po_A  po_P  po_PIM  sum_7yr_GP  sum_7yr_TOI  \n",
       "334      8     6    14      35          16          171  \n",
       "1437     0     1     1       2           0            0  \n",
       "1057     1     0     1       6           0            0  \n",
       "1655     0     2     2       4           0            0  \n",
       "1541     0     0     0       0           0            0  \n",
       "275      0     0     0       6          78         1234  \n",
       "2117     0     0     0       0           0            0  \n",
       "1130     7     6    13      10           0            0  \n",
       "1566     3     4     7      11           0            0  \n",
       "548      0     1     1      10         225         3859  \n",
       "\n",
       "[10 rows x 21 columns]"
      ]
     },
     "execution_count": 501,
     "metadata": {},
     "output_type": "execute_result"
    }
   ],
   "source": [
    "train.head(10)"
   ]
  },
  {
   "cell_type": "markdown",
   "id": "1d18ae38",
   "metadata": {},
   "source": [
    "We may note that our features have different ranges, and we may have to convert them so that the scale is similar across all features. We are also interested in the binary variable \"GP_greater_than_0\" and this will be our target variable. For this project, sum_7yr_GP and sum_7yr_TOI could also be target variables however this was investigated in another project, where I applied statistical modelling such as zero-inflated models and Hurdle models. In this project, we are more interested in the classification. "
   ]
  },
  {
   "cell_type": "code",
   "execution_count": 502,
   "id": "595a819a",
   "metadata": {},
   "outputs": [
    {
     "data": {
      "text/plain": [
       "array(['GP_greater_than_0', 'id', 'DraftAge', 'country_group', 'Height',\n",
       "       'Weight', 'Position', 'CSS_rank', 'rs_GP', 'rs_G', 'rs_A', 'rs_P',\n",
       "       'rs_PIM', 'rs_PlusMinus', 'po_GP', 'po_G', 'po_A', 'po_P',\n",
       "       'po_PIM', 'sum_7yr_GP', 'sum_7yr_TOI'], dtype=object)"
      ]
     },
     "execution_count": 502,
     "metadata": {},
     "output_type": "execute_result"
    }
   ],
   "source": [
    "train.columns.values"
   ]
  },
  {
   "cell_type": "markdown",
   "id": "82bdf8f2",
   "metadata": {},
   "source": [
    "Above we can see the features that we currently have included in our data. Firstly, we will delete \"sum_7yr_TOI\" and \"sum_7yr_GP\" since we have decided that \"GP_greater_than_0\" is our target variable. We also needed to further investigate playoff statistics since not every player will play in the playoffs. This will leave us with our target variable plus 17 features. "
   ]
  },
  {
   "cell_type": "markdown",
   "id": "235b9732",
   "metadata": {},
   "source": [
    "# EDA"
   ]
  },
  {
   "cell_type": "markdown",
   "id": "1805d139",
   "metadata": {},
   "source": [
    "### Playoff Statistics"
   ]
  },
  {
   "cell_type": "code",
   "execution_count": 503,
   "id": "d8973268",
   "metadata": {},
   "outputs": [
    {
     "name": "stderr",
     "output_type": "stream",
     "text": [
      "C:\\Users\\seanf\\Anaconda3\\lib\\site-packages\\seaborn\\distributions.py:2557: FutureWarning: `distplot` is a deprecated function and will be removed in a future version. Please adapt your code to use either `displot` (a figure-level function with similar flexibility) or `histplot` (an axes-level function for histograms).\n",
      "  warnings.warn(msg, FutureWarning)\n"
     ]
    },
    {
     "data": {
      "image/png": "[encoded data removed]",
      "text/plain": [
       "<Figure size 864x1296 with 6 Axes>"
      ]
     },
     "metadata": {
      "needs_background": "light"
     },
     "output_type": "display_data"
    }
   ],
   "source": [
    "played = 'Played in NHL'\n",
    "Nplayed = 'Did not play in NHL'\n",
    "fig, axes = plt.subplots(nrows=3, ncols=2, figsize=(12,18))\n",
    "\n",
    "ax = sns.distplot(train[train['GP_greater_than_0']==1].po_GP, bins=18, label = played, ax = axes[0,0], kde =False)\n",
    "ax = sns.distplot(train[train['GP_greater_than_0']==0].po_GP, bins=40, label = Nplayed, ax = axes[0,0], kde =False)\n",
    "ax.legend()\n",
    "ax.set_title('Playoff Games Played')\n",
    "\n",
    "ax = sns.distplot(train[train['GP_greater_than_0']==1].po_G, bins=18, label = played, ax = axes[0,1], kde = False)\n",
    "ax = sns.distplot(train[train['GP_greater_than_0']==0].po_G, bins=40, label = Nplayed, ax = axes[0,1], kde = False)\n",
    "ax.legend()\n",
    "ax.set_title('Playoff Goals')\n",
    "\n",
    "ax = sns.distplot(train[train['GP_greater_than_0']==1].po_A, bins=18, label = played, ax = axes[1,0], kde = False)\n",
    "ax = sns.distplot(train[train['GP_greater_than_0']==0].po_A, bins=40, label = Nplayed, ax = axes[1,0], kde = False)\n",
    "ax.legend()\n",
    "ax.set_title('Playoff Assists')\n",
    "\n",
    "ax = sns.distplot(train[train['GP_greater_than_0']==1].po_P, bins=18, label = played, ax = axes[1,1], kde = False)\n",
    "ax = sns.distplot(train[train['GP_greater_than_0']==0].po_P, bins=40, label = Nplayed, ax = axes[1,1], kde = False)\n",
    "ax.legend()\n",
    "ax.set_title('Playoff Points')\n",
    "\n",
    "ax = sns.distplot(train[train['GP_greater_than_0']==1].po_PIM, bins=18, label = played, ax = axes[2,1], kde = False)\n",
    "ax = sns.distplot(train[train['GP_greater_than_0']==0].po_PIM, bins=40, label = Nplayed, ax = axes[2,1], kde = False)\n",
    "ax.legend()\n",
    "_=ax.set_title('Playoff Penalty Minutes')"
   ]
  },
  {
   "cell_type": "markdown",
   "id": "8abc4309",
   "metadata": {},
   "source": [
    "In each case above, we can see that the probability of playing in the NHL is much higher for draft prospects who participate in the playoffs in their draft year. However, making the playoffs is considered to be more of a team success, and we must keep in mind that for this analysis we are more interested in each and every individual player. Therefore, we will create a binary variable for whether a players team made the playoffs or not, as this should be a more meaningful feature. After all, we can make the argument that the teams who make the playoffs are comprised of better players than teams who do not make the playoffs. We may also argue that players whos teams make the playoffs are getting more exposure to NHL scouts, and perhaps good players on non-playoff teams are being overlooked. \n",
    "\n",
    "Lets have a look at these plots again, but this time omiting players who did not play in the playoffs (the zeros)."
   ]
  },
  {
   "cell_type": "code",
   "execution_count": 504,
   "id": "042634b6",
   "metadata": {},
   "outputs": [
    {
     "data": {
      "image/png": "[encoded data removed]",
      "text/plain": [
       "<Figure size 864x1296 with 6 Axes>"
      ]
     },
     "metadata": {
      "needs_background": "light"
     },
     "output_type": "display_data"
    }
   ],
   "source": [
    "train_v0 = train.drop(train[train.po_GP < 1].index)\n",
    "\n",
    "played = 'Played in NHL'\n",
    "Nplayed = 'Did not play in NHL'\n",
    "fig, axes = plt.subplots(nrows=3, ncols=2, figsize=(12,18))\n",
    "\n",
    "ax = sns.distplot(train_v0[train_v0['GP_greater_than_0']==1].po_GP, bins=18, label = played, ax = axes[0,0], kde =False)\n",
    "ax = sns.distplot(train_v0[train_v0['GP_greater_than_0']==0].po_GP, bins=40, label = Nplayed, ax = axes[0,0], kde =False)\n",
    "ax.legend()\n",
    "ax.set_title('Playoff Games Played')\n",
    "\n",
    "ax = sns.distplot(train_v0[train_v0['GP_greater_than_0']==1].po_G, bins=18, label = played, ax = axes[0,1], kde = False)\n",
    "ax = sns.distplot(train_v0[train_v0['GP_greater_than_0']==0].po_G, bins=40, label = Nplayed, ax = axes[0,1], kde = False)\n",
    "ax.legend()\n",
    "ax.set_title('Playoff Goals')\n",
    "\n",
    "ax = sns.distplot(train_v0[train_v0['GP_greater_than_0']==1].po_A, bins=18, label = played, ax = axes[1,0], kde = False)\n",
    "ax = sns.distplot(train_v0[train_v0['GP_greater_than_0']==0].po_A, bins=40, label = Nplayed, ax = axes[1,0], kde = False)\n",
    "ax.legend()\n",
    "ax.set_title('Playoff Assists')\n",
    "\n",
    "ax = sns.distplot(train_v0[train_v0['GP_greater_than_0']==1].po_P, bins=18, label = played, ax = axes[1,1], kde = False)\n",
    "ax = sns.distplot(train_v0[train_v0['GP_greater_than_0']==0].po_P, bins=40, label = Nplayed, ax = axes[1,1], kde = False)\n",
    "ax.legend()\n",
    "ax.set_title('Playoff Points')\n",
    "\n",
    "ax = sns.distplot(train_v0[train_v0['GP_greater_than_0']==1].po_PIM, bins=18, label = played, ax = axes[2,1], kde = False)\n",
    "ax = sns.distplot(train_v0[train_v0['GP_greater_than_0']==0].po_PIM, bins=40, label = Nplayed, ax = axes[2,1], kde = False)\n",
    "ax.legend()\n",
    "_=ax.set_title('Playoff Penalty Minutes')"
   ]
  },
  {
   "cell_type": "markdown",
   "id": "4d9d705e",
   "metadata": {},
   "source": [
    "We can clearly see above that players who score at least one point in the playoffs in their draft year have a higher chance of playing in the NHL. We also observe that the more points they score in the playoffs, the higher the probability of playing in the NHL. Next, we will create the binary variable that represents whether a players team made the playoffs or not. "
   ]
  },
  {
   "cell_type": "code",
   "execution_count": 505,
   "id": "bc015e75",
   "metadata": {},
   "outputs": [
    {
     "name": "stdout",
     "output_type": "stream",
     "text": [
      "      po_GP_greater_than_0  GP_greater_than_0       id  DraftAge  \\\n",
      "334                      0                  1  8469733        19   \n",
      "1437                     0                  0    46656        20   \n",
      "1057                     0                  0    12653        20   \n",
      "1655                     0                  0    15343        19   \n",
      "1541                     1                  0     9420        19   \n",
      "...                    ...                ...      ...       ...   \n",
      "740                      1                  0    18444        19   \n",
      "1032                     0                  1  8471778        19   \n",
      "2121                     0                  1  8467383        18   \n",
      "1424                     1                  0    11129        19   \n",
      "1725                     0                  1  8471229        18   \n",
      "\n",
      "     country_group  Height  Weight Position  CSS_rank  rs_GP  rs_G  rs_A  \\\n",
      "334            CAN      72     178        C       107     72    38    35   \n",
      "1437           USA      71     196        D       103     60     7    30   \n",
      "1057          EURO      74     207        C       236     45     4     2   \n",
      "1655           CAN      75     209        D        61     61     3    10   \n",
      "1541           USA      71     190        D        58     37     2     8   \n",
      "...            ...     ...     ...      ...       ...    ...   ...   ...   \n",
      "740           EURO      75     207        D       192     39     2     9   \n",
      "1032           USA      75     225        L        92     64    40    26   \n",
      "2121           CAN      72     196        L        92     65    11    26   \n",
      "1424           CAN      71     176        C        60     54    24    36   \n",
      "1725          EURO      73     201        C        10     60    10     8   \n",
      "\n",
      "      rs_P  rs_PIM  rs_PlusMinus  sum_7yr_GP  sum_7yr_TOI  \n",
      "334     73     122             6          16          171  \n",
      "1437    37     133             0           0            0  \n",
      "1057     6      47            -1           0            0  \n",
      "1655    13     125            -4           0            0  \n",
      "1541    10      42            -3           0            0  \n",
      "...    ...     ...           ...         ...          ...  \n",
      "740     11      15             0           0            0  \n",
      "1032    66     108            28           4           36  \n",
      "2121    37      90             0          73          646  \n",
      "1424    60      32           -14           0            0  \n",
      "1725    18      20             0         189         1974  \n",
      "\n",
      "[1556 rows x 17 columns]\n"
     ]
    }
   ],
   "source": [
    "#convert po_GP to binary 1-played in at least one playoff game 0-did not play in the playoffs\n",
    "trainv1=pd.get_dummies(train[\"po_GP\"])\n",
    "trainv2=pd.concat((trainv1, train), axis=1)\n",
    "trainv2=trainv2.drop([\"po_GP\",\"po_G\",\"po_A\",\"po_P\",\"po_PIM\"], axis=1)\n",
    "trainv2=trainv2.drop(trainv2.columns[[1,2,3,4,5,6,7,8,9,10,11,12,13,14,15,\n",
    "                                    16,17,18,19,20,21,22,23,24,25,26,27,28,29,30]], axis=1)\n",
    "trainv3=trainv2.rename(columns={0: \"po_GP_greater_than_0\"})\n",
    "\n",
    "print(trainv3)"
   ]
  },
  {
   "cell_type": "code",
   "execution_count": 506,
   "id": "48c53215",
   "metadata": {},
   "outputs": [
    {
     "name": "stdout",
     "output_type": "stream",
     "text": [
      "      po_GP_greater_than_0  GP_greater_than_0       id  DraftAge  \\\n",
      "334                      1                  1  8469733        19   \n",
      "1437                     1                  0    46656        20   \n",
      "1057                     1                  0    12653        20   \n",
      "1655                     1                  0    15343        19   \n",
      "1541                     0                  0     9420        19   \n",
      "...                    ...                ...      ...       ...   \n",
      "740                      0                  0    18444        19   \n",
      "1032                     1                  1  8471778        19   \n",
      "2121                     1                  1  8467383        18   \n",
      "1424                     0                  0    11129        19   \n",
      "1725                     1                  1  8471229        18   \n",
      "\n",
      "     country_group  Height  Weight Position  CSS_rank  rs_GP  rs_G  rs_A  \\\n",
      "334            CAN      72     178        C       107     72    38    35   \n",
      "1437           USA      71     196        D       103     60     7    30   \n",
      "1057          EURO      74     207        C       236     45     4     2   \n",
      "1655           CAN      75     209        D        61     61     3    10   \n",
      "1541           USA      71     190        D        58     37     2     8   \n",
      "...            ...     ...     ...      ...       ...    ...   ...   ...   \n",
      "740           EURO      75     207        D       192     39     2     9   \n",
      "1032           USA      75     225        L        92     64    40    26   \n",
      "2121           CAN      72     196        L        92     65    11    26   \n",
      "1424           CAN      71     176        C        60     54    24    36   \n",
      "1725          EURO      73     201        C        10     60    10     8   \n",
      "\n",
      "      rs_P  rs_PIM  rs_PlusMinus  sum_7yr_GP  sum_7yr_TOI  \n",
      "334     73     122             6          16          171  \n",
      "1437    37     133             0           0            0  \n",
      "1057     6      47            -1           0            0  \n",
      "1655    13     125            -4           0            0  \n",
      "1541    10      42            -3           0            0  \n",
      "...    ...     ...           ...         ...          ...  \n",
      "740     11      15             0           0            0  \n",
      "1032    66     108            28           4           36  \n",
      "2121    37      90             0          73          646  \n",
      "1424    60      32           -14           0            0  \n",
      "1725    18      20             0         189         1974  \n",
      "\n",
      "[1556 rows x 17 columns]\n"
     ]
    }
   ],
   "source": [
    "#flip binary outcome\n",
    "\n",
    "trainv4=pd.get_dummies(trainv3[\"po_GP_greater_than_0\"])\n",
    "trainv5=pd.concat((trainv4, trainv3), axis=1)\n",
    "trainv5=trainv5.drop([\"po_GP_greater_than_0\"], axis=1)\n",
    "trainv5=trainv5.drop(trainv5.columns[[1]], axis=1)\n",
    "trainv6=trainv5.rename(columns={0: \"po_GP_greater_than_0\"})\n",
    "\n",
    "print(trainv6)"
   ]
  },
  {
   "cell_type": "markdown",
   "id": "55afd267",
   "metadata": {},
   "source": [
    "### Regular Season Statistics "
   ]
  },
  {
   "cell_type": "code",
   "execution_count": 507,
   "id": "160e2ace",
   "metadata": {},
   "outputs": [
    {
     "name": "stderr",
     "output_type": "stream",
     "text": [
      "C:\\Users\\seanf\\Anaconda3\\lib\\site-packages\\seaborn\\distributions.py:2557: FutureWarning: `distplot` is a deprecated function and will be removed in a future version. Please adapt your code to use either `displot` (a figure-level function with similar flexibility) or `histplot` (an axes-level function for histograms).\n",
      "  warnings.warn(msg, FutureWarning)\n"
     ]
    },
    {
     "data": {
      "image/png": "[encoded data removed]",
      "text/plain": [
       "<Figure size 864x1440 with 6 Axes>"
      ]
     },
     "metadata": {
      "needs_background": "light"
     },
     "output_type": "display_data"
    }
   ],
   "source": [
    "played = 'Played in NHL'\n",
    "Nplayed = 'Did not play in NHL'\n",
    "fig, axes = plt.subplots(nrows=3, ncols=2, figsize=(12,20))\n",
    "\n",
    "ax = sns.distplot(trainv6[trainv6['GP_greater_than_0']==1].rs_GP, bins=18, label = played, ax = axes[0,0], kde =False)\n",
    "ax = sns.distplot(trainv6[trainv6['GP_greater_than_0']==0].rs_GP, bins=40, label = Nplayed, ax = axes[0,0], kde =False)\n",
    "ax.legend()\n",
    "ax.set_title('Regular Season Games Played')\n",
    "\n",
    "ax = sns.distplot(trainv6[trainv6['GP_greater_than_0']==1].rs_G, bins=18, label = played, ax = axes[0,1], kde = False)\n",
    "ax = sns.distplot(trainv6[trainv6['GP_greater_than_0']==0].rs_G, bins=40, label = Nplayed, ax = axes[0,1], kde = False)\n",
    "ax.legend()\n",
    "ax.set_title('Regular Season Goals')\n",
    "\n",
    "ax = sns.distplot(trainv6[trainv6['GP_greater_than_0']==1].rs_A, bins=18, label = played, ax = axes[1,0], kde = False)\n",
    "ax = sns.distplot(trainv6[trainv6['GP_greater_than_0']==0].rs_A, bins=40, label = Nplayed, ax = axes[1,0], kde = False)\n",
    "ax.legend()\n",
    "ax.set_title('Regular Season Assists')\n",
    "\n",
    "ax = sns.distplot(trainv6[trainv6['GP_greater_than_0']==1].rs_P, bins=18, label = played, ax = axes[1,1], kde = False)\n",
    "ax = sns.distplot(trainv6[trainv6['GP_greater_than_0']==0].rs_P, bins=40, label = Nplayed, ax = axes[1,1], kde = False)\n",
    "ax.legend()\n",
    "ax.set_title('Regular Season Points')\n",
    "\n",
    "ax = sns.distplot(trainv6[trainv6['GP_greater_than_0']==1].rs_PIM, bins=18, label = played, ax = axes[2,1], kde = False)\n",
    "ax = sns.distplot(trainv6[trainv6['GP_greater_than_0']==0].rs_PIM, bins=40, label = Nplayed, ax = axes[2,1], kde = False)\n",
    "ax.legend()\n",
    "ax.set_title('Regular Season Penalty Minutes')\n",
    "\n",
    "ax = sns.distplot(trainv6[trainv6['GP_greater_than_0']==1].rs_PlusMinus, bins=18, label = played, ax = axes[2,0], kde = False)\n",
    "ax = sns.distplot(trainv6[trainv6['GP_greater_than_0']==0].rs_PlusMinus, bins=40, label = Nplayed, ax = axes[2,0], kde = False)\n",
    "ax.legend()\n",
    "_=ax.set_title('Regular Season Plus/Minus')"
   ]
  },
  {
   "cell_type": "markdown",
   "id": "17f5bd93",
   "metadata": {},
   "source": [
    "We can observe from the plots above that regular season statistics are all good features to use in our machine learning algorithms. All of these features surely contribute toward a higher probability of playing in the NHL. The plot for Plus/Minus is quite intresting as we can see that a Plus/Minus closer to zero and a Plus/Minus greater than 10 increases a players chance of playing in the NHL. As a result, I will create groups based on Plus/Minus later on. We can also see that players with 20-80 regular season games played have a high probability of playing in the NHL. Players with less than 20 games played seem to have a very low chance of playing in the NHL, this could be due to injury or some other reason and could be further investigated in the future. Since there much variability in games played, we will create new variables for regular season statistics that describe their stats per game, which will also help with feature scaling. First, we will check for multicolinearity. "
   ]
  },
  {
   "cell_type": "code",
   "execution_count": 508,
   "id": "f4ef58e6",
   "metadata": {},
   "outputs": [
    {
     "data": {
      "image/png": "[encoded data removed]",
      "text/plain": [
       "<Figure size 864x720 with 2 Axes>"
      ]
     },
     "metadata": {},
     "output_type": "display_data"
    }
   ],
   "source": [
    "sns.set_theme(style=\"white\")\n",
    "train_corr = trainv6.drop([\"po_GP_greater_than_0\",\"GP_greater_than_0\",\n",
    "                          \"DraftAge\",\"country_group\",\"Height\",\"Weight\",\n",
    "                          \"Position\",\"CSS_rank\"], axis=1)\n",
    "corr = train_corr.corr()\n",
    "\n",
    "mask=np.triu(np.ones_like(corr, dtype=bool))\n",
    "\n",
    "fig, axes = plt.subplots(figsize=(12,10))\n",
    "\n",
    "cmap = sns.diverging_palette(230,20,as_cmap=True)\n",
    "\n",
    "sns.heatmap(corr, mask=mask, cmap=cmap, vmax=1, center=0, square=True, \n",
    "           linewidths=0.5, cbar_kws={\"shrink\": 0.5})\n",
    "\n",
    "plt.yticks(rotation=0)\n",
    "plt.xticks(rotation=90)\n",
    "plt.show()"
   ]
  },
  {
   "cell_type": "markdown",
   "id": "3499b606",
   "metadata": {},
   "source": [
    "The correlation plot shows us that as expected, there is a high correlation between assists and points, and between goals and points. We will drop regular season points because of this, and due to the fact that there are no noticeable groups we can create for regular season points. "
   ]
  },
  {
   "cell_type": "markdown",
   "id": "15ccc724",
   "metadata": {},
   "source": [
    "### Draft Age"
   ]
  },
  {
   "cell_type": "markdown",
   "id": "ea2613ad",
   "metadata": {},
   "source": [
    "Next we will take a look at draft age to see if it will be useful as a feature in our algorithms. Keep in mind that this is the age at which the player was drafted, and most players are drafted at 18 years of age. "
   ]
  },
  {
   "cell_type": "code",
   "execution_count": 509,
   "id": "ec340abb",
   "metadata": {},
   "outputs": [
    {
     "data": {
      "image/png": "[encoded data removed]",
      "text/plain": [
       "<Figure size 576x576 with 1 Axes>"
      ]
     },
     "metadata": {},
     "output_type": "display_data"
    }
   ],
   "source": [
    "played = 'Played in NHL'\n",
    "Nplayed = 'Did not play in NHL'\n",
    "fig, axes = plt.subplots(figsize=(8,8))\n",
    "\n",
    "ax = sns.distplot(trainv6[trainv6['GP_greater_than_0']==1].DraftAge, bins=30, label = played, kde =False)\n",
    "ax = sns.distplot(trainv6[trainv6['GP_greater_than_0']==0].DraftAge, bins=35, label = Nplayed, kde =False)\n",
    "ax.legend()\n",
    "_=ax.set_title('Draft Age')"
   ]
  },
  {
   "cell_type": "markdown",
   "id": "ea9f814a",
   "metadata": {},
   "source": [
    "There isn't much variability in DraftAge and we can see that the probability of playing in an NHL game does not change much between ages. However, we see a noticeable difference from when a player is drafted at 19 to when a player is drafted at 20. We will create an indicator for when the player is 20+ years of age when drafted. "
   ]
  },
  {
   "cell_type": "markdown",
   "id": "654e8a80",
   "metadata": {},
   "source": [
    "### CSS Rank, country_group, po_GP_greater_than_0"
   ]
  },
  {
   "cell_type": "markdown",
   "id": "000e8827",
   "metadata": {},
   "source": [
    "Next we will have a look at NHL central scouting rankings. To start, we will look at CSS_rank and po_GP_greater_than_0. We want to see if a playerss CSS ranking is influenced by their team making the playoffs. We will then investigate if CSS rank is influenced by where the player is from by using the country_group variable. "
   ]
  },
  {
   "cell_type": "code",
   "execution_count": 510,
   "id": "4fcabd38",
   "metadata": {
    "scrolled": true
   },
   "outputs": [
    {
     "data": {
      "image/png": "[encoded data removed]",
      "text/plain": [
       "<Figure size 864x720 with 1 Axes>"
      ]
     },
     "metadata": {},
     "output_type": "display_data"
    }
   ],
   "source": [
    "fig, axes = plt.subplots(figsize=(12,10))\n",
    "\n",
    "_=sns.violinplot(x=\"po_GP_greater_than_0\",y=\"CSS_rank\", hue=\"GP_greater_than_0\",\n",
    "              data=trainv6, split=True, inner=\"quart\", linewidth=1.5)"
   ]
  },
  {
   "cell_type": "markdown",
   "id": "b13ccffa",
   "metadata": {},
   "source": [
    "The plot above is quite informative as it tells us that NHL central scouting rankings are reliable in general, however when you look more closely at this 3-D visualization, we can see that some players are benefiting greatly from being on playoff teams in their draft year. This suggests that a bias is present but does not seem to be too significant. It also suggests that there are players on non-playoff teams that are being overlooked by scouts. This is an interesting result because there are many great players who have been drafted late in previous NHL drafts. Also, it may be beneficial to group the CSS_rank feature. For example, we may be interested in the grouping of players who are ranked between 30 and 100. For those who did not make playoffs, they had an approximate 50/50 chance of playing in the NHL. For those who did make playoffs, they had a much lower chance of playing in the NHL, interestingly enough.  "
   ]
  },
  {
   "cell_type": "code",
   "execution_count": 511,
   "id": "cf6d6a58",
   "metadata": {},
   "outputs": [
    {
     "name": "stderr",
     "output_type": "stream",
     "text": [
      "C:\\Users\\seanf\\Anaconda3\\lib\\site-packages\\seaborn\\distributions.py:2557: FutureWarning: `distplot` is a deprecated function and will be removed in a future version. Please adapt your code to use either `displot` (a figure-level function with similar flexibility) or `histplot` (an axes-level function for histograms).\n",
      "  warnings.warn(msg, FutureWarning)\n"
     ]
    },
    {
     "data": {
      "image/png": "[encoded data removed]",
      "text/plain": [
       "<Figure size 576x576 with 1 Axes>"
      ]
     },
     "metadata": {},
     "output_type": "display_data"
    }
   ],
   "source": [
    "played = 'Played in NHL'\n",
    "Nplayed = 'Did not play in NHL'\n",
    "fig, axes = plt.subplots(figsize=(8,8))\n",
    "\n",
    "ax = sns.distplot(trainv6[trainv6['GP_greater_than_0']==1].CSS_rank, bins=30, label = played, kde =False)\n",
    "ax = sns.distplot(trainv6[trainv6['GP_greater_than_0']==0].CSS_rank, bins=30, label = Nplayed, kde =False)\n",
    "ax.legend()\n",
    "_=ax.set_title('CSS Rank')"
   ]
  },
  {
   "cell_type": "markdown",
   "id": "910ba0c4",
   "metadata": {},
   "source": [
    "Once again, the plot above illustrates why it is a good idea to make groupings for CSS_rank. It also shows why the 3-D visualization before this is so informative. In the 3-D visualization, we see an interesting case for players ranked between 30 and 100 that we do not see in the 2-D visualization. We do see an odd case here for players ranked around 200 who have had a high probability of playing in the NHL. We can investigate this further as it is very unexpected. Based on what we see above, we will group the CSS_rank variable according to draft rounds. The first group will be from 1 to 30, the second from 31 to 60, the third group from 61 to 90, and the last group will therefore consists of players ranked from 91 to 250. We do this because we notice the similarities within these groups by looking at the 2-D visualization. Furthermore, I will create an indicator for players ranked between 30 and 100 that returns a 0 if they were not on a playoff team and a 1 if they were. For players ranked outside of this range, the indicator will return a 2. This should be much more meaningful rather than using the CSS_rank feature on its own. "
   ]
  },
  {
   "cell_type": "code",
   "execution_count": 512,
   "id": "4fb07950",
   "metadata": {
    "scrolled": false
   },
   "outputs": [
    {
     "data": {
      "image/png": "[encoded data removed]",
      "text/plain": [
       "<Figure size 864x720 with 1 Axes>"
      ]
     },
     "metadata": {},
     "output_type": "display_data"
    }
   ],
   "source": [
    "fig, axes = plt.subplots(figsize=(12,10))\n",
    "\n",
    "_=sns.violinplot(x=\"country_group\",y=\"CSS_rank\", hue=\"GP_greater_than_0\",\n",
    "              data=trainv6, split=True, inner=\"quart\", linewidth=1.5)"
   ]
  },
  {
   "cell_type": "markdown",
   "id": "f97f0194",
   "metadata": {},
   "source": [
    "From the plot above we can see that drafting European players early on is more risky. We can also see that US born players ranked in the middle of the draft have a higher probability of playing in an NHL game than Canadian and European players. Out of the players that are ranked to be drafted the latest, Canadian players have the highest probability of playing in the NHL, with Europeans second and US born players third. "
   ]
  },
  {
   "cell_type": "code",
   "execution_count": 513,
   "id": "78760b99",
   "metadata": {},
   "outputs": [
    {
     "name": "stderr",
     "output_type": "stream",
     "text": [
      "C:\\Users\\seanf\\Anaconda3\\lib\\site-packages\\seaborn\\categorical.py:3714: UserWarning: The `factorplot` function has been renamed to `catplot`. The original name will be removed in a future release. Please update your code. Note that the default `kind` in `factorplot` (`'point'`) has changed `'strip'` in `catplot`.\n",
      "  warnings.warn(msg)\n"
     ]
    },
    {
     "data": {
      "image/png": "[encoded data removed]",
      "text/plain": [
       "<Figure size 493.8x360 with 1 Axes>"
      ]
     },
     "metadata": {},
     "output_type": "display_data"
    }
   ],
   "source": [
    "_=sns.factorplot(x='country_group',y='GP_greater_than_0',hue='po_GP_greater_than_0',\n",
    "                      data=trainv6, split=True)"
   ]
  },
  {
   "cell_type": "code",
   "execution_count": 514,
   "id": "aad0dd14",
   "metadata": {},
   "outputs": [
    {
     "data": {
      "text/plain": [
       "<AxesSubplot:xlabel='country_group', ylabel='GP_greater_than_0'>"
      ]
     },
     "execution_count": 514,
     "metadata": {},
     "output_type": "execute_result"
    },
    {
     "data": {
      "image/png": "[encoded data removed]",
      "text/plain": [
       "<Figure size 432x288 with 1 Axes>"
      ]
     },
     "metadata": {},
     "output_type": "display_data"
    }
   ],
   "source": [
    "sns.barplot(x=\"country_group\", y=\"GP_greater_than_0\", data=trainv6)"
   ]
  },
  {
   "cell_type": "markdown",
   "id": "96cd8f15",
   "metadata": {},
   "source": [
    "We can see that although slight, there is a difference in probability of playing in the NHL between country groups. Overall, Canadians have the highest probability of playing in an NHL game. "
   ]
  },
  {
   "cell_type": "markdown",
   "id": "ffb1bffb",
   "metadata": {},
   "source": [
    "### Position"
   ]
  },
  {
   "cell_type": "code",
   "execution_count": 515,
   "id": "cf5bd3ce",
   "metadata": {},
   "outputs": [
    {
     "data": {
      "text/plain": [
       "<AxesSubplot:xlabel='Position', ylabel='GP_greater_than_0'>"
      ]
     },
     "execution_count": 515,
     "metadata": {},
     "output_type": "execute_result"
    },
    {
     "data": {
      "image/png": "[encoded data removed]",
      "text/plain": [
       "<Figure size 432x288 with 1 Axes>"
      ]
     },
     "metadata": {},
     "output_type": "display_data"
    }
   ],
   "source": [
    "sns.barplot(x=\"Position\", y=\"GP_greater_than_0\", data=trainv6)"
   ]
  },
  {
   "cell_type": "markdown",
   "id": "51ed5fa3",
   "metadata": {},
   "source": [
    "We can clearly see that Position contributes to a players chance of playing in the NHL. I was thinking of grouping left and right wingers into wingers, but it seems like there is still a noticeable difference, so we will leave them alone. Defenceman have the lowest chance of playing in the NHL, and it seems like teams can have the highest chances of success by drafting wingers. Since a good defenceman is very valuable in the NHL, it is important for teams to work hard at drafting the appropriate defenceman that fits their team. We will consider putting more emphahsis on defenceman by creating an indicator thats tells us when a player drafted is a defenceman and is on a playoff team. "
   ]
  },
  {
   "cell_type": "markdown",
   "id": "6c77d95e",
   "metadata": {},
   "source": [
    "### Height and Weight"
   ]
  },
  {
   "cell_type": "markdown",
   "id": "47757d6c",
   "metadata": {},
   "source": [
    "First, we will look at how weight contributes toward playing in the NHL."
   ]
  },
  {
   "cell_type": "code",
   "execution_count": 516,
   "id": "c9e53607",
   "metadata": {},
   "outputs": [
    {
     "name": "stderr",
     "output_type": "stream",
     "text": [
      "C:\\Users\\seanf\\Anaconda3\\lib\\site-packages\\seaborn\\distributions.py:2557: FutureWarning: `distplot` is a deprecated function and will be removed in a future version. Please adapt your code to use either `displot` (a figure-level function with similar flexibility) or `histplot` (an axes-level function for histograms).\n",
      "  warnings.warn(msg, FutureWarning)\n"
     ]
    },
    {
     "data": {
      "image/png": "[encoded data removed]",
      "text/plain": [
       "<Figure size 576x576 with 1 Axes>"
      ]
     },
     "metadata": {},
     "output_type": "display_data"
    }
   ],
   "source": [
    "played = 'Played in NHL'\n",
    "Nplayed = 'Did not play in NHL'\n",
    "fig, axes = plt.subplots(figsize=(8,8))\n",
    "\n",
    "ax = sns.distplot(trainv6[trainv6['GP_greater_than_0']==1].Weight, bins=25, label = played, kde =False)\n",
    "ax = sns.distplot(trainv6[trainv6['GP_greater_than_0']==0].Weight, bins=25, label = Nplayed, kde =False)\n",
    "ax.legend()\n",
    "_=ax.set_title('Player Weight')"
   ]
  },
  {
   "cell_type": "markdown",
   "id": "09ab1932",
   "metadata": {},
   "source": [
    "We will create a categorical feature based on player weight. We will group the players as follows: players < 200lbs, players between 200 and 220lbs, players > 220lbs."
   ]
  },
  {
   "cell_type": "code",
   "execution_count": 517,
   "id": "679b0077",
   "metadata": {},
   "outputs": [
    {
     "name": "stdout",
     "output_type": "stream",
     "text": [
      "po_GP_greater_than_0       uint8\n",
      "GP_greater_than_0          uint8\n",
      "id                         int64\n",
      "DraftAge                   int64\n",
      "country_group             object\n",
      "Height                     int64\n",
      "Weight                     int64\n",
      "Position                  object\n",
      "CSS_rank                   int64\n",
      "rs_GP                      int64\n",
      "rs_G                       int64\n",
      "rs_A                       int64\n",
      "rs_P                       int64\n",
      "rs_PIM                     int64\n",
      "rs_PlusMinus               int64\n",
      "sum_7yr_GP                 int64\n",
      "sum_7yr_TOI                int64\n",
      "Weight_group            category\n",
      "dtype: object\n"
     ]
    }
   ],
   "source": [
    "bins = [0, 200, 220, np.inf]\n",
    "names = ['<200', '200-220', '220+']\n",
    "\n",
    "trainv6['Weight_group'] = pd.cut(trainv6['Weight'], bins, labels=names)\n",
    "\n",
    "print(trainv6.dtypes)"
   ]
  },
  {
   "cell_type": "markdown",
   "id": "bad95e18",
   "metadata": {},
   "source": [
    "Now, we will have a look at player height vs weight and the target variable."
   ]
  },
  {
   "cell_type": "code",
   "execution_count": 518,
   "id": "4fd9cf7d",
   "metadata": {},
   "outputs": [
    {
     "data": {
      "image/png": "[encoded data removed]",
      "text/plain": [
       "<Figure size 864x720 with 1 Axes>"
      ]
     },
     "metadata": {},
     "output_type": "display_data"
    }
   ],
   "source": [
    "fig, axes = plt.subplots(figsize=(12,10))\n",
    "\n",
    "_=sns.violinplot(x=\"Weight_group\",y=\"Height\", hue=\"GP_greater_than_0\",\n",
    "              data=trainv6, split=True, inner=\"quart\", linewidth=1.5)"
   ]
  },
  {
   "cell_type": "markdown",
   "id": "6c8904a0",
   "metadata": {},
   "source": [
    "The violin plot above tells us that Height is correlated with Weight as expected, and that taller and heavier players have a better chance of playing in the NHL. I considered converting height from inches to cm and combining height and weight into one feature, but even after converting to cm they are not quite on the same scale. Therefore it is a risk because there would be a slight feature biased towards weight. However, it is a good idea to create groups for height as well. Let's have a further look:"
   ]
  },
  {
   "cell_type": "code",
   "execution_count": 519,
   "id": "2ebd096b",
   "metadata": {},
   "outputs": [
    {
     "name": "stderr",
     "output_type": "stream",
     "text": [
      "C:\\Users\\seanf\\Anaconda3\\lib\\site-packages\\seaborn\\distributions.py:2557: FutureWarning: `distplot` is a deprecated function and will be removed in a future version. Please adapt your code to use either `displot` (a figure-level function with similar flexibility) or `histplot` (an axes-level function for histograms).\n",
      "  warnings.warn(msg, FutureWarning)\n"
     ]
    },
    {
     "data": {
      "image/png": "[encoded data removed]",
      "text/plain": [
       "<Figure size 576x576 with 1 Axes>"
      ]
     },
     "metadata": {},
     "output_type": "display_data"
    }
   ],
   "source": [
    "played = 'Played in NHL'\n",
    "Nplayed = 'Did not play in NHL'\n",
    "fig, axes = plt.subplots(figsize=(8,8))\n",
    "\n",
    "ax = sns.distplot(trainv6[trainv6['GP_greater_than_0']==1].Height, bins=40, label = played, kde =False)\n",
    "ax = sns.distplot(trainv6[trainv6['GP_greater_than_0']==0].Height, bins=40, label = Nplayed, kde =False)\n",
    "ax.legend()\n",
    "_=ax.set_title('Player Height')"
   ]
  },
  {
   "cell_type": "markdown",
   "id": "3ded8565",
   "metadata": {},
   "source": [
    "The following groups will be created based on player height: <72 inches, 72-75 inches and 75+ inches. "
   ]
  },
  {
   "cell_type": "code",
   "execution_count": 520,
   "id": "b3408eef",
   "metadata": {},
   "outputs": [
    {
     "name": "stdout",
     "output_type": "stream",
     "text": [
      "po_GP_greater_than_0       uint8\n",
      "GP_greater_than_0          uint8\n",
      "id                         int64\n",
      "DraftAge                   int64\n",
      "country_group             object\n",
      "Height                     int64\n",
      "Weight                     int64\n",
      "Position                  object\n",
      "CSS_rank                   int64\n",
      "rs_GP                      int64\n",
      "rs_G                       int64\n",
      "rs_A                       int64\n",
      "rs_P                       int64\n",
      "rs_PIM                     int64\n",
      "rs_PlusMinus               int64\n",
      "sum_7yr_GP                 int64\n",
      "sum_7yr_TOI                int64\n",
      "Weight_group            category\n",
      "Height_group            category\n",
      "dtype: object\n"
     ]
    }
   ],
   "source": [
    "bins = [0, 72, 75, np.inf]\n",
    "names = ['<72', '72-75', '75+']\n",
    "\n",
    "trainv6['Height_group'] = pd.cut(trainv6['Height'], bins, labels=names)\n",
    "\n",
    "print(trainv6.dtypes)"
   ]
  },
  {
   "cell_type": "code",
   "execution_count": 521,
   "id": "a279734d",
   "metadata": {
    "scrolled": true
   },
   "outputs": [
    {
     "data": {
      "image/png": "[encoded data removed]",
      "text/plain": [
       "<Figure size 864x720 with 1 Axes>"
      ]
     },
     "metadata": {},
     "output_type": "display_data"
    }
   ],
   "source": [
    "fig, axes = plt.subplots(figsize=(12,10))\n",
    "\n",
    "_=sns.violinplot(x=\"Height_group\",y=\"Weight\", hue=\"GP_greater_than_0\",\n",
    "              data=trainv6, split=True, inner=\"quart\", linewidth=1.5)"
   ]
  },
  {
   "cell_type": "code",
   "execution_count": 522,
   "id": "a72bdf05",
   "metadata": {},
   "outputs": [
    {
     "name": "stdout",
     "output_type": "stream",
     "text": [
      "      po_GP_greater_than_0  GP_greater_than_0       id  DraftAge  \\\n",
      "334                      1                  1  8469733        19   \n",
      "1437                     1                  0    46656        20   \n",
      "1057                     1                  0    12653        20   \n",
      "1655                     1                  0    15343        19   \n",
      "1541                     0                  0     9420        19   \n",
      "...                    ...                ...      ...       ...   \n",
      "740                      0                  0    18444        19   \n",
      "1032                     1                  1  8471778        19   \n",
      "2121                     1                  1  8467383        18   \n",
      "1424                     0                  0    11129        19   \n",
      "1725                     1                  1  8471229        18   \n",
      "\n",
      "     country_group  Height  Weight Position  CSS_rank  rs_GP  rs_G  rs_A  \\\n",
      "334            CAN      72     178        C       107     72    38    35   \n",
      "1437           USA      71     196        D       103     60     7    30   \n",
      "1057          EURO      74     207        C       236     45     4     2   \n",
      "1655           CAN      75     209        D        61     61     3    10   \n",
      "1541           USA      71     190        D        58     37     2     8   \n",
      "...            ...     ...     ...      ...       ...    ...   ...   ...   \n",
      "740           EURO      75     207        D       192     39     2     9   \n",
      "1032           USA      75     225        L        92     64    40    26   \n",
      "2121           CAN      72     196        L        92     65    11    26   \n",
      "1424           CAN      71     176        C        60     54    24    36   \n",
      "1725          EURO      73     201        C        10     60    10     8   \n",
      "\n",
      "      rs_P  rs_PIM  rs_PlusMinus  sum_7yr_GP  sum_7yr_TOI Weight_group  \\\n",
      "334     73     122             6          16          171         <200   \n",
      "1437    37     133             0           0            0         <200   \n",
      "1057     6      47            -1           0            0      200-220   \n",
      "1655    13     125            -4           0            0      200-220   \n",
      "1541    10      42            -3           0            0         <200   \n",
      "...    ...     ...           ...         ...          ...          ...   \n",
      "740     11      15             0           0            0      200-220   \n",
      "1032    66     108            28           4           36         220+   \n",
      "2121    37      90             0          73          646         <200   \n",
      "1424    60      32           -14           0            0         <200   \n",
      "1725    18      20             0         189         1974      200-220   \n",
      "\n",
      "     Height_group  \n",
      "334           <72  \n",
      "1437          <72  \n",
      "1057        72-75  \n",
      "1655        72-75  \n",
      "1541          <72  \n",
      "...           ...  \n",
      "740         72-75  \n",
      "1032        72-75  \n",
      "2121          <72  \n",
      "1424          <72  \n",
      "1725        72-75  \n",
      "\n",
      "[1556 rows x 19 columns]\n"
     ]
    }
   ],
   "source": [
    "print(trainv6)"
   ]
  },
  {
   "cell_type": "markdown",
   "id": "bc727653",
   "metadata": {},
   "source": [
    "# Data Preprocessing"
   ]
  },
  {
   "cell_type": "code",
   "execution_count": 523,
   "id": "3716da65",
   "metadata": {},
   "outputs": [],
   "source": [
    "trainv6=trainv6.drop(['id'], axis=1)"
   ]
  },
  {
   "cell_type": "code",
   "execution_count": 524,
   "id": "7b80f8f5",
   "metadata": {},
   "outputs": [
    {
     "name": "stdout",
     "output_type": "stream",
     "text": [
      "      po_GP_greater_than_0  GP_greater_than_0  DraftAge country_group  Height  \\\n",
      "334                      1                  1        19           CAN      72   \n",
      "1437                     1                  0        20           USA      71   \n",
      "1057                     1                  0        20          EURO      74   \n",
      "1655                     1                  0        19           CAN      75   \n",
      "1541                     0                  0        19           USA      71   \n",
      "...                    ...                ...       ...           ...     ...   \n",
      "740                      0                  0        19          EURO      75   \n",
      "1032                     1                  1        19           USA      75   \n",
      "2121                     1                  1        18           CAN      72   \n",
      "1424                     0                  0        19           CAN      71   \n",
      "1725                     1                  1        18          EURO      73   \n",
      "\n",
      "      Weight Position  CSS_rank  rs_GP  rs_G  rs_A  rs_P  rs_PIM  \\\n",
      "334      178        C       107     72    38    35    73     122   \n",
      "1437     196        D       103     60     7    30    37     133   \n",
      "1057     207        C       236     45     4     2     6      47   \n",
      "1655     209        D        61     61     3    10    13     125   \n",
      "1541     190        D        58     37     2     8    10      42   \n",
      "...      ...      ...       ...    ...   ...   ...   ...     ...   \n",
      "740      207        D       192     39     2     9    11      15   \n",
      "1032     225        L        92     64    40    26    66     108   \n",
      "2121     196        L        92     65    11    26    37      90   \n",
      "1424     176        C        60     54    24    36    60      32   \n",
      "1725     201        C        10     60    10     8    18      20   \n",
      "\n",
      "      rs_PlusMinus  sum_7yr_GP  sum_7yr_TOI Weight_group Height_group  \n",
      "334              6          16          171         <200          <72  \n",
      "1437             0           0            0         <200          <72  \n",
      "1057            -1           0            0      200-220        72-75  \n",
      "1655            -4           0            0      200-220        72-75  \n",
      "1541            -3           0            0         <200          <72  \n",
      "...            ...         ...          ...          ...          ...  \n",
      "740              0           0            0      200-220        72-75  \n",
      "1032            28           4           36         220+        72-75  \n",
      "2121             0          73          646         <200          <72  \n",
      "1424           -14           0            0         <200          <72  \n",
      "1725             0         189         1974      200-220        72-75  \n",
      "\n",
      "[1556 rows x 18 columns]\n"
     ]
    }
   ],
   "source": [
    "print(trainv6)"
   ]
  },
  {
   "cell_type": "code",
   "execution_count": 525,
   "id": "1dbc422b",
   "metadata": {},
   "outputs": [
    {
     "name": "stdout",
     "output_type": "stream",
     "text": [
      "      po_GP_greater_than_0  GP_greater_than_0  DraftAge country_group  Height  \\\n",
      "334                      1                  1        19           CAN      72   \n",
      "1437                     1                  0        20           USA      71   \n",
      "1057                     1                  0        20          EURO      74   \n",
      "1655                     1                  0        19           CAN      75   \n",
      "1541                     0                  0        19           USA      71   \n",
      "...                    ...                ...       ...           ...     ...   \n",
      "740                      0                  0        19          EURO      75   \n",
      "1032                     1                  1        19           USA      75   \n",
      "2121                     1                  1        18           CAN      72   \n",
      "1424                     0                  0        19           CAN      71   \n",
      "1725                     1                  1        18          EURO      73   \n",
      "\n",
      "      Weight Position  CSS_rank  rs_GP  rs_G  rs_A  rs_P  rs_PIM  \\\n",
      "334      178        C       107     72    38    35    73     122   \n",
      "1437     196        D       103     60     7    30    37     133   \n",
      "1057     207        C       236     45     4     2     6      47   \n",
      "1655     209        D        61     61     3    10    13     125   \n",
      "1541     190        D        58     37     2     8    10      42   \n",
      "...      ...      ...       ...    ...   ...   ...   ...     ...   \n",
      "740      207        D       192     39     2     9    11      15   \n",
      "1032     225        L        92     64    40    26    66     108   \n",
      "2121     196        L        92     65    11    26    37      90   \n",
      "1424     176        C        60     54    24    36    60      32   \n",
      "1725     201        C        10     60    10     8    18      20   \n",
      "\n",
      "      rs_PlusMinus  sum_7yr_GP  sum_7yr_TOI Weight_group Height_group  \\\n",
      "334              6          16          171         <200          <72   \n",
      "1437             0           0            0         <200          <72   \n",
      "1057            -1           0            0      200-220        72-75   \n",
      "1655            -4           0            0      200-220        72-75   \n",
      "1541            -3           0            0         <200          <72   \n",
      "...            ...         ...          ...          ...          ...   \n",
      "740              0           0            0      200-220        72-75   \n",
      "1032            28           4           36         220+        72-75   \n",
      "2121             0          73          646         <200          <72   \n",
      "1424           -14           0            0         <200          <72   \n",
      "1725             0         189         1974      200-220        72-75   \n",
      "\n",
      "     DraftAge_group  \n",
      "334             <20  \n",
      "1437            20+  \n",
      "1057            20+  \n",
      "1655            <20  \n",
      "1541            <20  \n",
      "...             ...  \n",
      "740             <20  \n",
      "1032            <20  \n",
      "2121            <20  \n",
      "1424            <20  \n",
      "1725            <20  \n",
      "\n",
      "[1556 rows x 19 columns]\n"
     ]
    }
   ],
   "source": [
    "bins = [0, 19, np.inf]\n",
    "names = ['<20', '20+']\n",
    "\n",
    "trainv6['DraftAge_group'] = pd.cut(trainv6['DraftAge'], bins, labels=names)\n",
    "print(trainv6)"
   ]
  },
  {
   "cell_type": "code",
   "execution_count": 526,
   "id": "3f8bdab1",
   "metadata": {},
   "outputs": [
    {
     "name": "stdout",
     "output_type": "stream",
     "text": [
      "      po_GP_greater_than_0  GP_greater_than_0  DraftAge country_group  Height  \\\n",
      "334                      1                  1        19           CAN      72   \n",
      "1437                     1                  0        20           USA      71   \n",
      "1057                     1                  0        20          EURO      74   \n",
      "1655                     1                  0        19           CAN      75   \n",
      "1541                     0                  0        19           USA      71   \n",
      "...                    ...                ...       ...           ...     ...   \n",
      "740                      0                  0        19          EURO      75   \n",
      "1032                     1                  1        19           USA      75   \n",
      "2121                     1                  1        18           CAN      72   \n",
      "1424                     0                  0        19           CAN      71   \n",
      "1725                     1                  1        18          EURO      73   \n",
      "\n",
      "      Weight Position  CSS_rank  rs_GP  rs_G  rs_A  rs_P  rs_PIM  \\\n",
      "334      178        C       107     72    38    35    73     122   \n",
      "1437     196        D       103     60     7    30    37     133   \n",
      "1057     207        C       236     45     4     2     6      47   \n",
      "1655     209        D        61     61     3    10    13     125   \n",
      "1541     190        D        58     37     2     8    10      42   \n",
      "...      ...      ...       ...    ...   ...   ...   ...     ...   \n",
      "740      207        D       192     39     2     9    11      15   \n",
      "1032     225        L        92     64    40    26    66     108   \n",
      "2121     196        L        92     65    11    26    37      90   \n",
      "1424     176        C        60     54    24    36    60      32   \n",
      "1725     201        C        10     60    10     8    18      20   \n",
      "\n",
      "      rs_PlusMinus  sum_7yr_GP  sum_7yr_TOI Weight_group Height_group  \\\n",
      "334              6          16          171         <200          <72   \n",
      "1437             0           0            0         <200          <72   \n",
      "1057            -1           0            0      200-220        72-75   \n",
      "1655            -4           0            0      200-220        72-75   \n",
      "1541            -3           0            0         <200          <72   \n",
      "...            ...         ...          ...          ...          ...   \n",
      "740              0           0            0      200-220        72-75   \n",
      "1032            28           4           36         220+        72-75   \n",
      "2121             0          73          646         <200          <72   \n",
      "1424           -14           0            0         <200          <72   \n",
      "1725             0         189         1974      200-220        72-75   \n",
      "\n",
      "     DraftAge_group rs_PlusMinus_group  \n",
      "334             <20             -10-10  \n",
      "1437            20+             -10-10  \n",
      "1057            20+             -10-10  \n",
      "1655            <20             -10-10  \n",
      "1541            <20             -10-10  \n",
      "...             ...                ...  \n",
      "740             <20             -10-10  \n",
      "1032            <20                10+  \n",
      "2121            <20             -10-10  \n",
      "1424            <20               <-10  \n",
      "1725            <20             -10-10  \n",
      "\n",
      "[1556 rows x 20 columns]\n"
     ]
    }
   ],
   "source": [
    "bins = [-1000, -10, 10, np.inf]\n",
    "names = ['<-10', '-10-10', '10+']\n",
    "\n",
    "trainv6['rs_PlusMinus_group'] = pd.cut(trainv6['rs_PlusMinus'], bins, labels=names)\n",
    "print(trainv6)"
   ]
  },
  {
   "cell_type": "code",
   "execution_count": 527,
   "id": "58d61a6a",
   "metadata": {},
   "outputs": [],
   "source": [
    "trainv6[\"rs_PIM_perGP\"] = (trainv6[\"rs_PIM\"] / trainv6[\"rs_GP\"])"
   ]
  },
  {
   "cell_type": "code",
   "execution_count": 528,
   "id": "f57e0654",
   "metadata": {},
   "outputs": [],
   "source": [
    "trainv6[\"rs_G_perGP\"] = (trainv6[\"rs_G\"] / trainv6[\"rs_GP\"])"
   ]
  },
  {
   "cell_type": "code",
   "execution_count": 529,
   "id": "2f83b7a5",
   "metadata": {},
   "outputs": [],
   "source": [
    "trainv6[\"rs_A_perGP\"] = (trainv6[\"rs_A\"] / trainv6[\"rs_GP\"])"
   ]
  },
  {
   "cell_type": "code",
   "execution_count": 530,
   "id": "fc57232b",
   "metadata": {},
   "outputs": [
    {
     "name": "stdout",
     "output_type": "stream",
     "text": [
      "      po_GP_greater_than_0  GP_greater_than_0  DraftAge country_group  Height  \\\n",
      "334                      1                  1        19           CAN      72   \n",
      "1437                     1                  0        20           USA      71   \n",
      "1057                     1                  0        20          EURO      74   \n",
      "1655                     1                  0        19           CAN      75   \n",
      "1541                     0                  0        19           USA      71   \n",
      "...                    ...                ...       ...           ...     ...   \n",
      "740                      0                  0        19          EURO      75   \n",
      "1032                     1                  1        19           USA      75   \n",
      "2121                     1                  1        18           CAN      72   \n",
      "1424                     0                  0        19           CAN      71   \n",
      "1725                     1                  1        18          EURO      73   \n",
      "\n",
      "      Weight Position  CSS_rank  rs_GP  rs_G  ...  rs_PlusMinus  sum_7yr_GP  \\\n",
      "334      178        C       107     72    38  ...             6          16   \n",
      "1437     196        D       103     60     7  ...             0           0   \n",
      "1057     207        C       236     45     4  ...            -1           0   \n",
      "1655     209        D        61     61     3  ...            -4           0   \n",
      "1541     190        D        58     37     2  ...            -3           0   \n",
      "...      ...      ...       ...    ...   ...  ...           ...         ...   \n",
      "740      207        D       192     39     2  ...             0           0   \n",
      "1032     225        L        92     64    40  ...            28           4   \n",
      "2121     196        L        92     65    11  ...             0          73   \n",
      "1424     176        C        60     54    24  ...           -14           0   \n",
      "1725     201        C        10     60    10  ...             0         189   \n",
      "\n",
      "      sum_7yr_TOI  Weight_group  Height_group  DraftAge_group  \\\n",
      "334           171          <200           <72             <20   \n",
      "1437            0          <200           <72             20+   \n",
      "1057            0       200-220         72-75             20+   \n",
      "1655            0       200-220         72-75             <20   \n",
      "1541            0          <200           <72             <20   \n",
      "...           ...           ...           ...             ...   \n",
      "740             0       200-220         72-75             <20   \n",
      "1032           36          220+         72-75             <20   \n",
      "2121          646          <200           <72             <20   \n",
      "1424            0          <200           <72             <20   \n",
      "1725         1974       200-220         72-75             <20   \n",
      "\n",
      "     rs_PlusMinus_group rs_PIM_perGP rs_G_perGP rs_A_perGP  \n",
      "334              -10-10     1.694444   0.527778   0.486111  \n",
      "1437             -10-10     2.216667   0.116667   0.500000  \n",
      "1057             -10-10     1.044444   0.088889   0.044444  \n",
      "1655             -10-10     2.049180   0.049180   0.163934  \n",
      "1541             -10-10     1.135135   0.054054   0.216216  \n",
      "...                 ...          ...        ...        ...  \n",
      "740              -10-10     0.384615   0.051282   0.230769  \n",
      "1032                10+     1.687500   0.625000   0.406250  \n",
      "2121             -10-10     1.384615   0.169231   0.400000  \n",
      "1424               <-10     0.592593   0.444444   0.666667  \n",
      "1725             -10-10     0.333333   0.166667   0.133333  \n",
      "\n",
      "[1556 rows x 23 columns]\n"
     ]
    }
   ],
   "source": [
    "print(trainv6)"
   ]
  },
  {
   "cell_type": "code",
   "execution_count": 531,
   "id": "6e04c4db",
   "metadata": {},
   "outputs": [
    {
     "name": "stdout",
     "output_type": "stream",
     "text": [
      "      po_GP_greater_than_0  GP_greater_than_0  DraftAge country_group  Height  \\\n",
      "334                      1                  1        19           CAN      72   \n",
      "1437                     1                  0        20           USA      71   \n",
      "1057                     1                  0        20          EURO      74   \n",
      "1655                     1                  0        19           CAN      75   \n",
      "1541                     0                  0        19           USA      71   \n",
      "...                    ...                ...       ...           ...     ...   \n",
      "740                      0                  0        19          EURO      75   \n",
      "1032                     1                  1        19           USA      75   \n",
      "2121                     1                  1        18           CAN      72   \n",
      "1424                     0                  0        19           CAN      71   \n",
      "1725                     1                  1        18          EURO      73   \n",
      "\n",
      "      Weight Position  CSS_rank  rs_GP  rs_G  ...  sum_7yr_GP  sum_7yr_TOI  \\\n",
      "334      178        C       107     72    38  ...          16          171   \n",
      "1437     196        D       103     60     7  ...           0            0   \n",
      "1057     207        C       236     45     4  ...           0            0   \n",
      "1655     209        D        61     61     3  ...           0            0   \n",
      "1541     190        D        58     37     2  ...           0            0   \n",
      "...      ...      ...       ...    ...   ...  ...         ...          ...   \n",
      "740      207        D       192     39     2  ...           0            0   \n",
      "1032     225        L        92     64    40  ...           4           36   \n",
      "2121     196        L        92     65    11  ...          73          646   \n",
      "1424     176        C        60     54    24  ...           0            0   \n",
      "1725     201        C        10     60    10  ...         189         1974   \n",
      "\n",
      "      Weight_group  Height_group  DraftAge_group  rs_PlusMinus_group  \\\n",
      "334           <200           <72             <20              -10-10   \n",
      "1437          <200           <72             20+              -10-10   \n",
      "1057       200-220         72-75             20+              -10-10   \n",
      "1655       200-220         72-75             <20              -10-10   \n",
      "1541          <200           <72             <20              -10-10   \n",
      "...            ...           ...             ...                 ...   \n",
      "740        200-220         72-75             <20              -10-10   \n",
      "1032          220+         72-75             <20                 10+   \n",
      "2121          <200           <72             <20              -10-10   \n",
      "1424          <200           <72             <20                <-10   \n",
      "1725       200-220         72-75             <20              -10-10   \n",
      "\n",
      "     rs_PIM_perGP rs_G_perGP rs_A_perGP CSS_rank_group  \n",
      "334      1.694444   0.527778   0.486111            91+  \n",
      "1437     2.216667   0.116667   0.500000            91+  \n",
      "1057     1.044444   0.088889   0.044444            91+  \n",
      "1655     2.049180   0.049180   0.163934          31-60  \n",
      "1541     1.135135   0.054054   0.216216          31-60  \n",
      "...           ...        ...        ...            ...  \n",
      "740      0.384615   0.051282   0.230769            91+  \n",
      "1032     1.687500   0.625000   0.406250            91+  \n",
      "2121     1.384615   0.169231   0.400000            91+  \n",
      "1424     0.592593   0.444444   0.666667          31-60  \n",
      "1725     0.333333   0.166667   0.133333           1-30  \n",
      "\n",
      "[1556 rows x 24 columns]\n"
     ]
    }
   ],
   "source": [
    "bins = [0, 31, 61, 91, np.inf]\n",
    "names = ['1-30', '31-60', '61-90', '91+']\n",
    "\n",
    "trainv6['CSS_rank_group'] = pd.cut(trainv6['CSS_rank'], bins, labels=names)\n",
    "print(trainv6)"
   ]
  },
  {
   "cell_type": "code",
   "execution_count": 532,
   "id": "b406dfa0",
   "metadata": {},
   "outputs": [],
   "source": [
    "trainv6=trainv6.drop(['DraftAge','Height','Weight','rs_GP','rs_G','rs_A','rs_P','rs_PIM','rs_PlusMinus'], axis=1)"
   ]
  },
  {
   "cell_type": "code",
   "execution_count": 533,
   "id": "f25cb2de",
   "metadata": {},
   "outputs": [
    {
     "name": "stdout",
     "output_type": "stream",
     "text": [
      "      po_GP_greater_than_0  GP_greater_than_0 country_group Position  \\\n",
      "334                      1                  1           CAN        C   \n",
      "1437                     1                  0           USA        D   \n",
      "1057                     1                  0          EURO        C   \n",
      "1655                     1                  0           CAN        D   \n",
      "1541                     0                  0           USA        D   \n",
      "...                    ...                ...           ...      ...   \n",
      "740                      0                  0          EURO        D   \n",
      "1032                     1                  1           USA        L   \n",
      "2121                     1                  1           CAN        L   \n",
      "1424                     0                  0           CAN        C   \n",
      "1725                     1                  1          EURO        C   \n",
      "\n",
      "      CSS_rank  sum_7yr_GP  sum_7yr_TOI Weight_group Height_group  \\\n",
      "334        107          16          171         <200          <72   \n",
      "1437       103           0            0         <200          <72   \n",
      "1057       236           0            0      200-220        72-75   \n",
      "1655        61           0            0      200-220        72-75   \n",
      "1541        58           0            0         <200          <72   \n",
      "...        ...         ...          ...          ...          ...   \n",
      "740        192           0            0      200-220        72-75   \n",
      "1032        92           4           36         220+        72-75   \n",
      "2121        92          73          646         <200          <72   \n",
      "1424        60           0            0         <200          <72   \n",
      "1725        10         189         1974      200-220        72-75   \n",
      "\n",
      "     DraftAge_group rs_PlusMinus_group  rs_PIM_perGP  rs_G_perGP  rs_A_perGP  \\\n",
      "334             <20             -10-10      1.694444    0.527778    0.486111   \n",
      "1437            20+             -10-10      2.216667    0.116667    0.500000   \n",
      "1057            20+             -10-10      1.044444    0.088889    0.044444   \n",
      "1655            <20             -10-10      2.049180    0.049180    0.163934   \n",
      "1541            <20             -10-10      1.135135    0.054054    0.216216   \n",
      "...             ...                ...           ...         ...         ...   \n",
      "740             <20             -10-10      0.384615    0.051282    0.230769   \n",
      "1032            <20                10+      1.687500    0.625000    0.406250   \n",
      "2121            <20             -10-10      1.384615    0.169231    0.400000   \n",
      "1424            <20               <-10      0.592593    0.444444    0.666667   \n",
      "1725            <20             -10-10      0.333333    0.166667    0.133333   \n",
      "\n",
      "     CSS_rank_group  \n",
      "334             91+  \n",
      "1437            91+  \n",
      "1057            91+  \n",
      "1655          31-60  \n",
      "1541          31-60  \n",
      "...             ...  \n",
      "740             91+  \n",
      "1032            91+  \n",
      "2121            91+  \n",
      "1424          31-60  \n",
      "1725           1-30  \n",
      "\n",
      "[1556 rows x 15 columns]\n"
     ]
    }
   ],
   "source": [
    "print(trainv6)"
   ]
  },
  {
   "cell_type": "code",
   "execution_count": 534,
   "id": "4c71efc5",
   "metadata": {},
   "outputs": [],
   "source": [
    "trainv6['CSS_rank_po_I'] = (trainv6['CSS_rank'] <= 90) & (trainv6['CSS_rank'] > 30) & (trainv6['po_GP_greater_than_0'] > 0)"
   ]
  },
  {
   "cell_type": "code",
   "execution_count": 535,
   "id": "527b9cda",
   "metadata": {},
   "outputs": [
    {
     "name": "stdout",
     "output_type": "stream",
     "text": [
      "      po_GP_greater_than_0  GP_greater_than_0 country_group Position  \\\n",
      "334                      1                  1           CAN        C   \n",
      "1437                     1                  0           USA        D   \n",
      "1057                     1                  0          EURO        C   \n",
      "1655                     1                  0           CAN        D   \n",
      "1541                     0                  0           USA        D   \n",
      "...                    ...                ...           ...      ...   \n",
      "740                      0                  0          EURO        D   \n",
      "1032                     1                  1           USA        L   \n",
      "2121                     1                  1           CAN        L   \n",
      "1424                     0                  0           CAN        C   \n",
      "1725                     1                  1          EURO        C   \n",
      "\n",
      "      CSS_rank  sum_7yr_GP  sum_7yr_TOI Weight_group Height_group  \\\n",
      "334        107          16          171         <200          <72   \n",
      "1437       103           0            0         <200          <72   \n",
      "1057       236           0            0      200-220        72-75   \n",
      "1655        61           0            0      200-220        72-75   \n",
      "1541        58           0            0         <200          <72   \n",
      "...        ...         ...          ...          ...          ...   \n",
      "740        192           0            0      200-220        72-75   \n",
      "1032        92           4           36         220+        72-75   \n",
      "2121        92          73          646         <200          <72   \n",
      "1424        60           0            0         <200          <72   \n",
      "1725        10         189         1974      200-220        72-75   \n",
      "\n",
      "     DraftAge_group rs_PlusMinus_group  rs_PIM_perGP  rs_G_perGP  rs_A_perGP  \\\n",
      "334             <20             -10-10      1.694444    0.527778    0.486111   \n",
      "1437            20+             -10-10      2.216667    0.116667    0.500000   \n",
      "1057            20+             -10-10      1.044444    0.088889    0.044444   \n",
      "1655            <20             -10-10      2.049180    0.049180    0.163934   \n",
      "1541            <20             -10-10      1.135135    0.054054    0.216216   \n",
      "...             ...                ...           ...         ...         ...   \n",
      "740             <20             -10-10      0.384615    0.051282    0.230769   \n",
      "1032            <20                10+      1.687500    0.625000    0.406250   \n",
      "2121            <20             -10-10      1.384615    0.169231    0.400000   \n",
      "1424            <20               <-10      0.592593    0.444444    0.666667   \n",
      "1725            <20             -10-10      0.333333    0.166667    0.133333   \n",
      "\n",
      "     CSS_rank_group  CSS_rank_po_I  \n",
      "334             91+          False  \n",
      "1437            91+          False  \n",
      "1057            91+          False  \n",
      "1655          31-60           True  \n",
      "1541          31-60          False  \n",
      "...             ...            ...  \n",
      "740             91+          False  \n",
      "1032            91+          False  \n",
      "2121            91+          False  \n",
      "1424          31-60          False  \n",
      "1725           1-30          False  \n",
      "\n",
      "[1556 rows x 16 columns]\n"
     ]
    }
   ],
   "source": [
    "print(trainv6)"
   ]
  },
  {
   "cell_type": "code",
   "execution_count": 536,
   "id": "d1ecd6a8",
   "metadata": {},
   "outputs": [],
   "source": [
    "trainv6=trainv6.drop(['CSS_rank','sum_7yr_GP','sum_7yr_TOI'], axis=1)"
   ]
  },
  {
   "cell_type": "code",
   "execution_count": 537,
   "id": "cd4833a5",
   "metadata": {},
   "outputs": [
    {
     "name": "stdout",
     "output_type": "stream",
     "text": [
      "      po_GP_greater_than_0  GP_greater_than_0 country_group Position  \\\n",
      "334                      1                  1           CAN        C   \n",
      "1437                     1                  0           USA        D   \n",
      "1057                     1                  0          EURO        C   \n",
      "1655                     1                  0           CAN        D   \n",
      "1541                     0                  0           USA        D   \n",
      "...                    ...                ...           ...      ...   \n",
      "740                      0                  0          EURO        D   \n",
      "1032                     1                  1           USA        L   \n",
      "2121                     1                  1           CAN        L   \n",
      "1424                     0                  0           CAN        C   \n",
      "1725                     1                  1          EURO        C   \n",
      "\n",
      "     Weight_group Height_group DraftAge_group rs_PlusMinus_group  \\\n",
      "334          <200          <72            <20             -10-10   \n",
      "1437         <200          <72            20+             -10-10   \n",
      "1057      200-220        72-75            20+             -10-10   \n",
      "1655      200-220        72-75            <20             -10-10   \n",
      "1541         <200          <72            <20             -10-10   \n",
      "...           ...          ...            ...                ...   \n",
      "740       200-220        72-75            <20             -10-10   \n",
      "1032         220+        72-75            <20                10+   \n",
      "2121         <200          <72            <20             -10-10   \n",
      "1424         <200          <72            <20               <-10   \n",
      "1725      200-220        72-75            <20             -10-10   \n",
      "\n",
      "      rs_PIM_perGP  rs_G_perGP  rs_A_perGP CSS_rank_group  CSS_rank_po_I  \n",
      "334       1.694444    0.527778    0.486111            91+          False  \n",
      "1437      2.216667    0.116667    0.500000            91+          False  \n",
      "1057      1.044444    0.088889    0.044444            91+          False  \n",
      "1655      2.049180    0.049180    0.163934          31-60           True  \n",
      "1541      1.135135    0.054054    0.216216          31-60          False  \n",
      "...            ...         ...         ...            ...            ...  \n",
      "740       0.384615    0.051282    0.230769            91+          False  \n",
      "1032      1.687500    0.625000    0.406250            91+          False  \n",
      "2121      1.384615    0.169231    0.400000            91+          False  \n",
      "1424      0.592593    0.444444    0.666667          31-60          False  \n",
      "1725      0.333333    0.166667    0.133333           1-30          False  \n",
      "\n",
      "[1556 rows x 13 columns]\n"
     ]
    }
   ],
   "source": [
    "print(trainv6)"
   ]
  },
  {
   "cell_type": "markdown",
   "id": "9fe3f350",
   "metadata": {},
   "source": [
    "### Converting Features"
   ]
  },
  {
   "cell_type": "code",
   "execution_count": 538,
   "id": "49e87d71",
   "metadata": {},
   "outputs": [
    {
     "name": "stdout",
     "output_type": "stream",
     "text": [
      "<class 'pandas.core.frame.DataFrame'>\n",
      "Int64Index: 1556 entries, 334 to 1725\n",
      "Data columns (total 13 columns):\n",
      " #   Column                Non-Null Count  Dtype   \n",
      "---  ------                --------------  -----   \n",
      " 0   po_GP_greater_than_0  1556 non-null   uint8   \n",
      " 1   GP_greater_than_0     1556 non-null   uint8   \n",
      " 2   country_group         1556 non-null   object  \n",
      " 3   Position              1556 non-null   object  \n",
      " 4   Weight_group          1556 non-null   category\n",
      " 5   Height_group          1556 non-null   category\n",
      " 6   DraftAge_group        1556 non-null   category\n",
      " 7   rs_PlusMinus_group    1556 non-null   category\n",
      " 8   rs_PIM_perGP          1539 non-null   float64 \n",
      " 9   rs_G_perGP            1541 non-null   float64 \n",
      " 10  rs_A_perGP            1541 non-null   float64 \n",
      " 11  CSS_rank_group        1556 non-null   category\n",
      " 12  CSS_rank_po_I         1556 non-null   bool    \n",
      "dtypes: bool(1), category(5), float64(3), object(2), uint8(2)\n",
      "memory usage: 118.1+ KB\n"
     ]
    }
   ],
   "source": [
    "trainv6.info()"
   ]
  },
  {
   "cell_type": "code",
   "execution_count": 539,
   "id": "130db442",
   "metadata": {},
   "outputs": [
    {
     "name": "stdout",
     "output_type": "stream",
     "text": [
      "      CSS_rank_po_I  po_GP_greater_than_0  GP_greater_than_0 country_group  \\\n",
      "334               0                     1                  1           CAN   \n",
      "1437              0                     1                  0           USA   \n",
      "1057              0                     1                  0          EURO   \n",
      "1655              1                     1                  0           CAN   \n",
      "1541              0                     0                  0           USA   \n",
      "...             ...                   ...                ...           ...   \n",
      "740               0                     0                  0          EURO   \n",
      "1032              0                     1                  1           USA   \n",
      "2121              0                     1                  1           CAN   \n",
      "1424              0                     0                  0           CAN   \n",
      "1725              0                     1                  1          EURO   \n",
      "\n",
      "     Position Weight_group Height_group DraftAge_group rs_PlusMinus_group  \\\n",
      "334         C         <200          <72            <20             -10-10   \n",
      "1437        D         <200          <72            20+             -10-10   \n",
      "1057        C      200-220        72-75            20+             -10-10   \n",
      "1655        D      200-220        72-75            <20             -10-10   \n",
      "1541        D         <200          <72            <20             -10-10   \n",
      "...       ...          ...          ...            ...                ...   \n",
      "740         D      200-220        72-75            <20             -10-10   \n",
      "1032        L         220+        72-75            <20                10+   \n",
      "2121        L         <200          <72            <20             -10-10   \n",
      "1424        C         <200          <72            <20               <-10   \n",
      "1725        C      200-220        72-75            <20             -10-10   \n",
      "\n",
      "      rs_PIM_perGP  rs_G_perGP  rs_A_perGP CSS_rank_group  \n",
      "334       1.694444    0.527778    0.486111            91+  \n",
      "1437      2.216667    0.116667    0.500000            91+  \n",
      "1057      1.044444    0.088889    0.044444            91+  \n",
      "1655      2.049180    0.049180    0.163934          31-60  \n",
      "1541      1.135135    0.054054    0.216216          31-60  \n",
      "...            ...         ...         ...            ...  \n",
      "740       0.384615    0.051282    0.230769            91+  \n",
      "1032      1.687500    0.625000    0.406250            91+  \n",
      "2121      1.384615    0.169231    0.400000            91+  \n",
      "1424      0.592593    0.444444    0.666667          31-60  \n",
      "1725      0.333333    0.166667    0.133333           1-30  \n",
      "\n",
      "[1556 rows x 13 columns]\n",
      "<class 'pandas.core.frame.DataFrame'>\n",
      "Int64Index: 1556 entries, 334 to 1725\n",
      "Data columns (total 13 columns):\n",
      " #   Column                Non-Null Count  Dtype   \n",
      "---  ------                --------------  -----   \n",
      " 0   CSS_rank_po_I         1556 non-null   uint8   \n",
      " 1   po_GP_greater_than_0  1556 non-null   uint8   \n",
      " 2   GP_greater_than_0     1556 non-null   uint8   \n",
      " 3   country_group         1556 non-null   object  \n",
      " 4   Position              1556 non-null   object  \n",
      " 5   Weight_group          1556 non-null   category\n",
      " 6   Height_group          1556 non-null   category\n",
      " 7   DraftAge_group        1556 non-null   category\n",
      " 8   rs_PlusMinus_group    1556 non-null   category\n",
      " 9   rs_PIM_perGP          1539 non-null   float64 \n",
      " 10  rs_G_perGP            1541 non-null   float64 \n",
      " 11  rs_A_perGP            1541 non-null   float64 \n",
      " 12  CSS_rank_group        1556 non-null   category\n",
      "dtypes: category(5), float64(3), object(2), uint8(3)\n",
      "memory usage: 118.1+ KB\n"
     ]
    }
   ],
   "source": [
    "#convert bool to int\n",
    "\n",
    "trainv7=pd.get_dummies(trainv6[\"CSS_rank_po_I\"])\n",
    "trainv8=pd.concat((trainv7, trainv6), axis=1)\n",
    "trainv8=trainv8.drop([\"CSS_rank_po_I\"], axis=1)\n",
    "trainv8=trainv8.drop(trainv8.columns[[0]], axis=1)\n",
    "trainv9=trainv8.rename(columns={1: \"CSS_rank_po_I\"})\n",
    "print(trainv9)\n",
    "trainv9.info()"
   ]
  },
  {
   "cell_type": "code",
   "execution_count": 540,
   "id": "8cf5a264",
   "metadata": {},
   "outputs": [
    {
     "name": "stdout",
     "output_type": "stream",
     "text": [
      "      CSS_rank_po_I  po_GP_greater_than_0  GP_greater_than_0  country_group  \\\n",
      "334               0                     1                  1              0   \n",
      "1437              0                     1                  0              1   \n",
      "1057              0                     1                  0              2   \n",
      "1655              1                     1                  0              0   \n",
      "1541              0                     0                  0              1   \n",
      "...             ...                   ...                ...            ...   \n",
      "740               0                     0                  0              2   \n",
      "1032              0                     1                  1              1   \n",
      "2121              0                     1                  1              0   \n",
      "1424              0                     0                  0              0   \n",
      "1725              0                     1                  1              2   \n",
      "\n",
      "     Position Weight_group Height_group DraftAge_group rs_PlusMinus_group  \\\n",
      "334         C         <200          <72            <20             -10-10   \n",
      "1437        D         <200          <72            20+             -10-10   \n",
      "1057        C      200-220        72-75            20+             -10-10   \n",
      "1655        D      200-220        72-75            <20             -10-10   \n",
      "1541        D         <200          <72            <20             -10-10   \n",
      "...       ...          ...          ...            ...                ...   \n",
      "740         D      200-220        72-75            <20             -10-10   \n",
      "1032        L         220+        72-75            <20                10+   \n",
      "2121        L         <200          <72            <20             -10-10   \n",
      "1424        C         <200          <72            <20               <-10   \n",
      "1725        C      200-220        72-75            <20             -10-10   \n",
      "\n",
      "      rs_PIM_perGP  rs_G_perGP  rs_A_perGP CSS_rank_group  \n",
      "334       1.694444    0.527778    0.486111            91+  \n",
      "1437      2.216667    0.116667    0.500000            91+  \n",
      "1057      1.044444    0.088889    0.044444            91+  \n",
      "1655      2.049180    0.049180    0.163934          31-60  \n",
      "1541      1.135135    0.054054    0.216216          31-60  \n",
      "...            ...         ...         ...            ...  \n",
      "740       0.384615    0.051282    0.230769            91+  \n",
      "1032      1.687500    0.625000    0.406250            91+  \n",
      "2121      1.384615    0.169231    0.400000            91+  \n",
      "1424      0.592593    0.444444    0.666667          31-60  \n",
      "1725      0.333333    0.166667    0.133333           1-30  \n",
      "\n",
      "[1556 rows x 13 columns]\n",
      "<class 'pandas.core.frame.DataFrame'>\n",
      "Int64Index: 1556 entries, 334 to 1725\n",
      "Data columns (total 13 columns):\n",
      " #   Column                Non-Null Count  Dtype   \n",
      "---  ------                --------------  -----   \n",
      " 0   CSS_rank_po_I         1556 non-null   uint8   \n",
      " 1   po_GP_greater_than_0  1556 non-null   uint8   \n",
      " 2   GP_greater_than_0     1556 non-null   uint8   \n",
      " 3   country_group         1556 non-null   int64   \n",
      " 4   Position              1556 non-null   object  \n",
      " 5   Weight_group          1556 non-null   category\n",
      " 6   Height_group          1556 non-null   category\n",
      " 7   DraftAge_group        1556 non-null   category\n",
      " 8   rs_PlusMinus_group    1556 non-null   category\n",
      " 9   rs_PIM_perGP          1539 non-null   float64 \n",
      " 10  rs_G_perGP            1541 non-null   float64 \n",
      " 11  rs_A_perGP            1541 non-null   float64 \n",
      " 12  CSS_rank_group        1556 non-null   category\n",
      "dtypes: category(5), float64(3), int64(1), object(1), uint8(3)\n",
      "memory usage: 118.1+ KB\n"
     ]
    }
   ],
   "source": [
    "#object to int\n",
    "country = {\"CAN\": 0,\"USA\": 1,\"EURO\": 2}\n",
    "trainv9['country_group'] = trainv9['country_group'].map(country)\n",
    "print(trainv9)\n",
    "trainv9.info()"
   ]
  },
  {
   "cell_type": "code",
   "execution_count": 541,
   "id": "25f50fc2",
   "metadata": {},
   "outputs": [
    {
     "name": "stdout",
     "output_type": "stream",
     "text": [
      "      CSS_rank_po_I  po_GP_greater_than_0  GP_greater_than_0  country_group  \\\n",
      "334               0                     1                  1              0   \n",
      "1437              0                     1                  0              1   \n",
      "1057              0                     1                  0              2   \n",
      "1655              1                     1                  0              0   \n",
      "1541              0                     0                  0              1   \n",
      "...             ...                   ...                ...            ...   \n",
      "740               0                     0                  0              2   \n",
      "1032              0                     1                  1              1   \n",
      "2121              0                     1                  1              0   \n",
      "1424              0                     0                  0              0   \n",
      "1725              0                     1                  1              2   \n",
      "\n",
      "      Position Weight_group Height_group DraftAge_group rs_PlusMinus_group  \\\n",
      "334          0         <200          <72            <20             -10-10   \n",
      "1437         3         <200          <72            20+             -10-10   \n",
      "1057         0      200-220        72-75            20+             -10-10   \n",
      "1655         3      200-220        72-75            <20             -10-10   \n",
      "1541         3         <200          <72            <20             -10-10   \n",
      "...        ...          ...          ...            ...                ...   \n",
      "740          3      200-220        72-75            <20             -10-10   \n",
      "1032         1         220+        72-75            <20                10+   \n",
      "2121         1         <200          <72            <20             -10-10   \n",
      "1424         0         <200          <72            <20               <-10   \n",
      "1725         0      200-220        72-75            <20             -10-10   \n",
      "\n",
      "      rs_PIM_perGP  rs_G_perGP  rs_A_perGP CSS_rank_group  \n",
      "334       1.694444    0.527778    0.486111            91+  \n",
      "1437      2.216667    0.116667    0.500000            91+  \n",
      "1057      1.044444    0.088889    0.044444            91+  \n",
      "1655      2.049180    0.049180    0.163934          31-60  \n",
      "1541      1.135135    0.054054    0.216216          31-60  \n",
      "...            ...         ...         ...            ...  \n",
      "740       0.384615    0.051282    0.230769            91+  \n",
      "1032      1.687500    0.625000    0.406250            91+  \n",
      "2121      1.384615    0.169231    0.400000            91+  \n",
      "1424      0.592593    0.444444    0.666667          31-60  \n",
      "1725      0.333333    0.166667    0.133333           1-30  \n",
      "\n",
      "[1556 rows x 13 columns]\n",
      "<class 'pandas.core.frame.DataFrame'>\n",
      "Int64Index: 1556 entries, 334 to 1725\n",
      "Data columns (total 13 columns):\n",
      " #   Column                Non-Null Count  Dtype   \n",
      "---  ------                --------------  -----   \n",
      " 0   CSS_rank_po_I         1556 non-null   uint8   \n",
      " 1   po_GP_greater_than_0  1556 non-null   uint8   \n",
      " 2   GP_greater_than_0     1556 non-null   uint8   \n",
      " 3   country_group         1556 non-null   int64   \n",
      " 4   Position              1556 non-null   int64   \n",
      " 5   Weight_group          1556 non-null   category\n",
      " 6   Height_group          1556 non-null   category\n",
      " 7   DraftAge_group        1556 non-null   category\n",
      " 8   rs_PlusMinus_group    1556 non-null   category\n",
      " 9   rs_PIM_perGP          1539 non-null   float64 \n",
      " 10  rs_G_perGP            1541 non-null   float64 \n",
      " 11  rs_A_perGP            1541 non-null   float64 \n",
      " 12  CSS_rank_group        1556 non-null   category\n",
      "dtypes: category(5), float64(3), int64(2), uint8(3)\n",
      "memory usage: 118.1 KB\n"
     ]
    }
   ],
   "source": [
    "#object to int\n",
    "pos = {\"C\": 0,\"L\": 1,\"R\": 2,\"D\": 3}\n",
    "trainv9['Position'] = trainv9['Position'].map(pos)\n",
    "print(trainv9)\n",
    "trainv9.info()"
   ]
  },
  {
   "cell_type": "code",
   "execution_count": 542,
   "id": "6d9d7282",
   "metadata": {},
   "outputs": [
    {
     "name": "stdout",
     "output_type": "stream",
     "text": [
      "      CSS_rank_po_I  po_GP_greater_than_0  GP_greater_than_0  country_group  \\\n",
      "334               0                     1                  1              0   \n",
      "1437              0                     1                  0              1   \n",
      "1057              0                     1                  0              2   \n",
      "1655              1                     1                  0              0   \n",
      "1541              0                     0                  0              1   \n",
      "...             ...                   ...                ...            ...   \n",
      "740               0                     0                  0              2   \n",
      "1032              0                     1                  1              1   \n",
      "2121              0                     1                  1              0   \n",
      "1424              0                     0                  0              0   \n",
      "1725              0                     1                  1              2   \n",
      "\n",
      "      Position Weight_group Height_group DraftAge_group rs_PlusMinus_group  \\\n",
      "334          0            0          <72            <20             -10-10   \n",
      "1437         3            0          <72            20+             -10-10   \n",
      "1057         0            1        72-75            20+             -10-10   \n",
      "1655         3            1        72-75            <20             -10-10   \n",
      "1541         3            0          <72            <20             -10-10   \n",
      "...        ...          ...          ...            ...                ...   \n",
      "740          3            1        72-75            <20             -10-10   \n",
      "1032         1            2        72-75            <20                10+   \n",
      "2121         1            0          <72            <20             -10-10   \n",
      "1424         0            0          <72            <20               <-10   \n",
      "1725         0            1        72-75            <20             -10-10   \n",
      "\n",
      "      rs_PIM_perGP  rs_G_perGP  rs_A_perGP CSS_rank_group  \n",
      "334       1.694444    0.527778    0.486111            91+  \n",
      "1437      2.216667    0.116667    0.500000            91+  \n",
      "1057      1.044444    0.088889    0.044444            91+  \n",
      "1655      2.049180    0.049180    0.163934          31-60  \n",
      "1541      1.135135    0.054054    0.216216          31-60  \n",
      "...            ...         ...         ...            ...  \n",
      "740       0.384615    0.051282    0.230769            91+  \n",
      "1032      1.687500    0.625000    0.406250            91+  \n",
      "2121      1.384615    0.169231    0.400000            91+  \n",
      "1424      0.592593    0.444444    0.666667          31-60  \n",
      "1725      0.333333    0.166667    0.133333           1-30  \n",
      "\n",
      "[1556 rows x 13 columns]\n",
      "<class 'pandas.core.frame.DataFrame'>\n",
      "Int64Index: 1556 entries, 334 to 1725\n",
      "Data columns (total 13 columns):\n",
      " #   Column                Non-Null Count  Dtype   \n",
      "---  ------                --------------  -----   \n",
      " 0   CSS_rank_po_I         1556 non-null   uint8   \n",
      " 1   po_GP_greater_than_0  1556 non-null   uint8   \n",
      " 2   GP_greater_than_0     1556 non-null   uint8   \n",
      " 3   country_group         1556 non-null   int64   \n",
      " 4   Position              1556 non-null   int64   \n",
      " 5   Weight_group          1556 non-null   category\n",
      " 6   Height_group          1556 non-null   category\n",
      " 7   DraftAge_group        1556 non-null   category\n",
      " 8   rs_PlusMinus_group    1556 non-null   category\n",
      " 9   rs_PIM_perGP          1539 non-null   float64 \n",
      " 10  rs_G_perGP            1541 non-null   float64 \n",
      " 11  rs_A_perGP            1541 non-null   float64 \n",
      " 12  CSS_rank_group        1556 non-null   category\n",
      "dtypes: category(5), float64(3), int64(2), uint8(3)\n",
      "memory usage: 118.1 KB\n"
     ]
    }
   ],
   "source": [
    "#cat to int\n",
    "wt = {\"<200\": 0,\"200-220\": 1,\"220+\": 2}\n",
    "trainv9['Weight_group'] = trainv9['Weight_group'].map(wt)\n",
    "print(trainv9)\n",
    "trainv9.info()"
   ]
  },
  {
   "cell_type": "code",
   "execution_count": 543,
   "id": "7d1cd242",
   "metadata": {},
   "outputs": [
    {
     "name": "stdout",
     "output_type": "stream",
     "text": [
      "      CSS_rank_po_I  po_GP_greater_than_0  GP_greater_than_0  country_group  \\\n",
      "334               0                     1                  1              0   \n",
      "1437              0                     1                  0              1   \n",
      "1057              0                     1                  0              2   \n",
      "1655              1                     1                  0              0   \n",
      "1541              0                     0                  0              1   \n",
      "...             ...                   ...                ...            ...   \n",
      "740               0                     0                  0              2   \n",
      "1032              0                     1                  1              1   \n",
      "2121              0                     1                  1              0   \n",
      "1424              0                     0                  0              0   \n",
      "1725              0                     1                  1              2   \n",
      "\n",
      "      Position Weight_group Height_group DraftAge_group rs_PlusMinus_group  \\\n",
      "334          0            0            0            <20             -10-10   \n",
      "1437         3            0            0            20+             -10-10   \n",
      "1057         0            1            1            20+             -10-10   \n",
      "1655         3            1            1            <20             -10-10   \n",
      "1541         3            0            0            <20             -10-10   \n",
      "...        ...          ...          ...            ...                ...   \n",
      "740          3            1            1            <20             -10-10   \n",
      "1032         1            2            1            <20                10+   \n",
      "2121         1            0            0            <20             -10-10   \n",
      "1424         0            0            0            <20               <-10   \n",
      "1725         0            1            1            <20             -10-10   \n",
      "\n",
      "      rs_PIM_perGP  rs_G_perGP  rs_A_perGP CSS_rank_group  \n",
      "334       1.694444    0.527778    0.486111            91+  \n",
      "1437      2.216667    0.116667    0.500000            91+  \n",
      "1057      1.044444    0.088889    0.044444            91+  \n",
      "1655      2.049180    0.049180    0.163934          31-60  \n",
      "1541      1.135135    0.054054    0.216216          31-60  \n",
      "...            ...         ...         ...            ...  \n",
      "740       0.384615    0.051282    0.230769            91+  \n",
      "1032      1.687500    0.625000    0.406250            91+  \n",
      "2121      1.384615    0.169231    0.400000            91+  \n",
      "1424      0.592593    0.444444    0.666667          31-60  \n",
      "1725      0.333333    0.166667    0.133333           1-30  \n",
      "\n",
      "[1556 rows x 13 columns]\n",
      "<class 'pandas.core.frame.DataFrame'>\n",
      "Int64Index: 1556 entries, 334 to 1725\n",
      "Data columns (total 13 columns):\n",
      " #   Column                Non-Null Count  Dtype   \n",
      "---  ------                --------------  -----   \n",
      " 0   CSS_rank_po_I         1556 non-null   uint8   \n",
      " 1   po_GP_greater_than_0  1556 non-null   uint8   \n",
      " 2   GP_greater_than_0     1556 non-null   uint8   \n",
      " 3   country_group         1556 non-null   int64   \n",
      " 4   Position              1556 non-null   int64   \n",
      " 5   Weight_group          1556 non-null   category\n",
      " 6   Height_group          1556 non-null   category\n",
      " 7   DraftAge_group        1556 non-null   category\n",
      " 8   rs_PlusMinus_group    1556 non-null   category\n",
      " 9   rs_PIM_perGP          1539 non-null   float64 \n",
      " 10  rs_G_perGP            1541 non-null   float64 \n",
      " 11  rs_A_perGP            1541 non-null   float64 \n",
      " 12  CSS_rank_group        1556 non-null   category\n",
      "dtypes: category(5), float64(3), int64(2), uint8(3)\n",
      "memory usage: 118.1 KB\n"
     ]
    }
   ],
   "source": [
    "ht = {\"<72\": 0,\"72-75\": 1,\"75+\": 2}\n",
    "trainv9['Height_group'] = trainv9['Height_group'].map(ht)\n",
    "print(trainv9)\n",
    "trainv9.info()"
   ]
  },
  {
   "cell_type": "code",
   "execution_count": 544,
   "id": "77aa4cca",
   "metadata": {},
   "outputs": [
    {
     "name": "stdout",
     "output_type": "stream",
     "text": [
      "      CSS_rank_po_I  po_GP_greater_than_0  GP_greater_than_0  country_group  \\\n",
      "334               0                     1                  1              0   \n",
      "1437              0                     1                  0              1   \n",
      "1057              0                     1                  0              2   \n",
      "1655              1                     1                  0              0   \n",
      "1541              0                     0                  0              1   \n",
      "...             ...                   ...                ...            ...   \n",
      "740               0                     0                  0              2   \n",
      "1032              0                     1                  1              1   \n",
      "2121              0                     1                  1              0   \n",
      "1424              0                     0                  0              0   \n",
      "1725              0                     1                  1              2   \n",
      "\n",
      "      Position Weight_group Height_group DraftAge_group rs_PlusMinus_group  \\\n",
      "334          0            0            0              0             -10-10   \n",
      "1437         3            0            0              1             -10-10   \n",
      "1057         0            1            1              1             -10-10   \n",
      "1655         3            1            1              0             -10-10   \n",
      "1541         3            0            0              0             -10-10   \n",
      "...        ...          ...          ...            ...                ...   \n",
      "740          3            1            1              0             -10-10   \n",
      "1032         1            2            1              0                10+   \n",
      "2121         1            0            0              0             -10-10   \n",
      "1424         0            0            0              0               <-10   \n",
      "1725         0            1            1              0             -10-10   \n",
      "\n",
      "      rs_PIM_perGP  rs_G_perGP  rs_A_perGP CSS_rank_group  \n",
      "334       1.694444    0.527778    0.486111            91+  \n",
      "1437      2.216667    0.116667    0.500000            91+  \n",
      "1057      1.044444    0.088889    0.044444            91+  \n",
      "1655      2.049180    0.049180    0.163934          31-60  \n",
      "1541      1.135135    0.054054    0.216216          31-60  \n",
      "...            ...         ...         ...            ...  \n",
      "740       0.384615    0.051282    0.230769            91+  \n",
      "1032      1.687500    0.625000    0.406250            91+  \n",
      "2121      1.384615    0.169231    0.400000            91+  \n",
      "1424      0.592593    0.444444    0.666667          31-60  \n",
      "1725      0.333333    0.166667    0.133333           1-30  \n",
      "\n",
      "[1556 rows x 13 columns]\n",
      "<class 'pandas.core.frame.DataFrame'>\n",
      "Int64Index: 1556 entries, 334 to 1725\n",
      "Data columns (total 13 columns):\n",
      " #   Column                Non-Null Count  Dtype   \n",
      "---  ------                --------------  -----   \n",
      " 0   CSS_rank_po_I         1556 non-null   uint8   \n",
      " 1   po_GP_greater_than_0  1556 non-null   uint8   \n",
      " 2   GP_greater_than_0     1556 non-null   uint8   \n",
      " 3   country_group         1556 non-null   int64   \n",
      " 4   Position              1556 non-null   int64   \n",
      " 5   Weight_group          1556 non-null   category\n",
      " 6   Height_group          1556 non-null   category\n",
      " 7   DraftAge_group        1556 non-null   category\n",
      " 8   rs_PlusMinus_group    1556 non-null   category\n",
      " 9   rs_PIM_perGP          1539 non-null   float64 \n",
      " 10  rs_G_perGP            1541 non-null   float64 \n",
      " 11  rs_A_perGP            1541 non-null   float64 \n",
      " 12  CSS_rank_group        1556 non-null   category\n",
      "dtypes: category(5), float64(3), int64(2), uint8(3)\n",
      "memory usage: 118.1 KB\n"
     ]
    }
   ],
   "source": [
    "Da = {\"<20\": 0,\"20+\": 1}\n",
    "trainv9['DraftAge_group'] = trainv9['DraftAge_group'].map(Da)\n",
    "print(trainv9)\n",
    "trainv9.info()"
   ]
  },
  {
   "cell_type": "code",
   "execution_count": 545,
   "id": "6ddb92fc",
   "metadata": {},
   "outputs": [
    {
     "name": "stdout",
     "output_type": "stream",
     "text": [
      "      CSS_rank_po_I  po_GP_greater_than_0  GP_greater_than_0  country_group  \\\n",
      "334               0                     1                  1              0   \n",
      "1437              0                     1                  0              1   \n",
      "1057              0                     1                  0              2   \n",
      "1655              1                     1                  0              0   \n",
      "1541              0                     0                  0              1   \n",
      "...             ...                   ...                ...            ...   \n",
      "740               0                     0                  0              2   \n",
      "1032              0                     1                  1              1   \n",
      "2121              0                     1                  1              0   \n",
      "1424              0                     0                  0              0   \n",
      "1725              0                     1                  1              2   \n",
      "\n",
      "      Position Weight_group Height_group DraftAge_group rs_PlusMinus_group  \\\n",
      "334          0            0            0              0                  1   \n",
      "1437         3            0            0              1                  1   \n",
      "1057         0            1            1              1                  1   \n",
      "1655         3            1            1              0                  1   \n",
      "1541         3            0            0              0                  1   \n",
      "...        ...          ...          ...            ...                ...   \n",
      "740          3            1            1              0                  1   \n",
      "1032         1            2            1              0                  2   \n",
      "2121         1            0            0              0                  1   \n",
      "1424         0            0            0              0                  0   \n",
      "1725         0            1            1              0                  1   \n",
      "\n",
      "      rs_PIM_perGP  rs_G_perGP  rs_A_perGP CSS_rank_group  \n",
      "334       1.694444    0.527778    0.486111            91+  \n",
      "1437      2.216667    0.116667    0.500000            91+  \n",
      "1057      1.044444    0.088889    0.044444            91+  \n",
      "1655      2.049180    0.049180    0.163934          31-60  \n",
      "1541      1.135135    0.054054    0.216216          31-60  \n",
      "...            ...         ...         ...            ...  \n",
      "740       0.384615    0.051282    0.230769            91+  \n",
      "1032      1.687500    0.625000    0.406250            91+  \n",
      "2121      1.384615    0.169231    0.400000            91+  \n",
      "1424      0.592593    0.444444    0.666667          31-60  \n",
      "1725      0.333333    0.166667    0.133333           1-30  \n",
      "\n",
      "[1556 rows x 13 columns]\n",
      "<class 'pandas.core.frame.DataFrame'>\n",
      "Int64Index: 1556 entries, 334 to 1725\n",
      "Data columns (total 13 columns):\n",
      " #   Column                Non-Null Count  Dtype   \n",
      "---  ------                --------------  -----   \n",
      " 0   CSS_rank_po_I         1556 non-null   uint8   \n",
      " 1   po_GP_greater_than_0  1556 non-null   uint8   \n",
      " 2   GP_greater_than_0     1556 non-null   uint8   \n",
      " 3   country_group         1556 non-null   int64   \n",
      " 4   Position              1556 non-null   int64   \n",
      " 5   Weight_group          1556 non-null   category\n",
      " 6   Height_group          1556 non-null   category\n",
      " 7   DraftAge_group        1556 non-null   category\n",
      " 8   rs_PlusMinus_group    1556 non-null   category\n",
      " 9   rs_PIM_perGP          1539 non-null   float64 \n",
      " 10  rs_G_perGP            1541 non-null   float64 \n",
      " 11  rs_A_perGP            1541 non-null   float64 \n",
      " 12  CSS_rank_group        1556 non-null   category\n",
      "dtypes: category(5), float64(3), int64(2), uint8(3)\n",
      "memory usage: 118.1 KB\n"
     ]
    }
   ],
   "source": [
    "pm = {\"<-10\": 0,\"-10-10\": 1,\"10+\": 2}\n",
    "trainv9['rs_PlusMinus_group'] = trainv9['rs_PlusMinus_group'].map(pm)\n",
    "print(trainv9)\n",
    "trainv9.info()"
   ]
  },
  {
   "cell_type": "code",
   "execution_count": 546,
   "id": "3ceadb00",
   "metadata": {},
   "outputs": [
    {
     "name": "stdout",
     "output_type": "stream",
     "text": [
      "      CSS_rank_po_I  po_GP_greater_than_0  GP_greater_than_0  country_group  \\\n",
      "334               0                     1                  1              0   \n",
      "1437              0                     1                  0              1   \n",
      "1057              0                     1                  0              2   \n",
      "1655              1                     1                  0              0   \n",
      "1541              0                     0                  0              1   \n",
      "...             ...                   ...                ...            ...   \n",
      "740               0                     0                  0              2   \n",
      "1032              0                     1                  1              1   \n",
      "2121              0                     1                  1              0   \n",
      "1424              0                     0                  0              0   \n",
      "1725              0                     1                  1              2   \n",
      "\n",
      "      Position Weight_group Height_group DraftAge_group rs_PlusMinus_group  \\\n",
      "334          0            0            0              0                  1   \n",
      "1437         3            0            0              1                  1   \n",
      "1057         0            1            1              1                  1   \n",
      "1655         3            1            1              0                  1   \n",
      "1541         3            0            0              0                  1   \n",
      "...        ...          ...          ...            ...                ...   \n",
      "740          3            1            1              0                  1   \n",
      "1032         1            2            1              0                  2   \n",
      "2121         1            0            0              0                  1   \n",
      "1424         0            0            0              0                  0   \n",
      "1725         0            1            1              0                  1   \n",
      "\n",
      "      rs_PIM_perGP  rs_G_perGP  rs_A_perGP CSS_rank_group  \n",
      "334       1.694444    0.527778    0.486111              3  \n",
      "1437      2.216667    0.116667    0.500000              3  \n",
      "1057      1.044444    0.088889    0.044444              3  \n",
      "1655      2.049180    0.049180    0.163934              1  \n",
      "1541      1.135135    0.054054    0.216216              1  \n",
      "...            ...         ...         ...            ...  \n",
      "740       0.384615    0.051282    0.230769              3  \n",
      "1032      1.687500    0.625000    0.406250              3  \n",
      "2121      1.384615    0.169231    0.400000              3  \n",
      "1424      0.592593    0.444444    0.666667              1  \n",
      "1725      0.333333    0.166667    0.133333              0  \n",
      "\n",
      "[1556 rows x 13 columns]\n",
      "<class 'pandas.core.frame.DataFrame'>\n",
      "Int64Index: 1556 entries, 334 to 1725\n",
      "Data columns (total 13 columns):\n",
      " #   Column                Non-Null Count  Dtype   \n",
      "---  ------                --------------  -----   \n",
      " 0   CSS_rank_po_I         1556 non-null   uint8   \n",
      " 1   po_GP_greater_than_0  1556 non-null   uint8   \n",
      " 2   GP_greater_than_0     1556 non-null   uint8   \n",
      " 3   country_group         1556 non-null   int64   \n",
      " 4   Position              1556 non-null   int64   \n",
      " 5   Weight_group          1556 non-null   category\n",
      " 6   Height_group          1556 non-null   category\n",
      " 7   DraftAge_group        1556 non-null   category\n",
      " 8   rs_PlusMinus_group    1556 non-null   category\n",
      " 9   rs_PIM_perGP          1539 non-null   float64 \n",
      " 10  rs_G_perGP            1541 non-null   float64 \n",
      " 11  rs_A_perGP            1541 non-null   float64 \n",
      " 12  CSS_rank_group        1556 non-null   category\n",
      "dtypes: category(5), float64(3), int64(2), uint8(3)\n",
      "memory usage: 118.1 KB\n"
     ]
    }
   ],
   "source": [
    "Cs = {\"1-30\": 0,\"31-60\": 1,\"61-90\": 2,\"91+\": 3}\n",
    "trainv9['CSS_rank_group'] = trainv9['CSS_rank_group'].map(Cs)\n",
    "print(trainv9)\n",
    "trainv9.info()"
   ]
  },
  {
   "cell_type": "code",
   "execution_count": 547,
   "id": "eef5fadb",
   "metadata": {},
   "outputs": [],
   "source": [
    "trainv9['Weight_group'] = trainv9['Weight_group'].astype(int)"
   ]
  },
  {
   "cell_type": "code",
   "execution_count": 548,
   "id": "9f327af8",
   "metadata": {},
   "outputs": [],
   "source": [
    "trainv9['Height_group'] = trainv9['Height_group'].astype(int)"
   ]
  },
  {
   "cell_type": "code",
   "execution_count": 549,
   "id": "5e491d7b",
   "metadata": {},
   "outputs": [],
   "source": [
    "trainv9['DraftAge_group'] = trainv9['DraftAge_group'].astype(int)"
   ]
  },
  {
   "cell_type": "code",
   "execution_count": 550,
   "id": "d83e3344",
   "metadata": {},
   "outputs": [],
   "source": [
    "trainv9['rs_PlusMinus_group'] = trainv9['rs_PlusMinus_group'].astype(int)"
   ]
  },
  {
   "cell_type": "code",
   "execution_count": 551,
   "id": "6fa28660",
   "metadata": {},
   "outputs": [],
   "source": [
    "trainv9['CSS_rank_group'] = trainv9['CSS_rank_group'].astype(int)"
   ]
  },
  {
   "cell_type": "code",
   "execution_count": 552,
   "id": "0c6295f7",
   "metadata": {},
   "outputs": [
    {
     "name": "stdout",
     "output_type": "stream",
     "text": [
      "<class 'pandas.core.frame.DataFrame'>\n",
      "Int64Index: 1556 entries, 334 to 1725\n",
      "Data columns (total 13 columns):\n",
      " #   Column                Non-Null Count  Dtype  \n",
      "---  ------                --------------  -----  \n",
      " 0   CSS_rank_po_I         1556 non-null   uint8  \n",
      " 1   po_GP_greater_than_0  1556 non-null   uint8  \n",
      " 2   GP_greater_than_0     1556 non-null   uint8  \n",
      " 3   country_group         1556 non-null   int64  \n",
      " 4   Position              1556 non-null   int64  \n",
      " 5   Weight_group          1556 non-null   int32  \n",
      " 6   Height_group          1556 non-null   int32  \n",
      " 7   DraftAge_group        1556 non-null   int32  \n",
      " 8   rs_PlusMinus_group    1556 non-null   int32  \n",
      " 9   rs_PIM_perGP          1539 non-null   float64\n",
      " 10  rs_G_perGP            1541 non-null   float64\n",
      " 11  rs_A_perGP            1541 non-null   float64\n",
      " 12  CSS_rank_group        1556 non-null   int32  \n",
      "dtypes: float64(3), int32(5), int64(2), uint8(3)\n",
      "memory usage: 140.2 KB\n"
     ]
    }
   ],
   "source": [
    "trainv9.info()"
   ]
  },
  {
   "cell_type": "code",
   "execution_count": 553,
   "id": "2016d0b1",
   "metadata": {},
   "outputs": [
    {
     "name": "stdout",
     "output_type": "stream",
     "text": [
      "      CSS_rank_po_I  po_GP_greater_than_0  GP_greater_than_0  country_group  \\\n",
      "334               0                     1                  1              0   \n",
      "1437              0                     1                  0              1   \n",
      "1057              0                     1                  0              2   \n",
      "1655              1                     1                  0              0   \n",
      "1541              0                     0                  0              1   \n",
      "...             ...                   ...                ...            ...   \n",
      "740               0                     0                  0              2   \n",
      "1032              0                     1                  1              1   \n",
      "2121              0                     1                  1              0   \n",
      "1424              0                     0                  0              0   \n",
      "1725              0                     1                  1              2   \n",
      "\n",
      "      Position  Weight_group  Height_group  DraftAge_group  \\\n",
      "334          0             0             0               0   \n",
      "1437         3             0             0               1   \n",
      "1057         0             1             1               1   \n",
      "1655         3             1             1               0   \n",
      "1541         3             0             0               0   \n",
      "...        ...           ...           ...             ...   \n",
      "740          3             1             1               0   \n",
      "1032         1             2             1               0   \n",
      "2121         1             0             0               0   \n",
      "1424         0             0             0               0   \n",
      "1725         0             1             1               0   \n",
      "\n",
      "      rs_PlusMinus_group  rs_PIM_perGP  rs_G_perGP  rs_A_perGP  CSS_rank_group  \n",
      "334                    1      1.694444    0.527778    0.486111               3  \n",
      "1437                   1      2.216667    0.116667    0.500000               3  \n",
      "1057                   1      1.044444    0.088889    0.044444               3  \n",
      "1655                   1      2.049180    0.049180    0.163934               1  \n",
      "1541                   1      1.135135    0.054054    0.216216               1  \n",
      "...                  ...           ...         ...         ...             ...  \n",
      "740                    1      0.384615    0.051282    0.230769               3  \n",
      "1032                   2      1.687500    0.625000    0.406250               3  \n",
      "2121                   1      1.384615    0.169231    0.400000               3  \n",
      "1424                   0      0.592593    0.444444    0.666667               1  \n",
      "1725                   1      0.333333    0.166667    0.133333               0  \n",
      "\n",
      "[1556 rows x 13 columns]\n"
     ]
    }
   ],
   "source": [
    "print(trainv9)"
   ]
  },
  {
   "cell_type": "markdown",
   "id": "9aa83099",
   "metadata": {},
   "source": [
    "# Test Data"
   ]
  },
  {
   "cell_type": "code",
   "execution_count": 554,
   "id": "c21a19eb",
   "metadata": {},
   "outputs": [
    {
     "name": "stdout",
     "output_type": "stream",
     "text": [
      "      GP_greater_than_0       id  DraftAge country_group  Height  Weight  \\\n",
      "219                   1  8473608        18           USA      73     190   \n",
      "1680                  0    52111        18          EURO      73     176   \n",
      "1980                  1  8470064        18           CAN      74     216   \n",
      "1457                  0    22961        19          EURO      73     190   \n",
      "1046                  0    13606        19           CAN      76     220   \n",
      "...                 ...      ...       ...           ...     ...     ...   \n",
      "574                   0     9594        20          EURO      71     196   \n",
      "1990                  0     3456        19          EURO      75     209   \n",
      "1611                  0    13528        18          EURO      74     198   \n",
      "1508                  0     3303        18          EURO      72     194   \n",
      "1701                  1  8467403        24          EURO      73     200   \n",
      "\n",
      "     Position  CSS_rank  rs_GP  rs_G  ...  rs_P  rs_PIM  rs_PlusMinus  po_GP  \\\n",
      "219         C        33     60    19  ...    46      76             0      0   \n",
      "1680        C       120     33     3  ...    11       8             0      0   \n",
      "1980        R       120     66     6  ...    15      45             0     11   \n",
      "1457        L       176     43    10  ...    24      39             1      7   \n",
      "1046        D        79     64     9  ...    27      96           -36      0   \n",
      "...       ...       ...    ...   ...  ...   ...     ...           ...    ...   \n",
      "574         R        58     44     7  ...    16      28             5      0   \n",
      "1990        L       192     34    11  ...    21      39            -3      0   \n",
      "1611        R       176     25     0  ...     3       6            -6      0   \n",
      "1508        C        51     26    10  ...    23      12             0      0   \n",
      "1701        R        92     45     6  ...    25      46             0     12   \n",
      "\n",
      "      po_G  po_A  po_P  po_PIM  sum_7yr_GP  sum_7yr_TOI  \n",
      "219      0     0     0       0          55          551  \n",
      "1680     0     0     0       0           0            0  \n",
      "1980     2     0     2       4          62          524  \n",
      "1457     0     1     1       0           0            0  \n",
      "1046     0     0     0       0           0            0  \n",
      "...    ...   ...   ...     ...         ...          ...  \n",
      "574      0     0     0       0           0            0  \n",
      "1990     0     0     0       0           0            0  \n",
      "1611     0     0     0       0           0            0  \n",
      "1508     0     0     0       0           0            0  \n",
      "1701     5     7    12       8           2           16  \n",
      "\n",
      "[668 rows x 21 columns]\n"
     ]
    }
   ],
   "source": [
    "print(test)"
   ]
  },
  {
   "cell_type": "code",
   "execution_count": 555,
   "id": "59107669",
   "metadata": {},
   "outputs": [],
   "source": [
    "#convert po_GP to binary 1-played in at least one playoff game 0-did not play in the playoffs\n",
    "testv1=pd.get_dummies(test[\"po_GP\"])\n",
    "testv2=pd.concat((testv1, test), axis=1)\n",
    "testv2=testv2.drop([\"po_GP\",\"po_G\",\"po_A\",\"po_P\",\"po_PIM\"], axis=1)\n",
    "testv2=testv2.drop(testv2.columns[[1,2,3,4,5,6,7,8,9,10,11,12,13,14,15,\n",
    "                                    16,17,18,19,20,21,22,23,24,25,26,27]], axis=1)\n",
    "testv3=testv2.rename(columns={0: \"po_GP_greater_than_0\"})"
   ]
  },
  {
   "cell_type": "code",
   "execution_count": 556,
   "id": "b3cc4d07",
   "metadata": {},
   "outputs": [],
   "source": [
    "#flip binary outcome\n",
    "\n",
    "testv4=pd.get_dummies(testv3[\"po_GP_greater_than_0\"])\n",
    "testv5=pd.concat((testv4, testv3), axis=1)\n",
    "testv5=testv5.drop([\"po_GP_greater_than_0\"], axis=1)\n",
    "testv5=testv5.drop(testv5.columns[[1]], axis=1)\n",
    "testv6=testv5.rename(columns={0: \"po_GP_greater_than_0\"})"
   ]
  },
  {
   "cell_type": "code",
   "execution_count": 557,
   "id": "2c61a133",
   "metadata": {},
   "outputs": [],
   "source": [
    "bins = [0, 200, 220, np.inf]\n",
    "names = ['<200', '200-220', '220+']\n",
    "\n",
    "testv6['Weight_group'] = pd.cut(testv6['Weight'], bins, labels=names)"
   ]
  },
  {
   "cell_type": "code",
   "execution_count": 558,
   "id": "8ae870ef",
   "metadata": {},
   "outputs": [],
   "source": [
    "bins = [0, 72, 75, np.inf]\n",
    "names = ['<72', '72-75', '75+']\n",
    "\n",
    "testv6['Height_group'] = pd.cut(testv6['Height'], bins, labels=names)"
   ]
  },
  {
   "cell_type": "code",
   "execution_count": 559,
   "id": "6aab4a66",
   "metadata": {},
   "outputs": [
    {
     "name": "stdout",
     "output_type": "stream",
     "text": [
      "<class 'pandas.core.frame.DataFrame'>\n",
      "Int64Index: 668 entries, 219 to 1701\n",
      "Data columns (total 19 columns):\n",
      " #   Column                Non-Null Count  Dtype   \n",
      "---  ------                --------------  -----   \n",
      " 0   po_GP_greater_than_0  668 non-null    uint8   \n",
      " 1   GP_greater_than_0     668 non-null    uint8   \n",
      " 2   id                    668 non-null    int64   \n",
      " 3   DraftAge              668 non-null    int64   \n",
      " 4   country_group         668 non-null    object  \n",
      " 5   Height                668 non-null    int64   \n",
      " 6   Weight                668 non-null    int64   \n",
      " 7   Position              668 non-null    object  \n",
      " 8   CSS_rank              668 non-null    int64   \n",
      " 9   rs_GP                 668 non-null    int64   \n",
      " 10  rs_G                  668 non-null    int64   \n",
      " 11  rs_A                  668 non-null    int64   \n",
      " 12  rs_P                  668 non-null    int64   \n",
      " 13  rs_PIM                668 non-null    int64   \n",
      " 14  rs_PlusMinus          668 non-null    int64   \n",
      " 15  sum_7yr_GP            668 non-null    int64   \n",
      " 16  sum_7yr_TOI           668 non-null    int64   \n",
      " 17  Weight_group          668 non-null    category\n",
      " 18  Height_group          668 non-null    category\n",
      "dtypes: category(2), int64(13), object(2), uint8(2)\n",
      "memory usage: 86.4+ KB\n"
     ]
    }
   ],
   "source": [
    "testv6.info()"
   ]
  },
  {
   "cell_type": "code",
   "execution_count": 560,
   "id": "a517c6cf",
   "metadata": {},
   "outputs": [],
   "source": [
    "bins = [0, 19, np.inf]\n",
    "names = ['<20', '20+']\n",
    "\n",
    "testv6['DraftAge_group'] = pd.cut(testv6['DraftAge'], bins, labels=names)"
   ]
  },
  {
   "cell_type": "code",
   "execution_count": 561,
   "id": "85d18553",
   "metadata": {},
   "outputs": [],
   "source": [
    "bins = [-1000, -10, 10, np.inf]\n",
    "names = ['<-10', '-10-10', '10+']\n",
    "\n",
    "testv6['rs_PlusMinus_group'] = pd.cut(testv6['rs_PlusMinus'], bins, labels=names)"
   ]
  },
  {
   "cell_type": "code",
   "execution_count": 562,
   "id": "e29211c3",
   "metadata": {},
   "outputs": [],
   "source": [
    "testv6[\"rs_PIM_perGP\"] = (testv6[\"rs_PIM\"] / testv6[\"rs_GP\"])"
   ]
  },
  {
   "cell_type": "code",
   "execution_count": 563,
   "id": "c1afc924",
   "metadata": {},
   "outputs": [],
   "source": [
    "testv6[\"rs_G_perGP\"] = (testv6[\"rs_G\"] / testv6[\"rs_GP\"])"
   ]
  },
  {
   "cell_type": "code",
   "execution_count": 564,
   "id": "d45f72f2",
   "metadata": {},
   "outputs": [],
   "source": [
    "testv6[\"rs_A_perGP\"] = (testv6[\"rs_A\"] / testv6[\"rs_GP\"])"
   ]
  },
  {
   "cell_type": "code",
   "execution_count": 565,
   "id": "21c0a7f8",
   "metadata": {},
   "outputs": [],
   "source": [
    "bins = [0, 31, 61, 91, np.inf]\n",
    "names = ['1-30', '31-60', '61-90', '91+']\n",
    "\n",
    "testv6['CSS_rank_group'] = pd.cut(testv6['CSS_rank'], bins, labels=names)"
   ]
  },
  {
   "cell_type": "code",
   "execution_count": 566,
   "id": "3adb0ecf",
   "metadata": {},
   "outputs": [],
   "source": [
    "testv6=testv6.drop(['DraftAge','Height','Weight','rs_GP','rs_G','rs_A','rs_P','rs_PIM','rs_PlusMinus'], axis=1)"
   ]
  },
  {
   "cell_type": "code",
   "execution_count": 567,
   "id": "7a36e58b",
   "metadata": {},
   "outputs": [],
   "source": [
    "testv6['CSS_rank_po_I'] = (testv6['CSS_rank'] <= 90) & (testv6['CSS_rank'] > 30) & (testv6['po_GP_greater_than_0'] > 0)"
   ]
  },
  {
   "cell_type": "code",
   "execution_count": 568,
   "id": "5ed7506c",
   "metadata": {},
   "outputs": [],
   "source": [
    "testv6=testv6.drop(['CSS_rank','sum_7yr_GP','sum_7yr_TOI'], axis=1)"
   ]
  },
  {
   "cell_type": "code",
   "execution_count": 569,
   "id": "577319cc",
   "metadata": {},
   "outputs": [],
   "source": [
    "#convert bool to int\n",
    "\n",
    "testv7=pd.get_dummies(testv6[\"CSS_rank_po_I\"])\n",
    "testv8=pd.concat((testv7, testv6), axis=1)\n",
    "testv8=testv8.drop([\"CSS_rank_po_I\"], axis=1)\n",
    "testv8=testv8.drop(testv8.columns[[0]], axis=1)\n",
    "testv9=testv8.rename(columns={1: \"CSS_rank_po_I\"})"
   ]
  },
  {
   "cell_type": "code",
   "execution_count": 570,
   "id": "260011b1",
   "metadata": {},
   "outputs": [],
   "source": [
    "#object to int\n",
    "country = {\"CAN\": 0,\"USA\": 1,\"EURO\": 2}\n",
    "testv9['country_group'] = testv9['country_group'].map(country)"
   ]
  },
  {
   "cell_type": "code",
   "execution_count": 571,
   "id": "7cc1b701",
   "metadata": {},
   "outputs": [],
   "source": [
    "#object to int\n",
    "pos = {\"C\": 0,\"L\": 1,\"R\": 2,\"D\": 3}\n",
    "testv9['Position'] = testv9['Position'].map(pos)"
   ]
  },
  {
   "cell_type": "code",
   "execution_count": 572,
   "id": "d2e40da9",
   "metadata": {},
   "outputs": [],
   "source": [
    "#cat to int\n",
    "wt = {\"<200\": 0,\"200-220\": 1,\"220+\": 2}\n",
    "testv9['Weight_group'] = testv9['Weight_group'].map(wt)"
   ]
  },
  {
   "cell_type": "code",
   "execution_count": 573,
   "id": "ddf2ec7d",
   "metadata": {},
   "outputs": [],
   "source": [
    "ht = {\"<72\": 0,\"72-75\": 1,\"75+\": 2}\n",
    "testv9['Height_group'] = testv9['Height_group'].map(ht)"
   ]
  },
  {
   "cell_type": "code",
   "execution_count": 574,
   "id": "d3c521ae",
   "metadata": {},
   "outputs": [],
   "source": [
    "Da = {\"<20\": 0,\"20+\": 1}\n",
    "testv9['DraftAge_group'] = testv9['DraftAge_group'].map(Da)"
   ]
  },
  {
   "cell_type": "code",
   "execution_count": 575,
   "id": "a3a2562f",
   "metadata": {},
   "outputs": [],
   "source": [
    "pm = {\"<-10\": 0,\"-10-10\": 1,\"10+\": 2}\n",
    "testv9['rs_PlusMinus_group'] = testv9['rs_PlusMinus_group'].map(pm)"
   ]
  },
  {
   "cell_type": "code",
   "execution_count": 576,
   "id": "dfba0528",
   "metadata": {},
   "outputs": [],
   "source": [
    "Cs = {\"1-30\": 0,\"31-60\": 1,\"61-90\": 2,\"91+\": 3}\n",
    "testv9['CSS_rank_group'] = testv9['CSS_rank_group'].map(Cs)"
   ]
  },
  {
   "cell_type": "code",
   "execution_count": 577,
   "id": "e25288c5",
   "metadata": {},
   "outputs": [],
   "source": [
    "testv9['Weight_group'] = testv9['Weight_group'].astype(int)"
   ]
  },
  {
   "cell_type": "code",
   "execution_count": 578,
   "id": "7aafe7b5",
   "metadata": {},
   "outputs": [],
   "source": [
    "testv9['Height_group'] = testv9['Height_group'].astype(int)"
   ]
  },
  {
   "cell_type": "code",
   "execution_count": 579,
   "id": "d4dd0c37",
   "metadata": {},
   "outputs": [],
   "source": [
    "testv9['DraftAge_group'] = testv9['DraftAge_group'].astype(int)"
   ]
  },
  {
   "cell_type": "code",
   "execution_count": 580,
   "id": "0e5194e4",
   "metadata": {},
   "outputs": [],
   "source": [
    "testv9['rs_PlusMinus_group'] = testv9['rs_PlusMinus_group'].astype(int)"
   ]
  },
  {
   "cell_type": "code",
   "execution_count": 581,
   "id": "1a80cfbd",
   "metadata": {},
   "outputs": [],
   "source": [
    "testv9['CSS_rank_group'] = testv9['CSS_rank_group'].astype(int)"
   ]
  },
  {
   "cell_type": "code",
   "execution_count": 582,
   "id": "cc27b3b5",
   "metadata": {},
   "outputs": [
    {
     "name": "stdout",
     "output_type": "stream",
     "text": [
      "      CSS_rank_po_I  po_GP_greater_than_0  GP_greater_than_0       id  \\\n",
      "219               0                     0                  1  8473608   \n",
      "1680              0                     0                  0    52111   \n",
      "1980              0                     1                  1  8470064   \n",
      "1457              0                     1                  0    22961   \n",
      "1046              0                     0                  0    13606   \n",
      "...             ...                   ...                ...      ...   \n",
      "574               0                     0                  0     9594   \n",
      "1990              0                     0                  0     3456   \n",
      "1611              0                     0                  0    13528   \n",
      "1508              0                     0                  0     3303   \n",
      "1701              0                     1                  1  8467403   \n",
      "\n",
      "      country_group  Position  Weight_group  Height_group  DraftAge_group  \\\n",
      "219               1         0             0             1               0   \n",
      "1680              2         0             0             1               0   \n",
      "1980              0         2             1             1               0   \n",
      "1457              2         1             0             1               0   \n",
      "1046              0         3             1             2               0   \n",
      "...             ...       ...           ...           ...             ...   \n",
      "574               2         2             0             0               1   \n",
      "1990              2         1             1             1               0   \n",
      "1611              2         2             0             1               0   \n",
      "1508              2         0             0             0               0   \n",
      "1701              2         2             0             1               1   \n",
      "\n",
      "      rs_PlusMinus_group  rs_PIM_perGP  rs_G_perGP  rs_A_perGP  CSS_rank_group  \n",
      "219                    1      1.266667    0.316667    0.450000               1  \n",
      "1680                   1      0.242424    0.090909    0.242424               3  \n",
      "1980                   1      0.681818    0.090909    0.136364               3  \n",
      "1457                   1      0.906977    0.232558    0.325581               3  \n",
      "1046                   0      1.500000    0.140625    0.281250               2  \n",
      "...                  ...           ...         ...         ...             ...  \n",
      "574                    1      0.636364    0.159091    0.204545               1  \n",
      "1990                   1      1.147059    0.323529    0.294118               3  \n",
      "1611                   1      0.240000    0.000000    0.120000               3  \n",
      "1508                   1      0.461538    0.384615    0.500000               1  \n",
      "1701                   1      1.022222    0.133333    0.422222               3  \n",
      "\n",
      "[668 rows x 14 columns]\n",
      "<class 'pandas.core.frame.DataFrame'>\n",
      "Int64Index: 668 entries, 219 to 1701\n",
      "Data columns (total 14 columns):\n",
      " #   Column                Non-Null Count  Dtype  \n",
      "---  ------                --------------  -----  \n",
      " 0   CSS_rank_po_I         668 non-null    uint8  \n",
      " 1   po_GP_greater_than_0  668 non-null    uint8  \n",
      " 2   GP_greater_than_0     668 non-null    uint8  \n",
      " 3   id                    668 non-null    int64  \n",
      " 4   country_group         668 non-null    int64  \n",
      " 5   Position              668 non-null    int64  \n",
      " 6   Weight_group          668 non-null    int32  \n",
      " 7   Height_group          668 non-null    int32  \n",
      " 8   DraftAge_group        668 non-null    int32  \n",
      " 9   rs_PlusMinus_group    668 non-null    int32  \n",
      " 10  rs_PIM_perGP          662 non-null    float64\n",
      " 11  rs_G_perGP            663 non-null    float64\n",
      " 12  rs_A_perGP            663 non-null    float64\n",
      " 13  CSS_rank_group        668 non-null    int32  \n",
      "dtypes: float64(3), int32(5), int64(3), uint8(3)\n",
      "memory usage: 51.5 KB\n"
     ]
    }
   ],
   "source": [
    "print(testv9)\n",
    "testv9.info()"
   ]
  },
  {
   "cell_type": "markdown",
   "id": "bc7ff33f",
   "metadata": {},
   "source": [
    "# Machine Learning Models"
   ]
  },
  {
   "cell_type": "code",
   "execution_count": 812,
   "id": "718af68e",
   "metadata": {},
   "outputs": [
    {
     "data": {
      "text/plain": [
       "True"
      ]
     },
     "execution_count": 812,
     "metadata": {},
     "output_type": "execute_result"
    }
   ],
   "source": [
    "np.any(np.isnan(trainv9))"
   ]
  },
  {
   "cell_type": "code",
   "execution_count": 813,
   "id": "b62101f0",
   "metadata": {},
   "outputs": [
    {
     "data": {
      "text/plain": [
       "False"
      ]
     },
     "execution_count": 813,
     "metadata": {},
     "output_type": "execute_result"
    }
   ],
   "source": [
    "np.all(np.isfinite(trainv9))"
   ]
  },
  {
   "cell_type": "code",
   "execution_count": 814,
   "id": "e3045f44",
   "metadata": {},
   "outputs": [
    {
     "data": {
      "text/plain": [
       "True"
      ]
     },
     "execution_count": 814,
     "metadata": {},
     "output_type": "execute_result"
    }
   ],
   "source": [
    "np.any(np.isnan(testv9))"
   ]
  },
  {
   "cell_type": "code",
   "execution_count": 815,
   "id": "bdd9e395",
   "metadata": {},
   "outputs": [
    {
     "data": {
      "text/plain": [
       "False"
      ]
     },
     "execution_count": 815,
     "metadata": {},
     "output_type": "execute_result"
    }
   ],
   "source": [
    "np.all(np.isfinite(testv9))"
   ]
  },
  {
   "cell_type": "code",
   "execution_count": 816,
   "id": "7c9e9980",
   "metadata": {},
   "outputs": [],
   "source": [
    "trainv10 = trainv9.replace([np.inf, -np.inf], np.nan).dropna(axis=0)\n",
    "testv10 = testv9.replace([np.inf, -np.inf], np.nan).dropna(axis=0)"
   ]
  },
  {
   "cell_type": "code",
   "execution_count": 817,
   "id": "3777d74a",
   "metadata": {},
   "outputs": [
    {
     "data": {
      "text/plain": [
       "True"
      ]
     },
     "execution_count": 817,
     "metadata": {},
     "output_type": "execute_result"
    }
   ],
   "source": [
    "np.all(np.isfinite(trainv10))"
   ]
  },
  {
   "cell_type": "code",
   "execution_count": 818,
   "id": "5464f78c",
   "metadata": {},
   "outputs": [
    {
     "data": {
      "text/plain": [
       "False"
      ]
     },
     "execution_count": 818,
     "metadata": {},
     "output_type": "execute_result"
    }
   ],
   "source": [
    "np.any(np.isnan(trainv10))"
   ]
  },
  {
   "cell_type": "code",
   "execution_count": 819,
   "id": "54ba8051",
   "metadata": {},
   "outputs": [],
   "source": [
    "X_train = trainv10.drop([\"GP_greater_than_0\"], axis=1)\n",
    "Y_train = trainv10[\"GP_greater_than_0\"]\n",
    "X_test = testv10.drop([\"id\",\"GP_greater_than_0\"], axis=1).copy()"
   ]
  },
  {
   "cell_type": "code",
   "execution_count": 820,
   "id": "75b9c1dd",
   "metadata": {},
   "outputs": [],
   "source": [
    "sgd = linear_model.SGDClassifier(max_iter=5, tol=None)\n",
    "sgd.fit(X_train, Y_train)\n",
    "Y_pred = sgd.predict(X_test)\n",
    "\n",
    "acc_sgd = round(sgd.score(X_train, Y_train) * 100, 2)"
   ]
  },
  {
   "cell_type": "code",
   "execution_count": 821,
   "id": "e97c42f6",
   "metadata": {},
   "outputs": [],
   "source": [
    "decision_tree = DecisionTreeClassifier() \n",
    "decision_tree.fit(X_train, Y_train)  \n",
    "\n",
    "Y_pred = decision_tree.predict(X_test)  \n",
    "\n",
    "acc_decision_tree = round(decision_tree.score(X_train, Y_train) * 100, 2)"
   ]
  },
  {
   "cell_type": "code",
   "execution_count": 822,
   "id": "b587c7f6",
   "metadata": {},
   "outputs": [],
   "source": [
    "random_forest = RandomForestClassifier(n_estimators=100)\n",
    "random_forest.fit(X_train, Y_train)\n",
    "\n",
    "Y_pred = random_forest.predict(X_test)\n",
    "\n",
    "acc_random_forest = round(random_forest.score(X_train, Y_train) * 100, 2)"
   ]
  },
  {
   "cell_type": "code",
   "execution_count": 823,
   "id": "ba7e3449",
   "metadata": {},
   "outputs": [],
   "source": [
    "logreg = LogisticRegression()\n",
    "logreg.fit(X_train, Y_train)\n",
    "\n",
    "Y_pred = logreg.predict(X_test)\n",
    "\n",
    "acc_log = round(logreg.score(X_train, Y_train) * 100, 2)"
   ]
  },
  {
   "cell_type": "code",
   "execution_count": 824,
   "id": "e78a70f8",
   "metadata": {},
   "outputs": [],
   "source": [
    "knn = KNeighborsClassifier(n_neighbors = 3) \n",
    "knn.fit(X_train, Y_train)  \n",
    "\n",
    "Y_pred = knn.predict(X_test)  \n",
    "\n",
    "acc_knn = round(knn.score(X_train, Y_train) * 100, 2)"
   ]
  },
  {
   "cell_type": "code",
   "execution_count": 825,
   "id": "ad5c5135",
   "metadata": {},
   "outputs": [],
   "source": [
    "gaussian = GaussianNB() \n",
    "gaussian.fit(X_train, Y_train)  \n",
    "\n",
    "Y_pred = gaussian.predict(X_test)  \n",
    "\n",
    "acc_gaussian = round(gaussian.score(X_train, Y_train) * 100, 2)"
   ]
  },
  {
   "cell_type": "code",
   "execution_count": 826,
   "id": "3909799c",
   "metadata": {},
   "outputs": [],
   "source": [
    "perceptron = Perceptron(max_iter=10)\n",
    "perceptron.fit(X_train, Y_train)\n",
    "\n",
    "Y_pred = perceptron.predict(X_test)\n",
    "\n",
    "acc_perceptron = round(perceptron.score(X_train, Y_train) * 100, 2)"
   ]
  },
  {
   "cell_type": "code",
   "execution_count": 827,
   "id": "8047c184",
   "metadata": {},
   "outputs": [],
   "source": [
    "linear_svc = LinearSVC(max_iter=5000)\n",
    "linear_svc.fit(X_train, Y_train)\n",
    "\n",
    "Y_pred = linear_svc.predict(X_test)\n",
    "\n",
    "acc_linear_svc = round(linear_svc.score(X_train, Y_train) * 100, 2)"
   ]
  },
  {
   "cell_type": "markdown",
   "id": "416fcba1",
   "metadata": {},
   "source": [
    "# Best Model"
   ]
  },
  {
   "cell_type": "code",
   "execution_count": 828,
   "id": "e741d995",
   "metadata": {},
   "outputs": [
    {
     "data": {
      "text/html": [
       "<div>\n",
       "<style scoped>\n",
       "    .dataframe tbody tr th:only-of-type {\n",
       "        vertical-align: middle;\n",
       "    }\n",
       "\n",
       "    .dataframe tbody tr th {\n",
       "        vertical-align: top;\n",
       "    }\n",
       "\n",
       "    .dataframe thead th {\n",
       "        text-align: right;\n",
       "    }\n",
       "</style>\n",
       "<table border=\"1\" class=\"dataframe\">\n",
       "  <thead>\n",
       "    <tr style=\"text-align: right;\">\n",
       "      <th></th>\n",
       "      <th>Model</th>\n",
       "    </tr>\n",
       "    <tr>\n",
       "      <th>Score</th>\n",
       "      <th></th>\n",
       "    </tr>\n",
       "  </thead>\n",
       "  <tbody>\n",
       "    <tr>\n",
       "      <th>100.00</th>\n",
       "      <td>Random Forest</td>\n",
       "    </tr>\n",
       "    <tr>\n",
       "      <th>100.00</th>\n",
       "      <td>Decision Tree</td>\n",
       "    </tr>\n",
       "    <tr>\n",
       "      <th>80.38</th>\n",
       "      <td>KNN</td>\n",
       "    </tr>\n",
       "    <tr>\n",
       "      <th>68.16</th>\n",
       "      <td>Naive Bayes</td>\n",
       "    </tr>\n",
       "    <tr>\n",
       "      <th>66.80</th>\n",
       "      <td>Support Vector Machines</td>\n",
       "    </tr>\n",
       "    <tr>\n",
       "      <th>66.80</th>\n",
       "      <td>Logistic Regression</td>\n",
       "    </tr>\n",
       "    <tr>\n",
       "      <th>47.69</th>\n",
       "      <td>Perceptron</td>\n",
       "    </tr>\n",
       "    <tr>\n",
       "      <th>47.37</th>\n",
       "      <td>Stochastic Gradient Decent</td>\n",
       "    </tr>\n",
       "  </tbody>\n",
       "</table>\n",
       "</div>"
      ],
      "text/plain": [
       "                             Model\n",
       "Score                             \n",
       "100.00               Random Forest\n",
       "100.00               Decision Tree\n",
       "80.38                          KNN\n",
       "68.16                  Naive Bayes\n",
       "66.80      Support Vector Machines\n",
       "66.80          Logistic Regression\n",
       "47.69                   Perceptron\n",
       "47.37   Stochastic Gradient Decent"
      ]
     },
     "execution_count": 828,
     "metadata": {},
     "output_type": "execute_result"
    }
   ],
   "source": [
    "results = pd.DataFrame({\n",
    "    'Model': ['Support Vector Machines', 'KNN', 'Logistic Regression', \n",
    "              'Random Forest', 'Naive Bayes', 'Perceptron', \n",
    "              'Stochastic Gradient Decent', \n",
    "              'Decision Tree'],\n",
    "    'Score': [acc_linear_svc, acc_knn, acc_log, \n",
    "              acc_random_forest, acc_gaussian, acc_perceptron, \n",
    "              acc_sgd, acc_decision_tree]})\n",
    "result_df = results.sort_values(by='Score', ascending=False)\n",
    "result_df = result_df.set_index('Score')\n",
    "result_df.head(9)"
   ]
  },
  {
   "cell_type": "markdown",
   "id": "22850349",
   "metadata": {},
   "source": [
    "We can see that the Random Forest and Decision Tree perform the best. We decided to assume that we do not have a labelled test set, as this is always more likely to happen. So, we get a high accuracy for the Decision Tree and Random Forest as there is overfitting. Lets see how Random Forest performs when we use cross validation."
   ]
  },
  {
   "cell_type": "markdown",
   "id": "1a5fb887",
   "metadata": {},
   "source": [
    "# K-Fold Cross Validation"
   ]
  },
  {
   "cell_type": "code",
   "execution_count": 883,
   "id": "65529b5c",
   "metadata": {},
   "outputs": [
    {
     "name": "stdout",
     "output_type": "stream",
     "text": [
      "Scores: [0.77922078 0.66233766 0.72727273 0.57142857 0.68831169 0.64935065\n",
      " 0.62337662 0.58441558 0.61038961 0.64935065 0.63636364 0.63636364\n",
      " 0.67532468 0.58441558 0.74025974 0.68831169 0.63636364 0.55844156\n",
      " 0.62337662 0.73684211]\n",
      "Mean: 0.6530758714969241\n",
      "Standard Deviation: 0.05856692712309009\n"
     ]
    }
   ],
   "source": [
    "from sklearn.model_selection import cross_val_score\n",
    "rf = RandomForestClassifier(n_estimators=100)\n",
    "scores = cross_val_score(rf, X_train, Y_train, cv=20, scoring = \"accuracy\")\n",
    "print(\"Scores:\", scores)\n",
    "print(\"Mean:\", scores.mean())\n",
    "print(\"Standard Deviation:\", scores.std())"
   ]
  },
  {
   "cell_type": "markdown",
   "id": "ef50ac5b",
   "metadata": {},
   "source": [
    "We get a much lower accuracy of 65% after cross validation, making it necessary to cross validate with our other algorithms. "
   ]
  },
  {
   "cell_type": "code",
   "execution_count": 863,
   "id": "104babdb",
   "metadata": {},
   "outputs": [
    {
     "name": "stdout",
     "output_type": "stream",
     "text": [
      "Scores: [0.5974026  0.61038961 0.44155844 0.53246753 0.63636364 0.45454545\n",
      " 0.55844156 0.62337662 0.53246753 0.53246753 0.51948052 0.5974026\n",
      " 0.58441558 0.51948052 0.62337662 0.67532468 0.62337662 0.42857143\n",
      " 0.55844156 0.57894737]\n",
      "Mean: 0.561414900888585\n",
      "Standard Deviation: 0.06535221443486654\n"
     ]
    }
   ],
   "source": [
    "from sklearn.model_selection import cross_val_score\n",
    "sgd = linear_model.SGDClassifier(max_iter=5, tol=None)\n",
    "scores = cross_val_score(sgd, X_train, Y_train, cv=20, scoring = \"accuracy\")\n",
    "print(\"Scores:\", scores)\n",
    "print(\"Mean:\", scores.mean())\n",
    "print(\"Standard Deviation:\", scores.std())"
   ]
  },
  {
   "cell_type": "code",
   "execution_count": 864,
   "id": "796bc0a3",
   "metadata": {},
   "outputs": [
    {
     "name": "stdout",
     "output_type": "stream",
     "text": [
      "Scores: [0.77922078 0.5974026  0.68831169 0.46753247 0.57142857 0.57142857\n",
      " 0.50649351 0.57142857 0.61038961 0.55844156 0.62337662 0.64935065\n",
      " 0.67532468 0.53246753 0.64935065 0.5974026  0.68831169 0.58441558\n",
      " 0.5974026  0.59210526]\n",
      "Mean: 0.6055792891319207\n",
      "Standard Deviation: 0.06842802315508596\n"
     ]
    }
   ],
   "source": [
    "from sklearn.model_selection import cross_val_score\n",
    "decision_tree = DecisionTreeClassifier() \n",
    "scores = cross_val_score(decision_tree, X_train, Y_train, cv=20, scoring = \"accuracy\")\n",
    "print(\"Scores:\", scores)\n",
    "print(\"Mean:\", scores.mean())\n",
    "print(\"Standard Deviation:\", scores.std())"
   ]
  },
  {
   "cell_type": "code",
   "execution_count": 865,
   "id": "e99d5aa3",
   "metadata": {},
   "outputs": [
    {
     "name": "stdout",
     "output_type": "stream",
     "text": [
      "Scores: [0.80519481 0.71428571 0.64935065 0.57142857 0.63636364 0.64935065\n",
      " 0.5974026  0.67532468 0.66233766 0.66233766 0.67532468 0.61038961\n",
      " 0.66233766 0.54545455 0.67532468 0.75324675 0.76623377 0.64935065\n",
      " 0.66233766 0.67105263]\n",
      "Mean: 0.6647214627477787\n",
      "Standard Deviation: 0.060272647538903976\n"
     ]
    }
   ],
   "source": [
    "from sklearn.model_selection import cross_val_score\n",
    "logreg = LogisticRegression()\n",
    "scores = cross_val_score(logreg, X_train, Y_train, cv=20, scoring = \"accuracy\")\n",
    "print(\"Scores:\", scores)\n",
    "print(\"Mean:\", scores.mean())\n",
    "print(\"Standard Deviation:\", scores.std())"
   ]
  },
  {
   "cell_type": "code",
   "execution_count": 871,
   "id": "22053470",
   "metadata": {},
   "outputs": [
    {
     "name": "stdout",
     "output_type": "stream",
     "text": [
      "Scores: [0.71428571 0.5974026  0.67532468 0.64935065 0.55844156 0.63636364\n",
      " 0.62337662 0.58441558 0.55844156 0.63636364 0.61038961 0.61038961\n",
      " 0.72727273 0.58441558 0.68831169 0.7012987  0.63636364 0.5974026\n",
      " 0.53246753 0.61842105]\n",
      "Mean: 0.6270249487354751\n",
      "Standard Deviation: 0.052156017951995634\n"
     ]
    }
   ],
   "source": [
    "from sklearn.model_selection import cross_val_score\n",
    "knn = KNeighborsClassifier(n_neighbors = 3) \n",
    "scores = cross_val_score(knn, X_train, Y_train, cv=20, scoring = \"accuracy\")\n",
    "print(\"Scores:\", scores)\n",
    "print(\"Mean:\", scores.mean())\n",
    "print(\"Standard Deviation:\", scores.std())"
   ]
  },
  {
   "cell_type": "code",
   "execution_count": 876,
   "id": "3b5d97e3",
   "metadata": {},
   "outputs": [
    {
     "name": "stdout",
     "output_type": "stream",
     "text": [
      "Scores: [0.79220779 0.67532468 0.68831169 0.55844156 0.63636364 0.64935065\n",
      " 0.58441558 0.67532468 0.64935065 0.53246753 0.67532468 0.63636364\n",
      " 0.66233766 0.62337662 0.72727273 0.81818182 0.72727273 0.64935065\n",
      " 0.64935065 0.75      ]\n",
      "Mean: 0.6680194805194806\n",
      "Standard Deviation: 0.06894956583944874\n"
     ]
    }
   ],
   "source": [
    "from sklearn.model_selection import cross_val_score\n",
    "gaussian = GaussianNB() \n",
    "scores = cross_val_score(gaussian, X_train, Y_train, cv=20, scoring = \"accuracy\")\n",
    "print(\"Scores:\", scores)\n",
    "print(\"Mean:\", scores.mean())\n",
    "print(\"Standard Deviation:\", scores.std())"
   ]
  },
  {
   "cell_type": "code",
   "execution_count": 879,
   "id": "bc3572be",
   "metadata": {},
   "outputs": [
    {
     "name": "stdout",
     "output_type": "stream",
     "text": [
      "Scores: [0.5974026  0.48051948 0.53246753 0.48051948 0.51948052 0.62337662\n",
      " 0.5974026  0.57142857 0.57142857 0.50649351 0.48051948 0.58441558\n",
      " 0.66233766 0.62337662 0.45454545 0.41558442 0.62337662 0.41558442\n",
      " 0.61038961 0.43421053]\n",
      "Mean: 0.539242993848257\n",
      "Standard Deviation: 0.07515641377428257\n"
     ]
    }
   ],
   "source": [
    "from sklearn.model_selection import cross_val_score\n",
    "perceptron = Perceptron(max_iter=100)\n",
    "scores = cross_val_score(perceptron, X_train, Y_train, cv=20, scoring = \"accuracy\")\n",
    "print(\"Scores:\", scores)\n",
    "print(\"Mean:\", scores.mean())\n",
    "print(\"Standard Deviation:\", scores.std())"
   ]
  },
  {
   "cell_type": "code",
   "execution_count": 881,
   "id": "5c4958ff",
   "metadata": {},
   "outputs": [
    {
     "name": "stdout",
     "output_type": "stream",
     "text": [
      "Scores: [0.80519481 0.71428571 0.64935065 0.58441558 0.63636364 0.61038961\n",
      " 0.61038961 0.68831169 0.64935065 0.64935065 0.67532468 0.61038961\n",
      " 0.66233766 0.54545455 0.66233766 0.75324675 0.76623377 0.64935065\n",
      " 0.66233766 0.67105263]\n",
      "Mean: 0.6627734107997265\n",
      "Standard Deviation: 0.06010811337143514\n"
     ]
    }
   ],
   "source": [
    "from sklearn.model_selection import cross_val_score\n",
    "linear_svc = LinearSVC(max_iter=5000)\n",
    "scores = cross_val_score(linear_svc, X_train, Y_train, cv=20, scoring = \"accuracy\")\n",
    "print(\"Scores:\", scores)\n",
    "print(\"Mean:\", scores.mean())\n",
    "print(\"Standard Deviation:\", scores.std())"
   ]
  },
  {
   "cell_type": "markdown",
   "id": "ee90c67e",
   "metadata": {},
   "source": [
    "It is very interesting to see that after we cross validate, the gaussian Naive Bayes performs best on the training data with a mean accuracy of 66.8% and standard deviation 0.069. Next, we will try to see if we can improve this accuracy. "
   ]
  },
  {
   "cell_type": "code",
   "execution_count": 886,
   "id": "24623b39",
   "metadata": {},
   "outputs": [
    {
     "name": "stdout",
     "output_type": "stream",
     "text": [
      "[0.00077973 0.02183236 0.00324886 0.         0.00441845 0.00298895\n",
      " 0.01481481 0.03950617 0.00337882 0.00532814 0.02352177 0.07810266]\n"
     ]
    }
   ],
   "source": []
  },
  {
   "cell_type": "markdown",
   "id": "ba84605f",
   "metadata": {},
   "source": [
    "Since the mean accuracy for our Random Forest is quite similar to the Naive Bayes, we can still turn to Random Forest to look at feature importance in a convenient way."
   ]
  },
  {
   "cell_type": "code",
   "execution_count": 887,
   "id": "b5ab6a7f",
   "metadata": {},
   "outputs": [
    {
     "data": {
      "text/html": [
       "<div>\n",
       "<style scoped>\n",
       "    .dataframe tbody tr th:only-of-type {\n",
       "        vertical-align: middle;\n",
       "    }\n",
       "\n",
       "    .dataframe tbody tr th {\n",
       "        vertical-align: top;\n",
       "    }\n",
       "\n",
       "    .dataframe thead th {\n",
       "        text-align: right;\n",
       "    }\n",
       "</style>\n",
       "<table border=\"1\" class=\"dataframe\">\n",
       "  <thead>\n",
       "    <tr style=\"text-align: right;\">\n",
       "      <th></th>\n",
       "      <th>importance</th>\n",
       "    </tr>\n",
       "    <tr>\n",
       "      <th>feature</th>\n",
       "      <th></th>\n",
       "    </tr>\n",
       "  </thead>\n",
       "  <tbody>\n",
       "    <tr>\n",
       "      <th>rs_A_perGP</th>\n",
       "      <td>0.224</td>\n",
       "    </tr>\n",
       "    <tr>\n",
       "      <th>rs_G_perGP</th>\n",
       "      <td>0.196</td>\n",
       "    </tr>\n",
       "    <tr>\n",
       "      <th>rs_PIM_perGP</th>\n",
       "      <td>0.190</td>\n",
       "    </tr>\n",
       "    <tr>\n",
       "      <th>CSS_rank_group</th>\n",
       "      <td>0.094</td>\n",
       "    </tr>\n",
       "    <tr>\n",
       "      <th>Position</th>\n",
       "      <td>0.056</td>\n",
       "    </tr>\n",
       "    <tr>\n",
       "      <th>country_group</th>\n",
       "      <td>0.052</td>\n",
       "    </tr>\n",
       "    <tr>\n",
       "      <th>Weight_group</th>\n",
       "      <td>0.044</td>\n",
       "    </tr>\n",
       "    <tr>\n",
       "      <th>rs_PlusMinus_group</th>\n",
       "      <td>0.042</td>\n",
       "    </tr>\n",
       "    <tr>\n",
       "      <th>Height_group</th>\n",
       "      <td>0.038</td>\n",
       "    </tr>\n",
       "    <tr>\n",
       "      <th>po_GP_greater_than_0</th>\n",
       "      <td>0.027</td>\n",
       "    </tr>\n",
       "    <tr>\n",
       "      <th>DraftAge_group</th>\n",
       "      <td>0.023</td>\n",
       "    </tr>\n",
       "    <tr>\n",
       "      <th>CSS_rank_po_I</th>\n",
       "      <td>0.014</td>\n",
       "    </tr>\n",
       "  </tbody>\n",
       "</table>\n",
       "</div>"
      ],
      "text/plain": [
       "                      importance\n",
       "feature                         \n",
       "rs_A_perGP                 0.224\n",
       "rs_G_perGP                 0.196\n",
       "rs_PIM_perGP               0.190\n",
       "CSS_rank_group             0.094\n",
       "Position                   0.056\n",
       "country_group              0.052\n",
       "Weight_group               0.044\n",
       "rs_PlusMinus_group         0.042\n",
       "Height_group               0.038\n",
       "po_GP_greater_than_0       0.027\n",
       "DraftAge_group             0.023\n",
       "CSS_rank_po_I              0.014"
      ]
     },
     "execution_count": 887,
     "metadata": {},
     "output_type": "execute_result"
    }
   ],
   "source": [
    "importances = pd.DataFrame({'feature':X_train.columns,'importance':np.round(random_forest.feature_importances_,3)})\n",
    "importances = importances.sort_values('importance',ascending=False).set_index('feature')\n",
    "importances.head(15)"
   ]
  },
  {
   "cell_type": "code",
   "execution_count": 888,
   "id": "36524367",
   "metadata": {},
   "outputs": [
    {
     "data": {
      "text/plain": [
       "<AxesSubplot:xlabel='feature'>"
      ]
     },
     "execution_count": 888,
     "metadata": {},
     "output_type": "execute_result"
    },
    {
     "data": {
      "image/png": "[encoded data removed]",
      "text/plain": [
       "<Figure size 432x288 with 1 Axes>"
      ]
     },
     "metadata": {},
     "output_type": "display_data"
    }
   ],
   "source": [
    "importances.plot.bar()"
   ]
  },
  {
   "cell_type": "markdown",
   "id": "1df1270a",
   "metadata": {},
   "source": [
    "CSS_rank_po_I does not play a significant role in our random forest. Therefore we will drop it from the data and train again. "
   ]
  },
  {
   "cell_type": "markdown",
   "id": "a638a121",
   "metadata": {},
   "source": [
    "# Model Retraining "
   ]
  },
  {
   "cell_type": "markdown",
   "id": "50f2cee1",
   "metadata": {},
   "source": [
    "### Random Forest and Gaussian Naive Bayes"
   ]
  },
  {
   "cell_type": "code",
   "execution_count": 889,
   "id": "0ed59ffe",
   "metadata": {},
   "outputs": [],
   "source": [
    "trainv11 = trainv10.drop(\"CSS_rank_po_I\", axis=1)\n",
    "testv11 = testv10.drop(\"CSS_rank_po_I\", axis=1)"
   ]
  },
  {
   "cell_type": "code",
   "execution_count": 890,
   "id": "d5ea7ff4",
   "metadata": {},
   "outputs": [],
   "source": [
    "X_train = trainv11.drop([\"GP_greater_than_0\"], axis=1)\n",
    "Y_train = trainv11[\"GP_greater_than_0\"]\n",
    "X_test = testv11.drop([\"id\",\"GP_greater_than_0\"], axis=1).copy()"
   ]
  },
  {
   "cell_type": "code",
   "execution_count": 891,
   "id": "4f3ad064",
   "metadata": {},
   "outputs": [],
   "source": [
    "random_forest = RandomForestClassifier(n_estimators=100)\n",
    "random_forest.fit(X_train, Y_train)\n",
    "\n",
    "Y_pred = random_forest.predict(X_test)\n",
    "\n",
    "acc_random_forest = round(random_forest.score(X_train, Y_train) * 100, 2)"
   ]
  },
  {
   "cell_type": "code",
   "execution_count": 892,
   "id": "bf2d39a8",
   "metadata": {},
   "outputs": [],
   "source": [
    "gaussian = GaussianNB() \n",
    "gaussian.fit(X_train, Y_train)  \n",
    "\n",
    "Y_pred = gaussian.predict(X_test)  \n",
    "\n",
    "acc_gaussian = round(gaussian.score(X_train, Y_train) * 100, 2)"
   ]
  },
  {
   "cell_type": "code",
   "execution_count": 893,
   "id": "e4ba5af8",
   "metadata": {},
   "outputs": [
    {
     "name": "stdout",
     "output_type": "stream",
     "text": [
      "100.0 %\n",
      "68.1 %\n"
     ]
    }
   ],
   "source": [
    "print(round(acc_random_forest,2,), \"%\")\n",
    "print(round(acc_gaussian,2,), \"%\")"
   ]
  },
  {
   "cell_type": "code",
   "execution_count": 896,
   "id": "180db9eb",
   "metadata": {},
   "outputs": [
    {
     "name": "stdout",
     "output_type": "stream",
     "text": [
      "Scores: [0.77922078 0.63636364 0.64935065 0.61038961 0.66233766 0.61038961\n",
      " 0.64935065 0.63636364 0.61038961 0.5974026  0.66233766 0.61038961\n",
      " 0.66233766 0.5974026  0.75324675 0.67532468 0.67532468 0.55844156\n",
      " 0.64935065 0.75      ]\n",
      "Mean: 0.6517857142857143\n",
      "Standard Deviation: 0.054588679147273965\n"
     ]
    }
   ],
   "source": [
    "#### K-fold Cross Validation\n",
    "from sklearn.model_selection import cross_val_score\n",
    "rf = RandomForestClassifier(n_estimators=100)\n",
    "scores = cross_val_score(rf, X_train, Y_train, cv=20, scoring = \"accuracy\")\n",
    "print(\"Scores:\", scores)\n",
    "print(\"Mean:\", scores.mean())\n",
    "print(\"Standard Deviation:\", scores.std())"
   ]
  },
  {
   "cell_type": "code",
   "execution_count": 897,
   "id": "a0635148",
   "metadata": {},
   "outputs": [
    {
     "name": "stdout",
     "output_type": "stream",
     "text": [
      "Scores: [0.79220779 0.67532468 0.68831169 0.55844156 0.63636364 0.61038961\n",
      " 0.58441558 0.67532468 0.66233766 0.53246753 0.67532468 0.64935065\n",
      " 0.66233766 0.62337662 0.72727273 0.80519481 0.74025974 0.64935065\n",
      " 0.66233766 0.75      ]\n",
      "Mean: 0.6680194805194806\n",
      "Standard Deviation: 0.06882714855938747\n"
     ]
    }
   ],
   "source": [
    "from sklearn.model_selection import cross_val_score\n",
    "gaussian = GaussianNB() \n",
    "scores = cross_val_score(gaussian, X_train, Y_train, cv=20, scoring = \"accuracy\")\n",
    "print(\"Scores:\", scores)\n",
    "print(\"Mean:\", scores.mean())\n",
    "print(\"Standard Deviation:\", scores.std())"
   ]
  },
  {
   "cell_type": "markdown",
   "id": "257fe4bc",
   "metadata": {},
   "source": [
    "#### Decision Tree"
   ]
  },
  {
   "cell_type": "code",
   "execution_count": 899,
   "id": "3dd037a8",
   "metadata": {},
   "outputs": [
    {
     "name": "stdout",
     "output_type": "stream",
     "text": [
      "100.0 %\n"
     ]
    }
   ],
   "source": [
    "decision_tree = DecisionTreeClassifier() \n",
    "decision_tree.fit(X_train, Y_train)  \n",
    "\n",
    "Y_pred = decision_tree.predict(X_test)  \n",
    "\n",
    "acc_decision_tree = round(decision_tree.score(X_train, Y_train) * 100, 2)"
   ]
  },
  {
   "cell_type": "code",
   "execution_count": 900,
   "id": "faef3ef8",
   "metadata": {},
   "outputs": [
    {
     "name": "stdout",
     "output_type": "stream",
     "text": [
      "Scores: [0.79220779 0.58441558 0.68831169 0.46753247 0.57142857 0.55844156\n",
      " 0.54545455 0.54545455 0.66233766 0.5974026  0.66233766 0.63636364\n",
      " 0.68831169 0.54545455 0.71428571 0.62337662 0.67532468 0.55844156\n",
      " 0.57142857 0.63157895]\n",
      "Mean: 0.6159945317840055\n",
      "Standard Deviation: 0.07369124836246807\n"
     ]
    }
   ],
   "source": [
    "#### K-fold \n",
    "from sklearn.model_selection import cross_val_score\n",
    "decision_tree = DecisionTreeClassifier() \n",
    "scores = cross_val_score(decision_tree, X_train, Y_train, cv=20, scoring = \"accuracy\")\n",
    "print(\"Scores:\", scores)\n",
    "print(\"Mean:\", scores.mean())\n",
    "print(\"Standard Deviation:\", scores.std())"
   ]
  },
  {
   "cell_type": "markdown",
   "id": "05072382",
   "metadata": {},
   "source": [
    "We can see that the gaussian naive bayes algorithm still performs the best after dropping the CSS_rank_po_I feature. We will now try dropping some other features to see if overfitting can be avoided."
   ]
  },
  {
   "cell_type": "markdown",
   "id": "06125aaa",
   "metadata": {},
   "source": [
    "# Model Retraining II"
   ]
  },
  {
   "cell_type": "code",
   "execution_count": 902,
   "id": "3ce9b80a",
   "metadata": {},
   "outputs": [],
   "source": [
    "trainv12 = trainv11.drop([\"po_GP_greater_than_0\", \"DraftAge_group\"], axis=1)\n",
    "testv12 = testv11.drop([\"po_GP_greater_than_0\", \"DraftAge_group\"], axis=1)"
   ]
  },
  {
   "cell_type": "code",
   "execution_count": 903,
   "id": "06936009",
   "metadata": {},
   "outputs": [],
   "source": [
    "X_train = trainv12.drop([\"GP_greater_than_0\"], axis=1)\n",
    "Y_train = trainv12[\"GP_greater_than_0\"]\n",
    "X_test = testv12.drop([\"id\",\"GP_greater_than_0\"], axis=1).copy()"
   ]
  },
  {
   "cell_type": "code",
   "execution_count": 904,
   "id": "12a58e4a",
   "metadata": {},
   "outputs": [],
   "source": [
    "random_forest = RandomForestClassifier(n_estimators=100)\n",
    "random_forest.fit(X_train, Y_train)\n",
    "\n",
    "Y_pred = random_forest.predict(X_test)\n",
    "\n",
    "acc_random_forest = round(random_forest.score(X_train, Y_train) * 100, 2)"
   ]
  },
  {
   "cell_type": "code",
   "execution_count": 905,
   "id": "840ef96d",
   "metadata": {},
   "outputs": [],
   "source": [
    "gaussian = GaussianNB() \n",
    "gaussian.fit(X_train, Y_train)  \n",
    "\n",
    "Y_pred = gaussian.predict(X_test)  \n",
    "\n",
    "acc_gaussian = round(gaussian.score(X_train, Y_train) * 100, 2)"
   ]
  },
  {
   "cell_type": "code",
   "execution_count": 906,
   "id": "f1252796",
   "metadata": {},
   "outputs": [
    {
     "name": "stdout",
     "output_type": "stream",
     "text": [
      "100.0 %\n",
      "66.02 %\n"
     ]
    }
   ],
   "source": [
    "print(round(acc_random_forest,2,), \"%\")\n",
    "print(round(acc_gaussian,2,), \"%\")"
   ]
  },
  {
   "cell_type": "code",
   "execution_count": 907,
   "id": "6eef0fbf",
   "metadata": {},
   "outputs": [
    {
     "name": "stdout",
     "output_type": "stream",
     "text": [
      "Scores: [0.74025974 0.63636364 0.66233766 0.63636364 0.71428571 0.66233766\n",
      " 0.62337662 0.54545455 0.55844156 0.64935065 0.61038961 0.5974026\n",
      " 0.72727273 0.62337662 0.71428571 0.68831169 0.66233766 0.58441558\n",
      " 0.64935065 0.73684211]\n",
      "Mean: 0.6511278195488722\n",
      "Standard Deviation: 0.05548134380283678\n"
     ]
    }
   ],
   "source": [
    "#### K-fold Cross Validation\n",
    "from sklearn.model_selection import cross_val_score\n",
    "rf = RandomForestClassifier(n_estimators=100)\n",
    "scores = cross_val_score(rf, X_train, Y_train, cv=20, scoring = \"accuracy\")\n",
    "print(\"Scores:\", scores)\n",
    "print(\"Mean:\", scores.mean())\n",
    "print(\"Standard Deviation:\", scores.std())"
   ]
  },
  {
   "cell_type": "code",
   "execution_count": 908,
   "id": "bf505537",
   "metadata": {},
   "outputs": [
    {
     "name": "stdout",
     "output_type": "stream",
     "text": [
      "Scores: [0.71428571 0.75324675 0.68831169 0.57142857 0.62337662 0.7012987\n",
      " 0.5974026  0.68831169 0.57142857 0.55844156 0.61038961 0.61038961\n",
      " 0.64935065 0.64935065 0.74025974 0.75324675 0.68831169 0.62337662\n",
      " 0.5974026  0.77631579]\n",
      "Mean: 0.6582963089542038\n",
      "Standard Deviation: 0.06558679477354512\n"
     ]
    }
   ],
   "source": [
    "from sklearn.model_selection import cross_val_score\n",
    "gaussian = GaussianNB() \n",
    "scores = cross_val_score(gaussian, X_train, Y_train, cv=20, scoring = \"accuracy\")\n",
    "print(\"Scores:\", scores)\n",
    "print(\"Mean:\", scores.mean())\n",
    "print(\"Standard Deviation:\", scores.std())"
   ]
  },
  {
   "cell_type": "code",
   "execution_count": 909,
   "id": "ea435157",
   "metadata": {},
   "outputs": [],
   "source": [
    "decision_tree = DecisionTreeClassifier() \n",
    "decision_tree.fit(X_train, Y_train)  \n",
    "\n",
    "Y_pred = decision_tree.predict(X_test)  \n",
    "\n",
    "acc_decision_tree = round(decision_tree.score(X_train, Y_train) * 100, 2)"
   ]
  },
  {
   "cell_type": "code",
   "execution_count": 910,
   "id": "6ac65305",
   "metadata": {},
   "outputs": [
    {
     "name": "stdout",
     "output_type": "stream",
     "text": [
      "Scores: [0.63636364 0.53246753 0.5974026  0.54545455 0.53246753 0.58441558\n",
      " 0.53246753 0.62337662 0.72727273 0.46753247 0.57142857 0.51948052\n",
      " 0.68831169 0.54545455 0.64935065 0.57142857 0.63636364 0.57142857\n",
      " 0.55844156 0.60526316]\n",
      "Mean: 0.5848086124401913\n",
      "Standard Deviation: 0.06046696293242035\n"
     ]
    }
   ],
   "source": [
    "#### K-fold \n",
    "from sklearn.model_selection import cross_val_score\n",
    "decision_tree = DecisionTreeClassifier() \n",
    "scores = cross_val_score(decision_tree, X_train, Y_train, cv=20, scoring = \"accuracy\")\n",
    "print(\"Scores:\", scores)\n",
    "print(\"Mean:\", scores.mean())\n",
    "print(\"Standard Deviation:\", scores.std())"
   ]
  },
  {
   "cell_type": "markdown",
   "id": "031f251a",
   "metadata": {},
   "source": [
    "# A Different Approach to Training and Testing "
   ]
  },
  {
   "cell_type": "markdown",
   "id": "4fb99811",
   "metadata": {},
   "source": [
    "### Clean Data"
   ]
  },
  {
   "cell_type": "markdown",
   "id": "9a645752",
   "metadata": {},
   "source": [
    "We will now start cleaning the data beginning with the original dataset, and this time not removing labels from the test data."
   ]
  },
  {
   "cell_type": "code",
   "execution_count": 1105,
   "id": "6f88104e",
   "metadata": {},
   "outputs": [],
   "source": [
    "draft_data = pd.read_csv (r'C:\\Users\\seanf\\OneDrive\\Documents\\SUMMER RESEARCH PROJECT\\data\\playerstats.csv')\n",
    "draft_data=draft_data.drop(['PlayerName','Country','Overall','DraftYear'], axis=1)"
   ]
  },
  {
   "cell_type": "code",
   "execution_count": 1106,
   "id": "52c9c402",
   "metadata": {},
   "outputs": [],
   "source": [
    "#convert GP_greater_than_0 to binary 0-No 1-Yes\n",
    "draft_data_1=pd.get_dummies(draft_data[\"GP_greater_than_0\"])\n",
    "draft_data_2=pd.concat((draft_data_1, draft_data), axis=1)\n",
    "draft_data_2=draft_data_2.drop([\"GP_greater_than_0\"], axis=1)\n",
    "draft_data_2=draft_data_2.drop([\"no\"], axis=1)\n",
    "draft_data_v=draft_data_2.rename(columns={\"yes\": \"GP_greater_than_0\"})"
   ]
  },
  {
   "cell_type": "code",
   "execution_count": 1107,
   "id": "75ea3e43",
   "metadata": {},
   "outputs": [],
   "source": [
    "#convert po_GP to binary 1-played in at least one playoff game 0-did not play in the playoffs\n",
    "dr=pd.get_dummies(draft_data_v[\"po_GP\"])\n",
    "dr2=pd.concat((dr, draft_data_v), axis=1)\n",
    "dr2=dr2.drop([\"po_GP\",\"po_G\",\"po_A\",\"po_P\",\"po_PIM\"], axis=1)\n",
    "dr2=dr2.drop(dr2.columns[[1,2,3,4,5,6,7,8,9,10,11,12,13,14,15,\n",
    "                                    16,17,18,19,20,21,22,23,24,25,26,27,28,29,30]], axis=1)\n",
    "dr3=dr2.rename(columns={0: \"po_GP_greater_than_0\"})"
   ]
  },
  {
   "cell_type": "code",
   "execution_count": 1108,
   "id": "fed2b10b",
   "metadata": {},
   "outputs": [],
   "source": [
    "#flip binary outcome\n",
    "\n",
    "dr4=pd.get_dummies(dr3[\"po_GP_greater_than_0\"])\n",
    "dr5=pd.concat((dr4, dr3), axis=1)\n",
    "dr5=dr5.drop([\"po_GP_greater_than_0\"], axis=1)\n",
    "dr5=dr5.drop(dr5.columns[[1]], axis=1)\n",
    "dr6=dr5.rename(columns={0: \"po_GP_greater_than_0\"})"
   ]
  },
  {
   "cell_type": "code",
   "execution_count": 1109,
   "id": "5e9245e2",
   "metadata": {},
   "outputs": [],
   "source": [
    "bins = [0, 200, 220, np.inf]\n",
    "names = ['<200', '200-220', '220+']\n",
    "\n",
    "dr6['Weight_group'] = pd.cut(dr6['Weight'], bins, labels=names)"
   ]
  },
  {
   "cell_type": "code",
   "execution_count": 1110,
   "id": "b62291fe",
   "metadata": {},
   "outputs": [],
   "source": [
    "bins = [0, 72, 75, np.inf]\n",
    "names = ['<72', '72-75', '75+']\n",
    "\n",
    "dr6['Height_group'] = pd.cut(dr6['Height'], bins, labels=names)"
   ]
  },
  {
   "cell_type": "code",
   "execution_count": 1111,
   "id": "a89b85fa",
   "metadata": {},
   "outputs": [],
   "source": [
    "bins = [0, 19, np.inf]\n",
    "names = ['<20', '20+']\n",
    "\n",
    "dr6['DraftAge_group'] = pd.cut(dr6['DraftAge'], bins, labels=names)"
   ]
  },
  {
   "cell_type": "code",
   "execution_count": 1112,
   "id": "4ca78cd1",
   "metadata": {},
   "outputs": [],
   "source": [
    "bins = [-1000, -10, 10, np.inf]\n",
    "names = ['<-10', '-10-10', '10+']\n",
    "\n",
    "dr6['rs_PlusMinus_group'] = pd.cut(dr6['rs_PlusMinus'], bins, labels=names)"
   ]
  },
  {
   "cell_type": "code",
   "execution_count": 1113,
   "id": "1393da38",
   "metadata": {},
   "outputs": [],
   "source": [
    "dr6[\"rs_PIM_perGP\"] = (dr6[\"rs_PIM\"] / dr6[\"rs_GP\"])"
   ]
  },
  {
   "cell_type": "code",
   "execution_count": 1114,
   "id": "155c51b7",
   "metadata": {},
   "outputs": [],
   "source": [
    "dr6[\"rs_G_perGP\"] = (dr6[\"rs_G\"] / dr6[\"rs_GP\"])"
   ]
  },
  {
   "cell_type": "code",
   "execution_count": 1115,
   "id": "6a5a926b",
   "metadata": {},
   "outputs": [],
   "source": [
    "dr6[\"rs_A_perGP\"] = (dr6[\"rs_A\"] / dr6[\"rs_GP\"])"
   ]
  },
  {
   "cell_type": "code",
   "execution_count": 1116,
   "id": "152ad4ee",
   "metadata": {},
   "outputs": [],
   "source": [
    "bins = [0, 31, 61, 91, np.inf]\n",
    "names = ['1-30', '31-60', '61-90', '91+']\n",
    "\n",
    "dr6['CSS_rank_group'] = pd.cut(dr6['CSS_rank'], bins, labels=names)"
   ]
  },
  {
   "cell_type": "code",
   "execution_count": 1117,
   "id": "186d6724",
   "metadata": {},
   "outputs": [],
   "source": [
    "dr6=dr6.drop(['DraftAge','Height','Weight','rs_GP','rs_G','rs_A','rs_P','rs_PIM','rs_PlusMinus'], axis=1)"
   ]
  },
  {
   "cell_type": "code",
   "execution_count": 1118,
   "id": "cf98179c",
   "metadata": {},
   "outputs": [],
   "source": [
    "dr6['CSS_rank_po_I'] = (dr6['CSS_rank'] <= 90) & (dr6['CSS_rank'] > 30) & (dr6['po_GP_greater_than_0'] > 0)"
   ]
  },
  {
   "cell_type": "code",
   "execution_count": 1119,
   "id": "12670103",
   "metadata": {},
   "outputs": [],
   "source": [
    "dr6=dr6.drop(['CSS_rank','sum_7yr_GP','sum_7yr_TOI','id'], axis=1)"
   ]
  },
  {
   "cell_type": "code",
   "execution_count": 1120,
   "id": "97d989d2",
   "metadata": {},
   "outputs": [],
   "source": [
    "#convert bool to int\n",
    "\n",
    "dr7=pd.get_dummies(dr6[\"CSS_rank_po_I\"])\n",
    "dr8=pd.concat((dr7, dr6), axis=1)\n",
    "dr8=dr8.drop([\"CSS_rank_po_I\"], axis=1)\n",
    "dr8=dr8.drop(dr8.columns[[0]], axis=1)\n",
    "dr9=dr8.rename(columns={1: \"CSS_rank_po_I\"})"
   ]
  },
  {
   "cell_type": "code",
   "execution_count": 1121,
   "id": "5bc786b1",
   "metadata": {},
   "outputs": [],
   "source": [
    "#object to int\n",
    "country = {\"CAN\": 0,\"USA\": 1,\"EURO\": 2}\n",
    "dr9['country_group'] = dr9['country_group'].map(country)"
   ]
  },
  {
   "cell_type": "code",
   "execution_count": 1122,
   "id": "1e069693",
   "metadata": {},
   "outputs": [],
   "source": [
    "#object to int\n",
    "pos = {\"C\": 0,\"L\": 1,\"R\": 2,\"D\": 3}\n",
    "dr9['Position'] = dr9['Position'].map(pos)"
   ]
  },
  {
   "cell_type": "code",
   "execution_count": 1123,
   "id": "721dd9bb",
   "metadata": {},
   "outputs": [],
   "source": [
    "#cat to int\n",
    "wt = {\"<200\": 0,\"200-220\": 1,\"220+\": 2}\n",
    "dr9['Weight_group'] = dr9['Weight_group'].map(wt)"
   ]
  },
  {
   "cell_type": "code",
   "execution_count": 1124,
   "id": "90c4881e",
   "metadata": {},
   "outputs": [],
   "source": [
    "ht = {\"<72\": 0,\"72-75\": 1,\"75+\": 2}\n",
    "dr9['Height_group'] = dr9['Height_group'].map(ht)"
   ]
  },
  {
   "cell_type": "code",
   "execution_count": 1125,
   "id": "5b5abc7f",
   "metadata": {},
   "outputs": [],
   "source": [
    "Da = {\"<20\": 0,\"20+\": 1}\n",
    "dr9['DraftAge_group'] = dr9['DraftAge_group'].map(Da)"
   ]
  },
  {
   "cell_type": "code",
   "execution_count": 1126,
   "id": "5f6a0f36",
   "metadata": {},
   "outputs": [],
   "source": [
    "pm = {\"<-10\": 0,\"-10-10\": 1,\"10+\": 2}\n",
    "dr9['rs_PlusMinus_group'] = dr9['rs_PlusMinus_group'].map(pm)"
   ]
  },
  {
   "cell_type": "code",
   "execution_count": 1127,
   "id": "4bc40ada",
   "metadata": {},
   "outputs": [],
   "source": [
    "Cs = {\"1-30\": 0,\"31-60\": 1,\"61-90\": 2,\"91+\": 3}\n",
    "dr9['CSS_rank_group'] = dr9['CSS_rank_group'].map(Cs)"
   ]
  },
  {
   "cell_type": "code",
   "execution_count": 1128,
   "id": "99ea17e0",
   "metadata": {},
   "outputs": [],
   "source": [
    "dr9['Weight_group'] = dr9['Weight_group'].astype(int)"
   ]
  },
  {
   "cell_type": "code",
   "execution_count": 1129,
   "id": "b7bfbefb",
   "metadata": {},
   "outputs": [],
   "source": [
    "dr9['Height_group'] = dr9['Height_group'].astype(int)"
   ]
  },
  {
   "cell_type": "code",
   "execution_count": 1130,
   "id": "d686ba68",
   "metadata": {},
   "outputs": [],
   "source": [
    "dr9['DraftAge_group'] = dr9['DraftAge_group'].astype(int)"
   ]
  },
  {
   "cell_type": "code",
   "execution_count": 1131,
   "id": "7efd07aa",
   "metadata": {},
   "outputs": [],
   "source": [
    "dr9['rs_PlusMinus_group'] = dr9['rs_PlusMinus_group'].astype(int)"
   ]
  },
  {
   "cell_type": "code",
   "execution_count": 1132,
   "id": "5c61a105",
   "metadata": {},
   "outputs": [],
   "source": [
    "dr9['CSS_rank_group'] = dr9['CSS_rank_group'].astype(int)"
   ]
  },
  {
   "cell_type": "code",
   "execution_count": 1133,
   "id": "a210fa72",
   "metadata": {},
   "outputs": [
    {
     "data": {
      "text/plain": [
       "True"
      ]
     },
     "execution_count": 1133,
     "metadata": {},
     "output_type": "execute_result"
    }
   ],
   "source": [
    "np.any(np.isnan(dr9))"
   ]
  },
  {
   "cell_type": "code",
   "execution_count": 1134,
   "id": "e3903636",
   "metadata": {},
   "outputs": [
    {
     "data": {
      "text/plain": [
       "False"
      ]
     },
     "execution_count": 1134,
     "metadata": {},
     "output_type": "execute_result"
    }
   ],
   "source": [
    "np.all(np.isfinite(dr9))"
   ]
  },
  {
   "cell_type": "code",
   "execution_count": 1135,
   "id": "b30245a9",
   "metadata": {},
   "outputs": [],
   "source": [
    "dr10 = dr9.replace([np.inf, -np.inf], np.nan).dropna(axis=0)"
   ]
  },
  {
   "cell_type": "code",
   "execution_count": 1136,
   "id": "e379f9da",
   "metadata": {},
   "outputs": [
    {
     "data": {
      "text/plain": [
       "False"
      ]
     },
     "execution_count": 1136,
     "metadata": {},
     "output_type": "execute_result"
    }
   ],
   "source": [
    "np.any(np.isnan(dr10))"
   ]
  },
  {
   "cell_type": "code",
   "execution_count": 1137,
   "id": "1f18f6a6",
   "metadata": {},
   "outputs": [
    {
     "data": {
      "text/plain": [
       "True"
      ]
     },
     "execution_count": 1137,
     "metadata": {},
     "output_type": "execute_result"
    }
   ],
   "source": [
    "np.all(np.isfinite(dr10))"
   ]
  },
  {
   "cell_type": "code",
   "execution_count": 1171,
   "id": "21806cdb",
   "metadata": {},
   "outputs": [
    {
     "name": "stdout",
     "output_type": "stream",
     "text": [
      "      CSS_rank_po_I  po_GP_greater_than_0  GP_greater_than_0  country_group  \\\n",
      "0                 0                     1                  0              1   \n",
      "1                 0                     0                  0              1   \n",
      "2                 0                     1                  0              0   \n",
      "3                 0                     0                  1              0   \n",
      "4                 1                     1                  0              0   \n",
      "...             ...                   ...                ...            ...   \n",
      "2219              0                     0                  0              2   \n",
      "2220              1                     1                  0              2   \n",
      "2221              0                     1                  0              2   \n",
      "2222              1                     1                  1              2   \n",
      "2223              1                     1                  1              2   \n",
      "\n",
      "      Position  Weight_group  Height_group  DraftAge_group  \\\n",
      "0            0             1             1               0   \n",
      "1            3             1             1               0   \n",
      "2            2             1             1               0   \n",
      "3            0             0             0               0   \n",
      "4            3             1             1               0   \n",
      "...        ...           ...           ...             ...   \n",
      "2219         2             0             0               1   \n",
      "2220         1             2             1               0   \n",
      "2221         2             0             1               0   \n",
      "2222         1             0             1               0   \n",
      "2223         3             1             1               1   \n",
      "\n",
      "      rs_PlusMinus_group  rs_PIM_perGP  rs_G_perGP  rs_A_perGP  CSS_rank_group  \n",
      "0                      0      1.382353    0.382353    0.426471               0  \n",
      "1                      2      1.219512    0.268293    0.439024               0  \n",
      "2                      1      1.628571    0.085714    0.057143               3  \n",
      "3                      2      0.557143    0.300000    0.257143               3  \n",
      "4                      1      3.573529    0.073529    0.088235               2  \n",
      "...                  ...           ...         ...         ...             ...  \n",
      "2219                   0      0.327273    0.163636    0.109091               2  \n",
      "2220                   1      0.588235    0.196078    0.196078               2  \n",
      "2221                   2      2.986667    0.253333    0.320000               0  \n",
      "2222                   1      0.568182    0.409091    0.340909               1  \n",
      "2223                   1      0.600000    0.140000    0.060000               2  \n",
      "\n",
      "[2201 rows x 13 columns]\n"
     ]
    }
   ],
   "source": [
    "print(dr10)"
   ]
  },
  {
   "cell_type": "markdown",
   "id": "794c0bd0",
   "metadata": {},
   "source": [
    "# Train and Test Split using sklearn"
   ]
  },
  {
   "cell_type": "code",
   "execution_count": 1139,
   "id": "38a24252",
   "metadata": {},
   "outputs": [],
   "source": [
    "from sklearn.model_selection import train_test_split\n",
    "from sklearn.ensemble import RandomForestClassifier\n",
    "from sklearn.metrics import accuracy_score"
   ]
  },
  {
   "cell_type": "code",
   "execution_count": 1178,
   "id": "059033fa",
   "metadata": {},
   "outputs": [
    {
     "data": {
      "text/html": [
       "<div>\n",
       "<style scoped>\n",
       "    .dataframe tbody tr th:only-of-type {\n",
       "        vertical-align: middle;\n",
       "    }\n",
       "\n",
       "    .dataframe tbody tr th {\n",
       "        vertical-align: top;\n",
       "    }\n",
       "\n",
       "    .dataframe thead th {\n",
       "        text-align: right;\n",
       "    }\n",
       "</style>\n",
       "<table border=\"1\" class=\"dataframe\">\n",
       "  <thead>\n",
       "    <tr style=\"text-align: right;\">\n",
       "      <th></th>\n",
       "      <th>CSS_rank_po_I</th>\n",
       "      <th>po_GP_greater_than_0</th>\n",
       "      <th>country_group</th>\n",
       "      <th>Position</th>\n",
       "      <th>Weight_group</th>\n",
       "      <th>Height_group</th>\n",
       "      <th>DraftAge_group</th>\n",
       "      <th>rs_PlusMinus_group</th>\n",
       "      <th>rs_PIM_perGP</th>\n",
       "      <th>rs_G_perGP</th>\n",
       "      <th>rs_A_perGP</th>\n",
       "      <th>CSS_rank_group</th>\n",
       "      <th>GP_greater_than_0</th>\n",
       "    </tr>\n",
       "  </thead>\n",
       "  <tbody>\n",
       "    <tr>\n",
       "      <th>0</th>\n",
       "      <td>0</td>\n",
       "      <td>1</td>\n",
       "      <td>1</td>\n",
       "      <td>0</td>\n",
       "      <td>1</td>\n",
       "      <td>1</td>\n",
       "      <td>0</td>\n",
       "      <td>0</td>\n",
       "      <td>1.382353</td>\n",
       "      <td>0.382353</td>\n",
       "      <td>0.426471</td>\n",
       "      <td>0</td>\n",
       "      <td>0</td>\n",
       "    </tr>\n",
       "    <tr>\n",
       "      <th>1</th>\n",
       "      <td>0</td>\n",
       "      <td>0</td>\n",
       "      <td>1</td>\n",
       "      <td>3</td>\n",
       "      <td>1</td>\n",
       "      <td>1</td>\n",
       "      <td>0</td>\n",
       "      <td>2</td>\n",
       "      <td>1.219512</td>\n",
       "      <td>0.268293</td>\n",
       "      <td>0.439024</td>\n",
       "      <td>0</td>\n",
       "      <td>0</td>\n",
       "    </tr>\n",
       "    <tr>\n",
       "      <th>2</th>\n",
       "      <td>0</td>\n",
       "      <td>1</td>\n",
       "      <td>0</td>\n",
       "      <td>2</td>\n",
       "      <td>1</td>\n",
       "      <td>1</td>\n",
       "      <td>0</td>\n",
       "      <td>1</td>\n",
       "      <td>1.628571</td>\n",
       "      <td>0.085714</td>\n",
       "      <td>0.057143</td>\n",
       "      <td>3</td>\n",
       "      <td>0</td>\n",
       "    </tr>\n",
       "    <tr>\n",
       "      <th>3</th>\n",
       "      <td>0</td>\n",
       "      <td>0</td>\n",
       "      <td>0</td>\n",
       "      <td>0</td>\n",
       "      <td>0</td>\n",
       "      <td>0</td>\n",
       "      <td>0</td>\n",
       "      <td>2</td>\n",
       "      <td>0.557143</td>\n",
       "      <td>0.300000</td>\n",
       "      <td>0.257143</td>\n",
       "      <td>3</td>\n",
       "      <td>1</td>\n",
       "    </tr>\n",
       "    <tr>\n",
       "      <th>4</th>\n",
       "      <td>1</td>\n",
       "      <td>1</td>\n",
       "      <td>0</td>\n",
       "      <td>3</td>\n",
       "      <td>1</td>\n",
       "      <td>1</td>\n",
       "      <td>0</td>\n",
       "      <td>1</td>\n",
       "      <td>3.573529</td>\n",
       "      <td>0.073529</td>\n",
       "      <td>0.088235</td>\n",
       "      <td>2</td>\n",
       "      <td>0</td>\n",
       "    </tr>\n",
       "    <tr>\n",
       "      <th>...</th>\n",
       "      <td>...</td>\n",
       "      <td>...</td>\n",
       "      <td>...</td>\n",
       "      <td>...</td>\n",
       "      <td>...</td>\n",
       "      <td>...</td>\n",
       "      <td>...</td>\n",
       "      <td>...</td>\n",
       "      <td>...</td>\n",
       "      <td>...</td>\n",
       "      <td>...</td>\n",
       "      <td>...</td>\n",
       "      <td>...</td>\n",
       "    </tr>\n",
       "    <tr>\n",
       "      <th>2219</th>\n",
       "      <td>0</td>\n",
       "      <td>0</td>\n",
       "      <td>2</td>\n",
       "      <td>2</td>\n",
       "      <td>0</td>\n",
       "      <td>0</td>\n",
       "      <td>1</td>\n",
       "      <td>0</td>\n",
       "      <td>0.327273</td>\n",
       "      <td>0.163636</td>\n",
       "      <td>0.109091</td>\n",
       "      <td>2</td>\n",
       "      <td>0</td>\n",
       "    </tr>\n",
       "    <tr>\n",
       "      <th>2220</th>\n",
       "      <td>1</td>\n",
       "      <td>1</td>\n",
       "      <td>2</td>\n",
       "      <td>1</td>\n",
       "      <td>2</td>\n",
       "      <td>1</td>\n",
       "      <td>0</td>\n",
       "      <td>1</td>\n",
       "      <td>0.588235</td>\n",
       "      <td>0.196078</td>\n",
       "      <td>0.196078</td>\n",
       "      <td>2</td>\n",
       "      <td>0</td>\n",
       "    </tr>\n",
       "    <tr>\n",
       "      <th>2221</th>\n",
       "      <td>0</td>\n",
       "      <td>1</td>\n",
       "      <td>2</td>\n",
       "      <td>2</td>\n",
       "      <td>0</td>\n",
       "      <td>1</td>\n",
       "      <td>0</td>\n",
       "      <td>2</td>\n",
       "      <td>2.986667</td>\n",
       "      <td>0.253333</td>\n",
       "      <td>0.320000</td>\n",
       "      <td>0</td>\n",
       "      <td>0</td>\n",
       "    </tr>\n",
       "    <tr>\n",
       "      <th>2222</th>\n",
       "      <td>1</td>\n",
       "      <td>1</td>\n",
       "      <td>2</td>\n",
       "      <td>1</td>\n",
       "      <td>0</td>\n",
       "      <td>1</td>\n",
       "      <td>0</td>\n",
       "      <td>1</td>\n",
       "      <td>0.568182</td>\n",
       "      <td>0.409091</td>\n",
       "      <td>0.340909</td>\n",
       "      <td>1</td>\n",
       "      <td>1</td>\n",
       "    </tr>\n",
       "    <tr>\n",
       "      <th>2223</th>\n",
       "      <td>1</td>\n",
       "      <td>1</td>\n",
       "      <td>2</td>\n",
       "      <td>3</td>\n",
       "      <td>1</td>\n",
       "      <td>1</td>\n",
       "      <td>1</td>\n",
       "      <td>1</td>\n",
       "      <td>0.600000</td>\n",
       "      <td>0.140000</td>\n",
       "      <td>0.060000</td>\n",
       "      <td>2</td>\n",
       "      <td>1</td>\n",
       "    </tr>\n",
       "  </tbody>\n",
       "</table>\n",
       "<p>2201 rows × 13 columns</p>\n",
       "</div>"
      ],
      "text/plain": [
       "      CSS_rank_po_I  po_GP_greater_than_0  country_group  Position  \\\n",
       "0                 0                     1              1         0   \n",
       "1                 0                     0              1         3   \n",
       "2                 0                     1              0         2   \n",
       "3                 0                     0              0         0   \n",
       "4                 1                     1              0         3   \n",
       "...             ...                   ...            ...       ...   \n",
       "2219              0                     0              2         2   \n",
       "2220              1                     1              2         1   \n",
       "2221              0                     1              2         2   \n",
       "2222              1                     1              2         1   \n",
       "2223              1                     1              2         3   \n",
       "\n",
       "      Weight_group  Height_group  DraftAge_group  rs_PlusMinus_group  \\\n",
       "0                1             1               0                   0   \n",
       "1                1             1               0                   2   \n",
       "2                1             1               0                   1   \n",
       "3                0             0               0                   2   \n",
       "4                1             1               0                   1   \n",
       "...            ...           ...             ...                 ...   \n",
       "2219             0             0               1                   0   \n",
       "2220             2             1               0                   1   \n",
       "2221             0             1               0                   2   \n",
       "2222             0             1               0                   1   \n",
       "2223             1             1               1                   1   \n",
       "\n",
       "      rs_PIM_perGP  rs_G_perGP  rs_A_perGP  CSS_rank_group  GP_greater_than_0  \n",
       "0         1.382353    0.382353    0.426471               0                  0  \n",
       "1         1.219512    0.268293    0.439024               0                  0  \n",
       "2         1.628571    0.085714    0.057143               3                  0  \n",
       "3         0.557143    0.300000    0.257143               3                  1  \n",
       "4         3.573529    0.073529    0.088235               2                  0  \n",
       "...            ...         ...         ...             ...                ...  \n",
       "2219      0.327273    0.163636    0.109091               2                  0  \n",
       "2220      0.588235    0.196078    0.196078               2                  0  \n",
       "2221      2.986667    0.253333    0.320000               0                  0  \n",
       "2222      0.568182    0.409091    0.340909               1                  1  \n",
       "2223      0.600000    0.140000    0.060000               2                  1  \n",
       "\n",
       "[2201 rows x 13 columns]"
      ]
     },
     "execution_count": 1178,
     "metadata": {},
     "output_type": "execute_result"
    }
   ],
   "source": [
    "dr10 = dr10[['CSS_rank_po_I','po_GP_greater_than_0','country_group','Position',\n",
    "            'Weight_group','Height_group','DraftAge_group','rs_PlusMinus_group',\n",
    "            'rs_PIM_perGP','rs_G_perGP','rs_A_perGP','CSS_rank_group','GP_greater_than_0']]\n",
    "dr10"
   ]
  },
  {
   "cell_type": "code",
   "execution_count": 1190,
   "id": "6349d9b2",
   "metadata": {},
   "outputs": [],
   "source": [
    "dr10 = dr10.drop([\"CSS_rank_po_I\", \"po_GP_greater_than_0\", \"DraftAge_group\"], axis=1)"
   ]
  },
  {
   "cell_type": "code",
   "execution_count": 1191,
   "id": "ae18fec4",
   "metadata": {},
   "outputs": [],
   "source": [
    "dr11 = dr10.values"
   ]
  },
  {
   "cell_type": "code",
   "execution_count": 1192,
   "id": "9cd0dc2a",
   "metadata": {},
   "outputs": [
    {
     "name": "stdout",
     "output_type": "stream",
     "text": [
      "[[1.         0.         1.         ... 0.38235294 0.42647059 0.        ]\n",
      " [1.         3.         1.         ... 0.26829268 0.43902439 0.        ]\n",
      " [0.         2.         1.         ... 0.08571429 0.05714286 3.        ]\n",
      " ...\n",
      " [2.         2.         0.         ... 0.25333333 0.32       0.        ]\n",
      " [2.         1.         0.         ... 0.40909091 0.34090909 1.        ]\n",
      " [2.         3.         1.         ... 0.14       0.06       2.        ]]\n"
     ]
    }
   ],
   "source": [
    "X = dr11[:, :-1]\n",
    "print(X)"
   ]
  },
  {
   "cell_type": "code",
   "execution_count": 1193,
   "id": "90460de7",
   "metadata": {},
   "outputs": [
    {
     "name": "stdout",
     "output_type": "stream",
     "text": [
      "[0. 0. 0. ... 0. 1. 1.]\n"
     ]
    }
   ],
   "source": [
    "Y = dr11[:,-1]\n",
    "print(Y)"
   ]
  },
  {
   "cell_type": "code",
   "execution_count": 1194,
   "id": "27b15e2b",
   "metadata": {},
   "outputs": [
    {
     "name": "stdout",
     "output_type": "stream",
     "text": [
      "(2201, 9) (2201,)\n"
     ]
    }
   ],
   "source": [
    "print(X.shape, Y.shape)"
   ]
  },
  {
   "cell_type": "code",
   "execution_count": 1195,
   "id": "ce954010",
   "metadata": {},
   "outputs": [],
   "source": [
    "X_train, X_test, Y_train, Y_test = train_test_split(X, Y, test_size=0.33, random_state=1)"
   ]
  },
  {
   "cell_type": "code",
   "execution_count": 1196,
   "id": "027a0e0c",
   "metadata": {},
   "outputs": [
    {
     "name": "stdout",
     "output_type": "stream",
     "text": [
      "(1474, 9) (727, 9) (1474,) (727,)\n"
     ]
    }
   ],
   "source": [
    "print(X_train.shape, X_test.shape, Y_train.shape, Y_test.shape)"
   ]
  },
  {
   "cell_type": "markdown",
   "id": "92c0fc15",
   "metadata": {},
   "source": [
    "### Fit Models"
   ]
  },
  {
   "cell_type": "code",
   "execution_count": 1213,
   "id": "add24d2c",
   "metadata": {},
   "outputs": [
    {
     "name": "stdout",
     "output_type": "stream",
     "text": [
      "Accuracy: 0.598\n"
     ]
    }
   ],
   "source": [
    "sgd = linear_model.SGDClassifier(max_iter=5, tol=None)\n",
    "sgd.fit(X_train, Y_train)\n",
    "Y_pred = sgd.predict(X_test)\n",
    "\n",
    "acc_sgd = accuracy_score(Y_test, Y_pred)\n",
    "print('Accuracy: %.3f' % acc_sgd)"
   ]
  },
  {
   "cell_type": "code",
   "execution_count": 1214,
   "id": "eba2ed9f",
   "metadata": {},
   "outputs": [
    {
     "name": "stdout",
     "output_type": "stream",
     "text": [
      "Accuracy: 0.601\n"
     ]
    }
   ],
   "source": [
    "decision_tree = DecisionTreeClassifier() \n",
    "decision_tree.fit(X_train, Y_train)  \n",
    "\n",
    "Y_pred = decision_tree.predict(X_test)  \n",
    "\n",
    "acc_dt = accuracy_score(Y_test, Y_pred)\n",
    "print('Accuracy: %.3f' % acc_dt)"
   ]
  },
  {
   "cell_type": "code",
   "execution_count": 1232,
   "id": "77ef052a",
   "metadata": {},
   "outputs": [
    {
     "name": "stdout",
     "output_type": "stream",
     "text": [
      "Accuracy: 0.674\n"
     ]
    }
   ],
   "source": [
    "random_forest = RandomForestClassifier(n_estimators=100)\n",
    "random_forest.fit(X_train, Y_train)\n",
    "\n",
    "Y_pred = random_forest.predict(X_test)\n",
    "\n",
    "acc_rf = accuracy_score(Y_test, Y_pred)\n",
    "print('Accuracy: %.3f' % acc_rf)"
   ]
  },
  {
   "cell_type": "code",
   "execution_count": 1256,
   "id": "8f6f0c32",
   "metadata": {},
   "outputs": [
    {
     "name": "stdout",
     "output_type": "stream",
     "text": [
      "Accuracy: 0.677\n"
     ]
    }
   ],
   "source": [
    "logreg = LogisticRegression()\n",
    "logreg.fit(X_train, Y_train)\n",
    "\n",
    "Y_pred = logreg.predict(X_test)\n",
    "\n",
    "acc_log = accuracy_score(Y_test, Y_pred)\n",
    "print('Accuracy: %.3f' % acc_log)"
   ]
  },
  {
   "cell_type": "code",
   "execution_count": 1234,
   "id": "2ec3d90d",
   "metadata": {},
   "outputs": [
    {
     "name": "stdout",
     "output_type": "stream",
     "text": [
      "Accuracy: 0.619\n"
     ]
    }
   ],
   "source": [
    "knn = KNeighborsClassifier(n_neighbors = 3) \n",
    "knn.fit(X_train, Y_train)  \n",
    "\n",
    "Y_pred = knn.predict(X_test)  \n",
    "\n",
    "acc_knn = accuracy_score(Y_test, Y_pred)\n",
    "print('Accuracy: %.3f' % acc_knn)"
   ]
  },
  {
   "cell_type": "code",
   "execution_count": 1236,
   "id": "fca2ce64",
   "metadata": {},
   "outputs": [
    {
     "name": "stdout",
     "output_type": "stream",
     "text": [
      "Accuracy: 0.670\n"
     ]
    }
   ],
   "source": [
    "gaussian = GaussianNB() \n",
    "gaussian.fit(X_train, Y_train)  \n",
    "\n",
    "Y_pred = gaussian.predict(X_test)  \n",
    "\n",
    "acc_gaussian = accuracy_score(Y_test, Y_pred)\n",
    "print('Accuracy: %.3f' % acc_gaussian)"
   ]
  },
  {
   "cell_type": "code",
   "execution_count": 1237,
   "id": "71713b20",
   "metadata": {},
   "outputs": [
    {
     "name": "stdout",
     "output_type": "stream",
     "text": [
      "Accuracy: 0.578\n"
     ]
    }
   ],
   "source": [
    "perceptron = Perceptron(max_iter=10)\n",
    "perceptron.fit(X_train, Y_train)\n",
    "\n",
    "Y_pred = perceptron.predict(X_test)\n",
    "\n",
    "acc_perceptron = accuracy_score(Y_test, Y_pred)\n",
    "print('Accuracy: %.3f' % acc_perceptron)"
   ]
  },
  {
   "cell_type": "code",
   "execution_count": 1239,
   "id": "c88dd0e7",
   "metadata": {},
   "outputs": [
    {
     "name": "stdout",
     "output_type": "stream",
     "text": [
      "Accuracy: 0.674\n"
     ]
    }
   ],
   "source": [
    "linear_svc = LinearSVC(max_iter=5000)\n",
    "linear_svc.fit(X_train, Y_train)\n",
    "\n",
    "Y_pred = linear_svc.predict(X_test)\n",
    "\n",
    "acc_linear_svc = accuracy_score(Y_test, Y_pred)\n",
    "print('Accuracy: %.3f' % acc_linear_svc)"
   ]
  },
  {
   "cell_type": "markdown",
   "id": "0fe17344",
   "metadata": {},
   "source": [
    "Logistic Regression performs best when evaluating algorithms on labelled test data with 67.7% accuracy. "
   ]
  },
  {
   "cell_type": "markdown",
   "id": "37c2a9be",
   "metadata": {},
   "source": [
    "### Hyperparameter Tuning"
   ]
  },
  {
   "cell_type": "markdown",
   "id": "c79c3b6d",
   "metadata": {},
   "source": [
    "We will now see if we can improve our random forest by using hyperparameter tuning."
   ]
  },
  {
   "cell_type": "code",
   "execution_count": 1242,
   "id": "b87652a0",
   "metadata": {},
   "outputs": [
    {
     "data": {
      "text/plain": [
       "{'criterion': 'entropy',\n",
       " 'min_samples_leaf': 1,\n",
       " 'min_samples_split': 35,\n",
       " 'n_estimators': 1500}"
      ]
     },
     "execution_count": 1242,
     "metadata": {},
     "output_type": "execute_result"
    }
   ],
   "source": [
    "param_grid = { \"criterion\" : [\"gini\", \"entropy\"], \"min_samples_leaf\" : [1, 5, 10, 25, 50, 70], \"min_samples_split\" : [2, 4, 10, 12, 16, 18, 25, 35], \"n_estimators\": [100, 400, 700, 1000, 1500]}\n",
    "from sklearn.model_selection import GridSearchCV, cross_val_score\n",
    "rf = RandomForestClassifier(n_estimators=100, max_features='auto', oob_score=True, random_state=1, n_jobs=-1)\n",
    "clf = GridSearchCV(estimator=rf, param_grid=param_grid, n_jobs=-1)\n",
    "clf.fit(X_train, Y_train)\n",
    "clf.best_params_"
   ]
  },
  {
   "cell_type": "markdown",
   "id": "43a3f611",
   "metadata": {},
   "source": [
    "#### Test new Parameters"
   ]
  },
  {
   "cell_type": "code",
   "execution_count": 1246,
   "id": "1a933701",
   "metadata": {},
   "outputs": [
    {
     "name": "stdout",
     "output_type": "stream",
     "text": [
      "Accuracy: 0.671\n"
     ]
    }
   ],
   "source": [
    "rf = RandomForestClassifier(criterion = \"entropy\",\n",
    "    min_samples_leaf = 1, min_samples_split = 35, n_estimators = 1500,\n",
    "    max_features = 'auto', random_state = 1, n_jobs = -1)\n",
    "\n",
    "rf.fit(X_train, Y_train)\n",
    "Y_pred = rf.predict(X_test)\n",
    "\n",
    "acc_rf = accuracy_score(Y_test, Y_pred)\n",
    "print('Accuracy: %.3f' % acc_rf)"
   ]
  },
  {
   "cell_type": "markdown",
   "id": "893b4935",
   "metadata": {},
   "source": [
    "Even after hyperparameter tuning, we can see that the accuracy of our logistic regression is still higher. Now, lets see if we can improve our logistic regression model. "
   ]
  },
  {
   "cell_type": "code",
   "execution_count": 1252,
   "id": "fe4e13f4",
   "metadata": {},
   "outputs": [
    {
     "name": "stdout",
     "output_type": "stream",
     "text": [
      "Best: 0.633666 using {'C': 0.01, 'penalty': 'l2', 'solver': 'liblinear'}\n",
      "0.623937 (0.034900) with: {'C': 100, 'penalty': 'l2', 'solver': 'newton-cg'}\n",
      "0.623937 (0.034900) with: {'C': 100, 'penalty': 'l2', 'solver': 'lbfgs'}\n",
      "0.623937 (0.034900) with: {'C': 100, 'penalty': 'l2', 'solver': 'liblinear'}\n",
      "0.623937 (0.034900) with: {'C': 10, 'penalty': 'l2', 'solver': 'newton-cg'}\n",
      "0.623937 (0.034900) with: {'C': 10, 'penalty': 'l2', 'solver': 'lbfgs'}\n",
      "0.623937 (0.034900) with: {'C': 10, 'penalty': 'l2', 'solver': 'liblinear'}\n",
      "0.622585 (0.036090) with: {'C': 1.0, 'penalty': 'l2', 'solver': 'newton-cg'}\n",
      "0.622585 (0.036090) with: {'C': 1.0, 'penalty': 'l2', 'solver': 'lbfgs'}\n",
      "0.622136 (0.036211) with: {'C': 1.0, 'penalty': 'l2', 'solver': 'liblinear'}\n",
      "0.621668 (0.034922) with: {'C': 0.1, 'penalty': 'l2', 'solver': 'newton-cg'}\n",
      "0.621668 (0.034922) with: {'C': 0.1, 'penalty': 'l2', 'solver': 'lbfgs'}\n",
      "0.623482 (0.033786) with: {'C': 0.1, 'penalty': 'l2', 'solver': 'liblinear'}\n",
      "0.626629 (0.036243) with: {'C': 0.01, 'penalty': 'l2', 'solver': 'newton-cg'}\n",
      "0.626629 (0.036243) with: {'C': 0.01, 'penalty': 'l2', 'solver': 'lbfgs'}\n",
      "0.633666 (0.035322) with: {'C': 0.01, 'penalty': 'l2', 'solver': 'liblinear'}\n"
     ]
    }
   ],
   "source": [
    "from sklearn.model_selection import RepeatedStratifiedKFold\n",
    "\n",
    "logreg = LogisticRegression()\n",
    "solvers = ['newton-cg', 'lbfgs', 'liblinear']\n",
    "penalty = ['l2']\n",
    "c = [100, 10, 1.0, 0.1, 0.01]\n",
    "\n",
    "grid = dict(solver=solvers,penalty=penalty,C=c)\n",
    "cv = RepeatedStratifiedKFold(n_splits=10, n_repeats=3, random_state=1)\n",
    "grid_search = GridSearchCV(estimator=logreg, param_grid=grid, n_jobs=-1, cv=cv, scoring='accuracy',error_score=0)\n",
    "grid_result = grid_search.fit(X_train, Y_train)\n",
    "\n",
    "print(\"Best: %f using %s\" % (grid_result.best_score_, grid_result.best_params_))\n",
    "means = grid_result.cv_results_['mean_test_score']\n",
    "stds = grid_result.cv_results_['std_test_score']\n",
    "params = grid_result.cv_results_['params']\n",
    "for mean, stdev, param in zip(means, stds, params):\n",
    "    print(\"%f (%f) with: %r\" % (mean, stdev, param))"
   ]
  },
  {
   "cell_type": "code",
   "execution_count": 1258,
   "id": "b5d13c05",
   "metadata": {},
   "outputs": [
    {
     "name": "stdout",
     "output_type": "stream",
     "text": [
      "Accuracy: 0.666\n"
     ]
    }
   ],
   "source": [
    "logreg = LogisticRegression(penalty='l2', C=0.01, solver='liblinear')\n",
    "logreg.fit(X_train, Y_train)\n",
    "\n",
    "Y_pred = logreg.predict(X_test)\n",
    "\n",
    "acc_log = accuracy_score(Y_test, Y_pred)\n",
    "print('Accuracy: %.3f' % acc_log)"
   ]
  },
  {
   "cell_type": "code",
   "execution_count": 1257,
   "id": "666633f4",
   "metadata": {},
   "outputs": [
    {
     "name": "stdout",
     "output_type": "stream",
     "text": [
      "Accuracy: 0.677\n"
     ]
    }
   ],
   "source": [
    "logreg = LogisticRegression()\n",
    "logreg.fit(X_train, Y_train)\n",
    "\n",
    "Y_pred = logreg.predict(X_test)\n",
    "\n",
    "acc_log = accuracy_score(Y_test, Y_pred)\n",
    "print('Accuracy: %.3f' % acc_log)"
   ]
  },
  {
   "cell_type": "markdown",
   "id": "066f7ea6",
   "metadata": {},
   "source": [
    "It seems that hyperparameter tuning in this case was not quite useful. This may be due to the fact that we are tuning on the training data but then using the labelled test data to measure accuracy. However, we culd refit the logistic regression model on the whole dataset and make this our final model for new, unseen, future cases. For now, we will look at further evaluating our logistic regression model."
   ]
  },
  {
   "cell_type": "markdown",
   "id": "15a09920",
   "metadata": {},
   "source": [
    "#### Further Evaluation: Confusion Matrix, Precision and Recall, F-Score, ROC AUC"
   ]
  },
  {
   "cell_type": "code",
   "execution_count": 1261,
   "id": "c5f34eab",
   "metadata": {},
   "outputs": [
    {
     "data": {
      "text/plain": [
       "array([[660, 163],\n",
       "       [374, 277]], dtype=int64)"
      ]
     },
     "execution_count": 1261,
     "metadata": {},
     "output_type": "execute_result"
    }
   ],
   "source": [
    "from sklearn.model_selection import cross_val_predict\n",
    "from sklearn.metrics import confusion_matrix\n",
    "predictions = cross_val_predict(logreg, X_train, Y_train, cv=3)\n",
    "confusion_matrix(Y_train, predictions)"
   ]
  },
  {
   "cell_type": "markdown",
   "id": "f3118696",
   "metadata": {},
   "source": [
    "660 draft selections were correctly classified as having not played in the NHL and 163 draft selections were wrongly classified as having not played in the NHL. 374 draft selections were wrongly classified as having played in the NHL and 277 draft selections were correctly classified as having played in the NHL."
   ]
  },
  {
   "cell_type": "code",
   "execution_count": 1262,
   "id": "c7dbeb55",
   "metadata": {},
   "outputs": [
    {
     "name": "stdout",
     "output_type": "stream",
     "text": [
      "Precision: 0.6295454545454545\n",
      "Recall: 0.4254992319508449\n"
     ]
    }
   ],
   "source": [
    "from sklearn.metrics import precision_score, recall_score\n",
    "\n",
    "print(\"Precision:\", precision_score(Y_train, predictions))\n",
    "print(\"Recall:\",recall_score(Y_train, predictions))"
   ]
  },
  {
   "cell_type": "markdown",
   "id": "5f78fc24",
   "metadata": {},
   "source": [
    "Our model predicts 63% of the time that a draft selection will play in the NHL or not correctly. The model predicted that a draft selection will play in the NHL with 43% of those who actually did play. "
   ]
  },
  {
   "cell_type": "code",
   "execution_count": 1263,
   "id": "776d4221",
   "metadata": {},
   "outputs": [
    {
     "data": {
      "text/plain": [
       "0.5077910174152154"
      ]
     },
     "execution_count": 1263,
     "metadata": {},
     "output_type": "execute_result"
    }
   ],
   "source": [
    "from sklearn.metrics import f1_score\n",
    "f1_score(Y_train, predictions)"
   ]
  },
  {
   "cell_type": "markdown",
   "id": "a0972159",
   "metadata": {},
   "source": [
    "The F-score is 51% "
   ]
  },
  {
   "cell_type": "code",
   "execution_count": 1264,
   "id": "0236f3ea",
   "metadata": {},
   "outputs": [
    {
     "data": {
      "image/png": "[encoded data removed]",
      "text/plain": [
       "<Figure size 1008x504 with 1 Axes>"
      ]
     },
     "metadata": {},
     "output_type": "display_data"
    }
   ],
   "source": [
    "from sklearn.metrics import precision_recall_curve\n",
    "\n",
    "# getting the probabilities of our predictions\n",
    "y_scores = logreg.predict_proba(X_train)\n",
    "y_scores = y_scores[:,1]\n",
    "\n",
    "precision, recall, threshold = precision_recall_curve(Y_train, y_scores)\n",
    "def plot_precision_and_recall(precision, recall, threshold):\n",
    "    plt.plot(threshold, precision[:-1], \"r-\", label=\"precision\", linewidth=5)\n",
    "    plt.plot(threshold, recall[:-1], \"b\", label=\"recall\", linewidth=5)\n",
    "    plt.xlabel(\"threshold\", fontsize=19)\n",
    "    plt.legend(loc=\"upper right\", fontsize=19)\n",
    "    plt.ylim([0, 1])\n",
    "\n",
    "plt.figure(figsize=(14, 7))\n",
    "plot_precision_and_recall(precision, recall, threshold)\n",
    "plt.show()"
   ]
  },
  {
   "cell_type": "markdown",
   "id": "97e44968",
   "metadata": {},
   "source": [
    "Based on the precision recall curve, it seems like the optimal threshold is about 0.51."
   ]
  },
  {
   "cell_type": "code",
   "execution_count": 1266,
   "id": "8eb11037",
   "metadata": {},
   "outputs": [
    {
     "data": {
      "image/png": "[encoded data removed]",
      "text/plain": [
       "<Figure size 1008x504 with 1 Axes>"
      ]
     },
     "metadata": {},
     "output_type": "display_data"
    }
   ],
   "source": [
    "from sklearn.metrics import roc_curve\n",
    "# compute true positive rate and false positive rate\n",
    "false_positive_rate, true_positive_rate, thresholds = roc_curve(Y_train, y_scores)\n",
    "# plotting them against each other\n",
    "def plot_roc_curve(false_positive_rate, true_positive_rate, label=None):\n",
    "    plt.plot(false_positive_rate, true_positive_rate, linewidth=2, label=label)\n",
    "    plt.plot([0, 1], [0, 1], 'r', linewidth=4)\n",
    "    plt.axis([0, 1, 0, 1])\n",
    "    plt.xlabel('False Positive Rate (FPR)', fontsize=16)\n",
    "    plt.ylabel('True Positive Rate (TPR)', fontsize=16)\n",
    "\n",
    "plt.figure(figsize=(14, 7))\n",
    "plot_roc_curve(false_positive_rate, true_positive_rate)\n",
    "plt.show()"
   ]
  },
  {
   "cell_type": "markdown",
   "id": "d27eb08b",
   "metadata": {},
   "source": [
    "We can see that the logistic regression model does not do a great job, but it is better than just guessing. "
   ]
  },
  {
   "cell_type": "code",
   "execution_count": 1267,
   "id": "140fd5ca",
   "metadata": {},
   "outputs": [
    {
     "name": "stdout",
     "output_type": "stream",
     "text": [
      "ROC-AUC-Score: 0.6505180365565266\n"
     ]
    }
   ],
   "source": [
    "from sklearn.metrics import roc_auc_score\n",
    "r_a_score = roc_auc_score(Y_train, y_scores)\n",
    "print(\"ROC-AUC-Score:\", r_a_score)"
   ]
  },
  {
   "cell_type": "markdown",
   "id": "19a6ffe2",
   "metadata": {},
   "source": [
    "A random classifier would have a score of 0.5, so this is pretty good considering the difficulty of the problem. It is very difficult to determine if a player will have a successful NHL career from the time he is drafted. "
   ]
  },
  {
   "cell_type": "markdown",
   "id": "8c68f672",
   "metadata": {},
   "source": [
    "#### Fixing Threshold in Logistic Regression, Final Model"
   ]
  },
  {
   "cell_type": "code",
   "execution_count": 1320,
   "id": "0d82eae0",
   "metadata": {},
   "outputs": [
    {
     "data": {
      "text/html": [
       "<div>\n",
       "<style scoped>\n",
       "    .dataframe tbody tr th:only-of-type {\n",
       "        vertical-align: middle;\n",
       "    }\n",
       "\n",
       "    .dataframe tbody tr th {\n",
       "        vertical-align: top;\n",
       "    }\n",
       "\n",
       "    .dataframe thead th {\n",
       "        text-align: right;\n",
       "    }\n",
       "</style>\n",
       "<table border=\"1\" class=\"dataframe\">\n",
       "  <thead>\n",
       "    <tr style=\"text-align: right;\">\n",
       "      <th></th>\n",
       "      <th>0</th>\n",
       "    </tr>\n",
       "  </thead>\n",
       "  <tbody>\n",
       "    <tr>\n",
       "      <th>accuracy</th>\n",
       "      <td>0.620760</td>\n",
       "    </tr>\n",
       "    <tr>\n",
       "      <th>recall</th>\n",
       "      <td>0.184332</td>\n",
       "    </tr>\n",
       "    <tr>\n",
       "      <th>precision</th>\n",
       "      <td>0.810811</td>\n",
       "    </tr>\n",
       "    <tr>\n",
       "      <th>roc_auc_score</th>\n",
       "      <td>0.575155</td>\n",
       "    </tr>\n",
       "  </tbody>\n",
       "</table>\n",
       "</div>"
      ],
      "text/plain": [
       "                      0\n",
       "accuracy       0.620760\n",
       "recall         0.184332\n",
       "precision      0.810811\n",
       "roc_auc_score  0.575155"
      ]
     },
     "execution_count": 1320,
     "metadata": {},
     "output_type": "execute_result"
    }
   ],
   "source": [
    "clf = LogisticRegression(class_weight=\"balanced\")\n",
    "clf.fit(X_train, Y_train)\n",
    "THRESHOLD = 0.69\n",
    "preds = np.where(clf.predict_proba(X_train)[:,1] > THRESHOLD, 1, 0)\n",
    "\n",
    "pd.DataFrame(data=[accuracy_score(Y_train, preds), recall_score(Y_train, preds),\n",
    "                   precision_score(Y_train, preds), roc_auc_score(Y_train, preds)], \n",
    "             index=[\"accuracy\", \"recall\", \"precision\", \"roc_auc_score\"])"
   ]
  },
  {
   "cell_type": "markdown",
   "id": "b41f4a95",
   "metadata": {},
   "source": [
    "When fixing the threshold to 0.69, we get a precision of about 81%. In this project, we want the precision to be as high as possible since we would like to know whether a player will play in the NHL or not at the time they are drafted. So after fixing the threshold, we now have a model that predicts 81% of the time a draft selection plays in the NHL or not correctly.  "
   ]
  },
  {
   "cell_type": "code",
   "execution_count": 1323,
   "id": "825b64b5",
   "metadata": {},
   "outputs": [
    {
     "data": {
      "text/plain": [
       "array([[-0.17948996,  0.04258293,  0.24042815, -0.0086418 , -0.09797584,\n",
       "        -0.01760067,  0.20567971,  1.13873377, -0.37790019]])"
      ]
     },
     "execution_count": 1323,
     "metadata": {},
     "output_type": "execute_result"
    }
   ],
   "source": [
    "clf.coef_\n"
   ]
  },
  {
   "cell_type": "markdown",
   "id": "7da84182",
   "metadata": {},
   "source": [
    "As seen in the feature importance plot in random forest, we can also see that rs_A_perGP is the most important feature in logistic regression as it contributes the most, with a coefficient estimate of 1.14. This suggests that players who get more assists in their draft year have higher probability of playing in the NHL. From this analysis, it is recommended that teams target players who are tall and strong and have playmaking ability. There were also some notable results that we saw in the EDA, which also lead to further insights. There is room for improvement here as this project is very rough, and I would start with more data collection and more careful preprocessing by considering one-hot encoding and ordinal encoding for specific features. It was interesting to compare results of the machine learning models when assuming unlabelled test data and then labelled. This project was more so on the experimental side but there were some interesting results nonetheless. Another thing we could do is hyperparameter tuning on several ML models. I would also then try to improve model precision and/or accuracy by ensembling. In terms of data collection, I would be interested in seeing how useful player and puck tracking data would be for this type of project if it were available at the draft prospects level. It has recently been implemented at the NHL level. "
   ]
  },
  {
   "cell_type": "code",
   "execution_count": null,
   "id": "5143b760",
   "metadata": {},
   "outputs": [],
   "source": []
  }
 ],
 "metadata": {
  "kernelspec": {
   "display_name": "Python 3",
   "language": "python",
   "name": "python3"
  },
  "language_info": {
   "codemirror_mode": {
    "name": "ipython",
    "version": 3
   },
   "file_extension": ".py",
   "mimetype": "text/x-python",
   "name": "python",
   "nbconvert_exporter": "python",
   "pygments_lexer": "ipython3",
   "version": "3.7.1"
  }
 },
 "nbformat": 4,
 "nbformat_minor": 5
}
